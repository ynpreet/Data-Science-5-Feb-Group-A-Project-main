{
  "nbformat": 4,
  "nbformat_minor": 0,
  "metadata": {
    "colab": {
      "name": "Untitled101.ipynb",
      "provenance": []
    },
    "kernelspec": {
      "name": "python3",
      "display_name": "Python 3"
    },
    "accelerator": "GPU"
  },
  "cells": [
    {
      "cell_type": "code",
      "metadata": {
        "id": "TNgWMAPmMVWP"
      },
      "source": [
        "import pandas as pd\r\n",
        "import numpy as np\r\n",
        "import matplotlib.pyplot as plt\r\n",
        "import seaborn as sns\r\n",
        "import warnings \r\n",
        "warnings.filterwarnings('ignore')\r\n",
        "from sklearn.linear_model import Ridge\r\n",
        "from sklearn.svm import SVR"
      ],
      "execution_count": 1,
      "outputs": []
    },
    {
      "cell_type": "code",
      "metadata": {
        "id": "7zs2RcMhNpMf"
      },
      "source": [
        "Canada=pd.read_csv('Canada.csv')\r\n",
        "China=pd.read_csv('China.csv')\r\n",
        "India=pd.read_csv('India.csv')\r\n",
        "Japan=pd.read_csv('Japan.csv')\r\n",
        "Switzerland=pd.read_csv('Switzerland.csv')\r\n",
        "UK=pd.read_csv('UK.csv')\r\n",
        "Canada10=pd.read_csv('Canada10.csv')\r\n",
        "China10=pd.read_csv('China10.csv')\r\n",
        "India10=pd.read_csv('India10.csv')\r\n",
        "Japan10=pd.read_csv('Japan10.csv')\r\n",
        "Switzerland10=pd.read_csv('Switzerland10.csv')\r\n",
        "UK10=pd.read_csv('UK10.csv')\r\n",
        "Canada20=pd.read_csv('Canada20.csv')\r\n",
        "China20=pd.read_csv('China20.csv')\r\n",
        "India20=pd.read_csv('India20.csv')\r\n",
        "Japan20=pd.read_csv('Japan20.csv')\r\n",
        "Switzerland20=pd.read_csv('Switzerland20.csv')\r\n",
        "UK20=pd.read_csv('UK20.csv')\r\n",
        "Canada25=pd.read_csv('Canada25.csv')\r\n",
        "China25=pd.read_csv('China25.csv')\r\n",
        "India25=pd.read_csv('India25.csv')\r\n",
        "Japan25=pd.read_csv('Japan25.csv')\r\n",
        "Switzerland25=pd.read_csv('Switzerland25.csv')\r\n",
        "UK25=pd.read_csv('UK25.csv')\r\n",
        "Canada50=pd.read_csv('Canada50.csv')\r\n",
        "China50=pd.read_csv('China50.csv')\r\n",
        "India50=pd.read_csv('India50.csv')\r\n",
        "Japan50=pd.read_csv('Japan50.csv')\r\n",
        "Switzerland50=pd.read_csv('Switzerland50.csv')\r\n",
        "UK50=pd.read_csv('UK50.csv')\r\n"
      ],
      "execution_count": 2,
      "outputs": []
    },
    {
      "cell_type": "markdown",
      "metadata": {
        "id": "3JXvN-0nhCFI"
      },
      "source": [
        "#Feature Importance"
      ]
    },
    {
      "cell_type": "code",
      "metadata": {
        "id": "3Vw3uIOihA1p"
      },
      "source": [
        "def feature_imp():\r\n",
        "  from sklearn.ensemble import RandomForestRegressor\r\n",
        "  selection = RandomForestRegressor()\r\n",
        "  selection.fit(X, y)\r\n",
        "\r\n",
        "  #plot graph of feature importances for better visualization\r\n",
        "\r\n",
        "  plt.figure(figsize = (12,8))\r\n",
        "  feat_importances = pd.Series(selection.feature_importances_, index=X.columns)\r\n",
        "  feat_importances.nlargest(20).plot(kind='barh')\r\n",
        "  plt.show()"
      ],
      "execution_count": 3,
      "outputs": []
    },
    {
      "cell_type": "markdown",
      "metadata": {
        "id": "2KXmMUaifQ22"
      },
      "source": [
        "#1: Canada"
      ]
    },
    {
      "cell_type": "code",
      "metadata": {
        "colab": {
          "base_uri": "https://localhost:8080/",
          "height": 195
        },
        "id": "tbJK7BulOVNs",
        "outputId": "cd8fba87-a569-48ee-d6ef-86da82bcb1a6"
      },
      "source": [
        "Canada.head()"
      ],
      "execution_count": 4,
      "outputs": [
        {
          "output_type": "execute_result",
          "data": {
            "text/html": [
              "<div>\n",
              "<style scoped>\n",
              "    .dataframe tbody tr th:only-of-type {\n",
              "        vertical-align: middle;\n",
              "    }\n",
              "\n",
              "    .dataframe tbody tr th {\n",
              "        vertical-align: top;\n",
              "    }\n",
              "\n",
              "    .dataframe thead th {\n",
              "        text-align: right;\n",
              "    }\n",
              "</style>\n",
              "<table border=\"1\" class=\"dataframe\">\n",
              "  <thead>\n",
              "    <tr style=\"text-align: right;\">\n",
              "      <th></th>\n",
              "      <th>Year</th>\n",
              "      <th>PPP</th>\n",
              "      <th>Exchange</th>\n",
              "      <th>GDP</th>\n",
              "      <th>vector_1</th>\n",
              "      <th>vector_2</th>\n",
              "      <th>vector_3</th>\n",
              "      <th>vector_4</th>\n",
              "      <th>vector_5</th>\n",
              "    </tr>\n",
              "  </thead>\n",
              "  <tbody>\n",
              "    <tr>\n",
              "      <th>0</th>\n",
              "      <td>1981</td>\n",
              "      <td>1.134429</td>\n",
              "      <td>1.198903</td>\n",
              "      <td>3.060000e+11</td>\n",
              "      <td>0.100003</td>\n",
              "      <td>0.100004</td>\n",
              "      <td>0.100066</td>\n",
              "      <td>0.100020</td>\n",
              "      <td>0.599906</td>\n",
              "    </tr>\n",
              "    <tr>\n",
              "      <th>1</th>\n",
              "      <td>1982</td>\n",
              "      <td>1.162983</td>\n",
              "      <td>1.233735</td>\n",
              "      <td>3.140000e+11</td>\n",
              "      <td>0.200000</td>\n",
              "      <td>0.200000</td>\n",
              "      <td>0.200000</td>\n",
              "      <td>0.200000</td>\n",
              "      <td>0.200000</td>\n",
              "    </tr>\n",
              "    <tr>\n",
              "      <th>2</th>\n",
              "      <td>1983</td>\n",
              "      <td>1.183882</td>\n",
              "      <td>1.232412</td>\n",
              "      <td>3.410000e+11</td>\n",
              "      <td>0.092599</td>\n",
              "      <td>0.552755</td>\n",
              "      <td>0.166161</td>\n",
              "      <td>0.095321</td>\n",
              "      <td>0.093163</td>\n",
              "    </tr>\n",
              "    <tr>\n",
              "      <th>3</th>\n",
              "      <td>1984</td>\n",
              "      <td>1.183059</td>\n",
              "      <td>1.295066</td>\n",
              "      <td>3.550000e+11</td>\n",
              "      <td>0.100043</td>\n",
              "      <td>0.599702</td>\n",
              "      <td>0.100172</td>\n",
              "      <td>0.100015</td>\n",
              "      <td>0.100069</td>\n",
              "    </tr>\n",
              "    <tr>\n",
              "      <th>4</th>\n",
              "      <td>1985</td>\n",
              "      <td>1.185080</td>\n",
              "      <td>1.365507</td>\n",
              "      <td>3.650000e+11</td>\n",
              "      <td>0.082920</td>\n",
              "      <td>0.350074</td>\n",
              "      <td>0.399832</td>\n",
              "      <td>0.083997</td>\n",
              "      <td>0.083177</td>\n",
              "    </tr>\n",
              "  </tbody>\n",
              "</table>\n",
              "</div>"
            ],
            "text/plain": [
              "   Year       PPP  Exchange  ...  vector_3  vector_4  vector_5\n",
              "0  1981  1.134429  1.198903  ...  0.100066  0.100020  0.599906\n",
              "1  1982  1.162983  1.233735  ...  0.200000  0.200000  0.200000\n",
              "2  1983  1.183882  1.232412  ...  0.166161  0.095321  0.093163\n",
              "3  1984  1.183059  1.295066  ...  0.100172  0.100015  0.100069\n",
              "4  1985  1.185080  1.365507  ...  0.399832  0.083997  0.083177\n",
              "\n",
              "[5 rows x 9 columns]"
            ]
          },
          "metadata": {
            "tags": []
          },
          "execution_count": 4
        }
      ]
    },
    {
      "cell_type": "code",
      "metadata": {
        "colab": {
          "base_uri": "https://localhost:8080/",
          "height": 1000
        },
        "id": "ixcNLSP3OwfS",
        "outputId": "6f45a55b-283d-44ff-b511-d9b4acdb7f5d"
      },
      "source": [
        "X=Canada.drop('Exchange',axis=1)\r\n",
        "X"
      ],
      "execution_count": 5,
      "outputs": [
        {
          "output_type": "execute_result",
          "data": {
            "text/html": [
              "<div>\n",
              "<style scoped>\n",
              "    .dataframe tbody tr th:only-of-type {\n",
              "        vertical-align: middle;\n",
              "    }\n",
              "\n",
              "    .dataframe tbody tr th {\n",
              "        vertical-align: top;\n",
              "    }\n",
              "\n",
              "    .dataframe thead th {\n",
              "        text-align: right;\n",
              "    }\n",
              "</style>\n",
              "<table border=\"1\" class=\"dataframe\">\n",
              "  <thead>\n",
              "    <tr style=\"text-align: right;\">\n",
              "      <th></th>\n",
              "      <th>Year</th>\n",
              "      <th>PPP</th>\n",
              "      <th>GDP</th>\n",
              "      <th>vector_1</th>\n",
              "      <th>vector_2</th>\n",
              "      <th>vector_3</th>\n",
              "      <th>vector_4</th>\n",
              "      <th>vector_5</th>\n",
              "    </tr>\n",
              "  </thead>\n",
              "  <tbody>\n",
              "    <tr>\n",
              "      <th>0</th>\n",
              "      <td>1981</td>\n",
              "      <td>1.134429</td>\n",
              "      <td>3.060000e+11</td>\n",
              "      <td>0.100003</td>\n",
              "      <td>0.100004</td>\n",
              "      <td>0.100066</td>\n",
              "      <td>0.100020</td>\n",
              "      <td>0.599906</td>\n",
              "    </tr>\n",
              "    <tr>\n",
              "      <th>1</th>\n",
              "      <td>1982</td>\n",
              "      <td>1.162983</td>\n",
              "      <td>3.140000e+11</td>\n",
              "      <td>0.200000</td>\n",
              "      <td>0.200000</td>\n",
              "      <td>0.200000</td>\n",
              "      <td>0.200000</td>\n",
              "      <td>0.200000</td>\n",
              "    </tr>\n",
              "    <tr>\n",
              "      <th>2</th>\n",
              "      <td>1983</td>\n",
              "      <td>1.183882</td>\n",
              "      <td>3.410000e+11</td>\n",
              "      <td>0.092599</td>\n",
              "      <td>0.552755</td>\n",
              "      <td>0.166161</td>\n",
              "      <td>0.095321</td>\n",
              "      <td>0.093163</td>\n",
              "    </tr>\n",
              "    <tr>\n",
              "      <th>3</th>\n",
              "      <td>1984</td>\n",
              "      <td>1.183059</td>\n",
              "      <td>3.550000e+11</td>\n",
              "      <td>0.100043</td>\n",
              "      <td>0.599702</td>\n",
              "      <td>0.100172</td>\n",
              "      <td>0.100015</td>\n",
              "      <td>0.100069</td>\n",
              "    </tr>\n",
              "    <tr>\n",
              "      <th>4</th>\n",
              "      <td>1985</td>\n",
              "      <td>1.185080</td>\n",
              "      <td>3.650000e+11</td>\n",
              "      <td>0.082920</td>\n",
              "      <td>0.350074</td>\n",
              "      <td>0.399832</td>\n",
              "      <td>0.083997</td>\n",
              "      <td>0.083177</td>\n",
              "    </tr>\n",
              "    <tr>\n",
              "      <th>5</th>\n",
              "      <td>1986</td>\n",
              "      <td>1.197798</td>\n",
              "      <td>3.770000e+11</td>\n",
              "      <td>0.100043</td>\n",
              "      <td>0.599706</td>\n",
              "      <td>0.100168</td>\n",
              "      <td>0.100014</td>\n",
              "      <td>0.100069</td>\n",
              "    </tr>\n",
              "    <tr>\n",
              "      <th>6</th>\n",
              "      <td>1987</td>\n",
              "      <td>1.224895</td>\n",
              "      <td>4.310000e+11</td>\n",
              "      <td>0.200000</td>\n",
              "      <td>0.200000</td>\n",
              "      <td>0.200000</td>\n",
              "      <td>0.200000</td>\n",
              "      <td>0.200000</td>\n",
              "    </tr>\n",
              "    <tr>\n",
              "      <th>7</th>\n",
              "      <td>1988</td>\n",
              "      <td>1.236884</td>\n",
              "      <td>5.070000e+11</td>\n",
              "      <td>0.100043</td>\n",
              "      <td>0.599704</td>\n",
              "      <td>0.100169</td>\n",
              "      <td>0.100014</td>\n",
              "      <td>0.100069</td>\n",
              "    </tr>\n",
              "    <tr>\n",
              "      <th>8</th>\n",
              "      <td>1989</td>\n",
              "      <td>1.246188</td>\n",
              "      <td>5.650000e+11</td>\n",
              "      <td>0.267549</td>\n",
              "      <td>0.082896</td>\n",
              "      <td>0.482542</td>\n",
              "      <td>0.083702</td>\n",
              "      <td>0.083311</td>\n",
              "    </tr>\n",
              "    <tr>\n",
              "      <th>9</th>\n",
              "      <td>1990</td>\n",
              "      <td>1.241965</td>\n",
              "      <td>5.940000e+11</td>\n",
              "      <td>0.200000</td>\n",
              "      <td>0.200000</td>\n",
              "      <td>0.200000</td>\n",
              "      <td>0.200000</td>\n",
              "      <td>0.200000</td>\n",
              "    </tr>\n",
              "    <tr>\n",
              "      <th>10</th>\n",
              "      <td>1991</td>\n",
              "      <td>1.237998</td>\n",
              "      <td>6.100000e+11</td>\n",
              "      <td>0.200000</td>\n",
              "      <td>0.200000</td>\n",
              "      <td>0.200000</td>\n",
              "      <td>0.200000</td>\n",
              "      <td>0.200000</td>\n",
              "    </tr>\n",
              "    <tr>\n",
              "      <th>11</th>\n",
              "      <td>1992</td>\n",
              "      <td>1.228098</td>\n",
              "      <td>5.920000e+11</td>\n",
              "      <td>0.100003</td>\n",
              "      <td>0.100004</td>\n",
              "      <td>0.100066</td>\n",
              "      <td>0.100020</td>\n",
              "      <td>0.599907</td>\n",
              "    </tr>\n",
              "    <tr>\n",
              "      <th>12</th>\n",
              "      <td>1993</td>\n",
              "      <td>1.215102</td>\n",
              "      <td>5.770000e+11</td>\n",
              "      <td>0.077464</td>\n",
              "      <td>0.073236</td>\n",
              "      <td>0.230987</td>\n",
              "      <td>0.077500</td>\n",
              "      <td>0.540812</td>\n",
              "    </tr>\n",
              "    <tr>\n",
              "      <th>13</th>\n",
              "      <td>1994</td>\n",
              "      <td>1.207010</td>\n",
              "      <td>5.780000e+11</td>\n",
              "      <td>0.599077</td>\n",
              "      <td>0.100005</td>\n",
              "      <td>0.100662</td>\n",
              "      <td>0.100023</td>\n",
              "      <td>0.100233</td>\n",
              "    </tr>\n",
              "    <tr>\n",
              "      <th>14</th>\n",
              "      <td>1995</td>\n",
              "      <td>1.208841</td>\n",
              "      <td>6.040000e+11</td>\n",
              "      <td>0.088975</td>\n",
              "      <td>0.085419</td>\n",
              "      <td>0.085452</td>\n",
              "      <td>0.087372</td>\n",
              "      <td>0.652782</td>\n",
              "    </tr>\n",
              "    <tr>\n",
              "      <th>15</th>\n",
              "      <td>1996</td>\n",
              "      <td>1.207821</td>\n",
              "      <td>6.290000e+11</td>\n",
              "      <td>0.151969</td>\n",
              "      <td>0.153923</td>\n",
              "      <td>0.074708</td>\n",
              "      <td>0.074724</td>\n",
              "      <td>0.544675</td>\n",
              "    </tr>\n",
              "    <tr>\n",
              "      <th>16</th>\n",
              "      <td>1997</td>\n",
              "      <td>1.200974</td>\n",
              "      <td>6.530000e+11</td>\n",
              "      <td>0.666820</td>\n",
              "      <td>0.082881</td>\n",
              "      <td>0.083114</td>\n",
              "      <td>0.083779</td>\n",
              "      <td>0.083406</td>\n",
              "    </tr>\n",
              "    <tr>\n",
              "      <th>17</th>\n",
              "      <td>1998</td>\n",
              "      <td>1.185448</td>\n",
              "      <td>6.320000e+11</td>\n",
              "      <td>0.200000</td>\n",
              "      <td>0.200000</td>\n",
              "      <td>0.200000</td>\n",
              "      <td>0.200000</td>\n",
              "      <td>0.200000</td>\n",
              "    </tr>\n",
              "    <tr>\n",
              "      <th>18</th>\n",
              "      <td>1999</td>\n",
              "      <td>1.190810</td>\n",
              "      <td>6.760000e+11</td>\n",
              "      <td>0.100004</td>\n",
              "      <td>0.100023</td>\n",
              "      <td>0.598393</td>\n",
              "      <td>0.101306</td>\n",
              "      <td>0.100275</td>\n",
              "    </tr>\n",
              "    <tr>\n",
              "      <th>19</th>\n",
              "      <td>2000</td>\n",
              "      <td>1.227563</td>\n",
              "      <td>7.420000e+11</td>\n",
              "      <td>0.079377</td>\n",
              "      <td>0.207023</td>\n",
              "      <td>0.076489</td>\n",
              "      <td>0.077989</td>\n",
              "      <td>0.559122</td>\n",
              "    </tr>\n",
              "    <tr>\n",
              "      <th>20</th>\n",
              "      <td>2001</td>\n",
              "      <td>1.221139</td>\n",
              "      <td>7.360000e+11</td>\n",
              "      <td>0.100003</td>\n",
              "      <td>0.100004</td>\n",
              "      <td>0.100066</td>\n",
              "      <td>0.100020</td>\n",
              "      <td>0.599907</td>\n",
              "    </tr>\n",
              "    <tr>\n",
              "      <th>21</th>\n",
              "      <td>2002</td>\n",
              "      <td>1.229333</td>\n",
              "      <td>7.580000e+11</td>\n",
              "      <td>0.093425</td>\n",
              "      <td>0.080196</td>\n",
              "      <td>0.102873</td>\n",
              "      <td>0.082508</td>\n",
              "      <td>0.640998</td>\n",
              "    </tr>\n",
              "    <tr>\n",
              "      <th>22</th>\n",
              "      <td>2003</td>\n",
              "      <td>1.226338</td>\n",
              "      <td>8.920000e+11</td>\n",
              "      <td>0.082981</td>\n",
              "      <td>0.076759</td>\n",
              "      <td>0.098497</td>\n",
              "      <td>0.079952</td>\n",
              "      <td>0.661811</td>\n",
              "    </tr>\n",
              "    <tr>\n",
              "      <th>23</th>\n",
              "      <td>2004</td>\n",
              "      <td>1.233195</td>\n",
              "      <td>1.020000e+12</td>\n",
              "      <td>0.082920</td>\n",
              "      <td>0.358420</td>\n",
              "      <td>0.083097</td>\n",
              "      <td>0.082907</td>\n",
              "      <td>0.392656</td>\n",
              "    </tr>\n",
              "    <tr>\n",
              "      <th>24</th>\n",
              "      <td>2005</td>\n",
              "      <td>1.213644</td>\n",
              "      <td>1.170000e+12</td>\n",
              "      <td>0.100004</td>\n",
              "      <td>0.100023</td>\n",
              "      <td>0.598410</td>\n",
              "      <td>0.101290</td>\n",
              "      <td>0.100275</td>\n",
              "    </tr>\n",
              "    <tr>\n",
              "      <th>25</th>\n",
              "      <td>2006</td>\n",
              "      <td>1.205778</td>\n",
              "      <td>1.320000e+12</td>\n",
              "      <td>0.200000</td>\n",
              "      <td>0.200000</td>\n",
              "      <td>0.200000</td>\n",
              "      <td>0.200000</td>\n",
              "      <td>0.200000</td>\n",
              "    </tr>\n",
              "    <tr>\n",
              "      <th>26</th>\n",
              "      <td>2007</td>\n",
              "      <td>1.212706</td>\n",
              "      <td>1.460000e+12</td>\n",
              "      <td>0.100043</td>\n",
              "      <td>0.599705</td>\n",
              "      <td>0.100169</td>\n",
              "      <td>0.100014</td>\n",
              "      <td>0.100069</td>\n",
              "    </tr>\n",
              "    <tr>\n",
              "      <th>27</th>\n",
              "      <td>2008</td>\n",
              "      <td>1.234390</td>\n",
              "      <td>1.550000e+12</td>\n",
              "      <td>0.599080</td>\n",
              "      <td>0.100005</td>\n",
              "      <td>0.100659</td>\n",
              "      <td>0.100023</td>\n",
              "      <td>0.100233</td>\n",
              "    </tr>\n",
              "    <tr>\n",
              "      <th>28</th>\n",
              "      <td>2009</td>\n",
              "      <td>1.201369</td>\n",
              "      <td>1.370000e+12</td>\n",
              "      <td>0.666814</td>\n",
              "      <td>0.082881</td>\n",
              "      <td>0.083114</td>\n",
              "      <td>0.083784</td>\n",
              "      <td>0.083406</td>\n",
              "    </tr>\n",
              "    <tr>\n",
              "      <th>29</th>\n",
              "      <td>2010</td>\n",
              "      <td>1.221371</td>\n",
              "      <td>1.610000e+12</td>\n",
              "      <td>0.666819</td>\n",
              "      <td>0.082881</td>\n",
              "      <td>0.083114</td>\n",
              "      <td>0.083779</td>\n",
              "      <td>0.083406</td>\n",
              "    </tr>\n",
              "    <tr>\n",
              "      <th>30</th>\n",
              "      <td>2011</td>\n",
              "      <td>1.239904</td>\n",
              "      <td>1.790000e+12</td>\n",
              "      <td>0.100004</td>\n",
              "      <td>0.100023</td>\n",
              "      <td>0.598416</td>\n",
              "      <td>0.101283</td>\n",
              "      <td>0.100274</td>\n",
              "    </tr>\n",
              "    <tr>\n",
              "      <th>31</th>\n",
              "      <td>2012</td>\n",
              "      <td>1.244607</td>\n",
              "      <td>1.830000e+12</td>\n",
              "      <td>0.100004</td>\n",
              "      <td>0.100023</td>\n",
              "      <td>0.598395</td>\n",
              "      <td>0.101305</td>\n",
              "      <td>0.100275</td>\n",
              "    </tr>\n",
              "    <tr>\n",
              "      <th>32</th>\n",
              "      <td>2013</td>\n",
              "      <td>1.224000</td>\n",
              "      <td>1.850000e+12</td>\n",
              "      <td>0.599083</td>\n",
              "      <td>0.100005</td>\n",
              "      <td>0.100655</td>\n",
              "      <td>0.100023</td>\n",
              "      <td>0.100233</td>\n",
              "    </tr>\n",
              "    <tr>\n",
              "      <th>33</th>\n",
              "      <td>2014</td>\n",
              "      <td>1.230358</td>\n",
              "      <td>1.800000e+12</td>\n",
              "      <td>0.200000</td>\n",
              "      <td>0.200000</td>\n",
              "      <td>0.200000</td>\n",
              "      <td>0.200000</td>\n",
              "      <td>0.200000</td>\n",
              "    </tr>\n",
              "    <tr>\n",
              "      <th>34</th>\n",
              "      <td>2015</td>\n",
              "      <td>1.248042</td>\n",
              "      <td>1.560000e+12</td>\n",
              "      <td>0.596414</td>\n",
              "      <td>0.100008</td>\n",
              "      <td>0.100008</td>\n",
              "      <td>0.102422</td>\n",
              "      <td>0.101148</td>\n",
              "    </tr>\n",
              "    <tr>\n",
              "      <th>35</th>\n",
              "      <td>2016</td>\n",
              "      <td>1.207045</td>\n",
              "      <td>1.530000e+12</td>\n",
              "      <td>0.200000</td>\n",
              "      <td>0.200000</td>\n",
              "      <td>0.200000</td>\n",
              "      <td>0.200000</td>\n",
              "      <td>0.200000</td>\n",
              "    </tr>\n",
              "    <tr>\n",
              "      <th>36</th>\n",
              "      <td>2017</td>\n",
              "      <td>1.212304</td>\n",
              "      <td>1.650000e+12</td>\n",
              "      <td>0.100043</td>\n",
              "      <td>0.599705</td>\n",
              "      <td>0.100169</td>\n",
              "      <td>0.100014</td>\n",
              "      <td>0.100069</td>\n",
              "    </tr>\n",
              "    <tr>\n",
              "      <th>37</th>\n",
              "      <td>2018</td>\n",
              "      <td>1.198165</td>\n",
              "      <td>1.720000e+12</td>\n",
              "      <td>0.506295</td>\n",
              "      <td>0.272260</td>\n",
              "      <td>0.073604</td>\n",
              "      <td>0.074063</td>\n",
              "      <td>0.073779</td>\n",
              "    </tr>\n",
              "  </tbody>\n",
              "</table>\n",
              "</div>"
            ],
            "text/plain": [
              "    Year       PPP           GDP  ...  vector_3  vector_4  vector_5\n",
              "0   1981  1.134429  3.060000e+11  ...  0.100066  0.100020  0.599906\n",
              "1   1982  1.162983  3.140000e+11  ...  0.200000  0.200000  0.200000\n",
              "2   1983  1.183882  3.410000e+11  ...  0.166161  0.095321  0.093163\n",
              "3   1984  1.183059  3.550000e+11  ...  0.100172  0.100015  0.100069\n",
              "4   1985  1.185080  3.650000e+11  ...  0.399832  0.083997  0.083177\n",
              "5   1986  1.197798  3.770000e+11  ...  0.100168  0.100014  0.100069\n",
              "6   1987  1.224895  4.310000e+11  ...  0.200000  0.200000  0.200000\n",
              "7   1988  1.236884  5.070000e+11  ...  0.100169  0.100014  0.100069\n",
              "8   1989  1.246188  5.650000e+11  ...  0.482542  0.083702  0.083311\n",
              "9   1990  1.241965  5.940000e+11  ...  0.200000  0.200000  0.200000\n",
              "10  1991  1.237998  6.100000e+11  ...  0.200000  0.200000  0.200000\n",
              "11  1992  1.228098  5.920000e+11  ...  0.100066  0.100020  0.599907\n",
              "12  1993  1.215102  5.770000e+11  ...  0.230987  0.077500  0.540812\n",
              "13  1994  1.207010  5.780000e+11  ...  0.100662  0.100023  0.100233\n",
              "14  1995  1.208841  6.040000e+11  ...  0.085452  0.087372  0.652782\n",
              "15  1996  1.207821  6.290000e+11  ...  0.074708  0.074724  0.544675\n",
              "16  1997  1.200974  6.530000e+11  ...  0.083114  0.083779  0.083406\n",
              "17  1998  1.185448  6.320000e+11  ...  0.200000  0.200000  0.200000\n",
              "18  1999  1.190810  6.760000e+11  ...  0.598393  0.101306  0.100275\n",
              "19  2000  1.227563  7.420000e+11  ...  0.076489  0.077989  0.559122\n",
              "20  2001  1.221139  7.360000e+11  ...  0.100066  0.100020  0.599907\n",
              "21  2002  1.229333  7.580000e+11  ...  0.102873  0.082508  0.640998\n",
              "22  2003  1.226338  8.920000e+11  ...  0.098497  0.079952  0.661811\n",
              "23  2004  1.233195  1.020000e+12  ...  0.083097  0.082907  0.392656\n",
              "24  2005  1.213644  1.170000e+12  ...  0.598410  0.101290  0.100275\n",
              "25  2006  1.205778  1.320000e+12  ...  0.200000  0.200000  0.200000\n",
              "26  2007  1.212706  1.460000e+12  ...  0.100169  0.100014  0.100069\n",
              "27  2008  1.234390  1.550000e+12  ...  0.100659  0.100023  0.100233\n",
              "28  2009  1.201369  1.370000e+12  ...  0.083114  0.083784  0.083406\n",
              "29  2010  1.221371  1.610000e+12  ...  0.083114  0.083779  0.083406\n",
              "30  2011  1.239904  1.790000e+12  ...  0.598416  0.101283  0.100274\n",
              "31  2012  1.244607  1.830000e+12  ...  0.598395  0.101305  0.100275\n",
              "32  2013  1.224000  1.850000e+12  ...  0.100655  0.100023  0.100233\n",
              "33  2014  1.230358  1.800000e+12  ...  0.200000  0.200000  0.200000\n",
              "34  2015  1.248042  1.560000e+12  ...  0.100008  0.102422  0.101148\n",
              "35  2016  1.207045  1.530000e+12  ...  0.200000  0.200000  0.200000\n",
              "36  2017  1.212304  1.650000e+12  ...  0.100169  0.100014  0.100069\n",
              "37  2018  1.198165  1.720000e+12  ...  0.073604  0.074063  0.073779\n",
              "\n",
              "[38 rows x 8 columns]"
            ]
          },
          "metadata": {
            "tags": []
          },
          "execution_count": 5
        }
      ]
    },
    {
      "cell_type": "code",
      "metadata": {
        "colab": {
          "base_uri": "https://localhost:8080/"
        },
        "id": "yKbCWKkDPA7O",
        "outputId": "9aa16eca-40a3-46bb-b767-e77b938c559e"
      },
      "source": [
        "y=Canada['Exchange']\r\n",
        "y"
      ],
      "execution_count": 6,
      "outputs": [
        {
          "output_type": "execute_result",
          "data": {
            "text/plain": [
              "0     1.198903\n",
              "1     1.233735\n",
              "2     1.232412\n",
              "3     1.295066\n",
              "4     1.365507\n",
              "5     1.389471\n",
              "6     1.325983\n",
              "7     1.230701\n",
              "8     1.183972\n",
              "9     1.166774\n",
              "10    1.145726\n",
              "11    1.208723\n",
              "12    1.290088\n",
              "13    1.365673\n",
              "14    1.372445\n",
              "15    1.363522\n",
              "16    1.384598\n",
              "17    1.483505\n",
              "18    1.485705\n",
              "19    1.485394\n",
              "20    1.548840\n",
              "21    1.570343\n",
              "22    1.401015\n",
              "23    1.301282\n",
              "24    1.211405\n",
              "25    1.134345\n",
              "26    1.074046\n",
              "27    1.067087\n",
              "28    1.141535\n",
              "29    1.030113\n",
              "30    0.989258\n",
              "31    0.999365\n",
              "32    1.030137\n",
              "33    1.104747\n",
              "34    1.278786\n",
              "35    1.325615\n",
              "36    1.297936\n",
              "37    1.295818\n",
              "Name: Exchange, dtype: float64"
            ]
          },
          "metadata": {
            "tags": []
          },
          "execution_count": 6
        }
      ]
    },
    {
      "cell_type": "code",
      "metadata": {
        "id": "Dq20SgaOyjoB"
      },
      "source": [
        ""
      ],
      "execution_count": 6,
      "outputs": []
    },
    {
      "cell_type": "code",
      "metadata": {
        "id": "di_uMhIKykCg"
      },
      "source": [
        "from sklearn.model_selection import train_test_split"
      ],
      "execution_count": 7,
      "outputs": []
    },
    {
      "cell_type": "code",
      "metadata": {
        "colab": {
          "base_uri": "https://localhost:8080/"
        },
        "id": "yecr_-ZxykCi",
        "outputId": "b592e2d9-7cb9-4582-df5f-93a71efebb24"
      },
      "source": [
        "X_train,X_test,y_train,y_test=train_test_split(X,y,test_size=0.2)\r\n",
        "X_test.shape"
      ],
      "execution_count": 8,
      "outputs": [
        {
          "output_type": "execute_result",
          "data": {
            "text/plain": [
              "(8, 8)"
            ]
          },
          "metadata": {
            "tags": []
          },
          "execution_count": 8
        }
      ]
    },
    {
      "cell_type": "code",
      "metadata": {
        "colab": {
          "base_uri": "https://localhost:8080/"
        },
        "id": "_-U_u_0gykCm",
        "outputId": "04dc9bd9-e42a-42c0-c478-1e27bf0894e8"
      },
      "source": [
        "y_test"
      ],
      "execution_count": 9,
      "outputs": [
        {
          "output_type": "execute_result",
          "data": {
            "text/plain": [
              "32    1.030137\n",
              "1     1.233735\n",
              "10    1.145726\n",
              "8     1.183972\n",
              "23    1.301282\n",
              "9     1.166774\n",
              "16    1.384598\n",
              "21    1.570343\n",
              "Name: Exchange, dtype: float64"
            ]
          },
          "metadata": {
            "tags": []
          },
          "execution_count": 9
        }
      ]
    },
    {
      "cell_type": "code",
      "metadata": {
        "id": "NKP1GYRXykCn"
      },
      "source": [
        "from sklearn import metrics\r\n",
        "\r\n",
        "##dump your model using pickle so that we will re-use\r\n",
        "import pickle\r\n",
        "def predict(ml_model):\r\n",
        "    \r\n",
        "    model=ml_model.fit(X_train,y_train)\r\n",
        "    print('Training score : {}'.format(model.score(X_train,y_train)))\r\n",
        "    y_prediction=model.predict(X_test)\r\n",
        "    print('predictions are: \\n {}'.format(y_prediction))\r\n",
        "    #print('Actual are: \\n {}'.format(y_test))\r\n",
        "    print('\\n')\r\n",
        "    sns.distplot(y_test-y_prediction)\r\n",
        "    actual=list(y_test)\r\n",
        "    #dff=pd.DataFrame()\r\n",
        "    #dff['error']= metrics.mean_absolute_error(y_test,y_prediction)\r\n",
        "    errr = [((y_prediction[i]-actual[i])/(actual[i])) for i in range(0,len(y_test))]\r\n",
        "    print(errr)\r\n",
        "    return errr\r\n",
        "\r\n",
        "    \r\n",
        "    "
      ],
      "execution_count": 10,
      "outputs": []
    },
    {
      "cell_type": "code",
      "metadata": {
        "id": "ZGFuz-QFyyLW",
        "outputId": "45b3fadc-7520-4a66-dd41-2d576fa95ee5",
        "colab": {
          "base_uri": "https://localhost:8080/",
          "height": 397
        }
      },
      "source": [
        "from sklearn.linear_model import LinearRegression\r\n",
        "a=predict(LinearRegression())\r\n"
      ],
      "execution_count": 11,
      "outputs": [
        {
          "output_type": "stream",
          "text": [
            "Training score : 0.9119230506755203\n",
            "predictions are: \n",
            " [0.95452744 1.23032906 1.27219436 1.2333756  1.35718739 1.25200864\n",
            " 1.40202348 1.4753117 ]\n",
            "\n",
            "\n",
            "[-0.07339790082956542, -0.002760598980573279, 0.11038287460123733, 0.04172692914150956, 0.04296210744325609, 0.07305188540672652, 0.012585207813891294, -0.06051617026740367]\n"
          ],
          "name": "stdout"
        },
        {
          "output_type": "display_data",
          "data": {
            "image/png": "[encoded data removed]",
            "text/plain": [
              "<Figure size 432x288 with 1 Axes>"
            ]
          },
          "metadata": {
            "tags": [],
            "needs_background": "light"
          }
        }
      ]
    },
    {
      "cell_type": "code",
      "metadata": {
        "colab": {
          "base_uri": "https://localhost:8080/"
        },
        "id": "cTwk8LkRykCq",
        "outputId": "2e22c4d5-840f-4720-c4ad-66941f467a58"
      },
      "source": [
        "a"
      ],
      "execution_count": 12,
      "outputs": [
        {
          "output_type": "execute_result",
          "data": {
            "text/plain": [
              "[-0.07339790082956542,\n",
              " -0.002760598980573279,\n",
              " 0.11038287460123733,\n",
              " 0.04172692914150956,\n",
              " 0.04296210744325609,\n",
              " 0.07305188540672652,\n",
              " 0.012585207813891294,\n",
              " -0.06051617026740367]"
            ]
          },
          "metadata": {
            "tags": []
          },
          "execution_count": 12
        }
      ]
    },
    {
      "cell_type": "code",
      "metadata": {
        "colab": {
          "base_uri": "https://localhost:8080/",
          "height": 284
        },
        "id": "NI1tzq0kykCr",
        "outputId": "da8a8e22-b191-4bc9-eb5b-605839cbe621"
      },
      "source": [
        "df30=pd.DataFrame()\r\n",
        "df30['error']= a\r\n",
        "df30.loc[:,'k'] = '5'\r\n",
        "df30"
      ],
      "execution_count": 13,
      "outputs": [
        {
          "output_type": "execute_result",
          "data": {
            "text/html": [
              "<div>\n",
              "<style scoped>\n",
              "    .dataframe tbody tr th:only-of-type {\n",
              "        vertical-align: middle;\n",
              "    }\n",
              "\n",
              "    .dataframe tbody tr th {\n",
              "        vertical-align: top;\n",
              "    }\n",
              "\n",
              "    .dataframe thead th {\n",
              "        text-align: right;\n",
              "    }\n",
              "</style>\n",
              "<table border=\"1\" class=\"dataframe\">\n",
              "  <thead>\n",
              "    <tr style=\"text-align: right;\">\n",
              "      <th></th>\n",
              "      <th>error</th>\n",
              "      <th>k</th>\n",
              "    </tr>\n",
              "  </thead>\n",
              "  <tbody>\n",
              "    <tr>\n",
              "      <th>0</th>\n",
              "      <td>-0.073398</td>\n",
              "      <td>5</td>\n",
              "    </tr>\n",
              "    <tr>\n",
              "      <th>1</th>\n",
              "      <td>-0.002761</td>\n",
              "      <td>5</td>\n",
              "    </tr>\n",
              "    <tr>\n",
              "      <th>2</th>\n",
              "      <td>0.110383</td>\n",
              "      <td>5</td>\n",
              "    </tr>\n",
              "    <tr>\n",
              "      <th>3</th>\n",
              "      <td>0.041727</td>\n",
              "      <td>5</td>\n",
              "    </tr>\n",
              "    <tr>\n",
              "      <th>4</th>\n",
              "      <td>0.042962</td>\n",
              "      <td>5</td>\n",
              "    </tr>\n",
              "    <tr>\n",
              "      <th>5</th>\n",
              "      <td>0.073052</td>\n",
              "      <td>5</td>\n",
              "    </tr>\n",
              "    <tr>\n",
              "      <th>6</th>\n",
              "      <td>0.012585</td>\n",
              "      <td>5</td>\n",
              "    </tr>\n",
              "    <tr>\n",
              "      <th>7</th>\n",
              "      <td>-0.060516</td>\n",
              "      <td>5</td>\n",
              "    </tr>\n",
              "  </tbody>\n",
              "</table>\n",
              "</div>"
            ],
            "text/plain": [
              "      error  k\n",
              "0 -0.073398  5\n",
              "1 -0.002761  5\n",
              "2  0.110383  5\n",
              "3  0.041727  5\n",
              "4  0.042962  5\n",
              "5  0.073052  5\n",
              "6  0.012585  5\n",
              "7 -0.060516  5"
            ]
          },
          "metadata": {
            "tags": []
          },
          "execution_count": 13
        }
      ]
    },
    {
      "cell_type": "code",
      "metadata": {
        "id": "P2yrGmZn4QLy",
        "outputId": "53cc94d6-133a-43bd-94ee-f0d59b391712",
        "colab": {
          "base_uri": "https://localhost:8080/",
          "height": 195
        }
      },
      "source": [
        "Canada10.head()"
      ],
      "execution_count": 14,
      "outputs": [
        {
          "output_type": "execute_result",
          "data": {
            "text/html": [
              "<div>\n",
              "<style scoped>\n",
              "    .dataframe tbody tr th:only-of-type {\n",
              "        vertical-align: middle;\n",
              "    }\n",
              "\n",
              "    .dataframe tbody tr th {\n",
              "        vertical-align: top;\n",
              "    }\n",
              "\n",
              "    .dataframe thead th {\n",
              "        text-align: right;\n",
              "    }\n",
              "</style>\n",
              "<table border=\"1\" class=\"dataframe\">\n",
              "  <thead>\n",
              "    <tr style=\"text-align: right;\">\n",
              "      <th></th>\n",
              "      <th>Year</th>\n",
              "      <th>PPP</th>\n",
              "      <th>Exchange</th>\n",
              "      <th>GDP</th>\n",
              "      <th>vector_1</th>\n",
              "      <th>vector_2</th>\n",
              "      <th>vector_3</th>\n",
              "      <th>vector_4</th>\n",
              "      <th>vector_5</th>\n",
              "      <th>vector_6</th>\n",
              "      <th>vector_7</th>\n",
              "      <th>vector_8</th>\n",
              "      <th>vector_9</th>\n",
              "      <th>vector_10</th>\n",
              "    </tr>\n",
              "  </thead>\n",
              "  <tbody>\n",
              "    <tr>\n",
              "      <th>0</th>\n",
              "      <td>1981</td>\n",
              "      <td>1.134429</td>\n",
              "      <td>1.198903</td>\n",
              "      <td>3.060000e+11</td>\n",
              "      <td>0.050000</td>\n",
              "      <td>0.05000</td>\n",
              "      <td>0.050000</td>\n",
              "      <td>0.549967</td>\n",
              "      <td>0.050021</td>\n",
              "      <td>0.050008</td>\n",
              "      <td>0.050004</td>\n",
              "      <td>0.050000</td>\n",
              "      <td>0.050000</td>\n",
              "      <td>0.050000</td>\n",
              "    </tr>\n",
              "    <tr>\n",
              "      <th>1</th>\n",
              "      <td>1982</td>\n",
              "      <td>1.162983</td>\n",
              "      <td>1.233735</td>\n",
              "      <td>3.140000e+11</td>\n",
              "      <td>0.100000</td>\n",
              "      <td>0.10000</td>\n",
              "      <td>0.100000</td>\n",
              "      <td>0.100000</td>\n",
              "      <td>0.100000</td>\n",
              "      <td>0.100000</td>\n",
              "      <td>0.100000</td>\n",
              "      <td>0.100000</td>\n",
              "      <td>0.100000</td>\n",
              "      <td>0.100000</td>\n",
              "    </tr>\n",
              "    <tr>\n",
              "      <th>2</th>\n",
              "      <td>1983</td>\n",
              "      <td>1.183882</td>\n",
              "      <td>1.232412</td>\n",
              "      <td>3.410000e+11</td>\n",
              "      <td>0.046312</td>\n",
              "      <td>0.04629</td>\n",
              "      <td>0.046276</td>\n",
              "      <td>0.046283</td>\n",
              "      <td>0.046282</td>\n",
              "      <td>0.046276</td>\n",
              "      <td>0.046279</td>\n",
              "      <td>0.046276</td>\n",
              "      <td>0.583187</td>\n",
              "      <td>0.046538</td>\n",
              "    </tr>\n",
              "    <tr>\n",
              "      <th>3</th>\n",
              "      <td>1984</td>\n",
              "      <td>1.183059</td>\n",
              "      <td>1.295066</td>\n",
              "      <td>3.550000e+11</td>\n",
              "      <td>0.050000</td>\n",
              "      <td>0.05000</td>\n",
              "      <td>0.050000</td>\n",
              "      <td>0.050005</td>\n",
              "      <td>0.050000</td>\n",
              "      <td>0.050000</td>\n",
              "      <td>0.050000</td>\n",
              "      <td>0.050000</td>\n",
              "      <td>0.549995</td>\n",
              "      <td>0.050000</td>\n",
              "    </tr>\n",
              "    <tr>\n",
              "      <th>4</th>\n",
              "      <td>1985</td>\n",
              "      <td>1.185080</td>\n",
              "      <td>1.365507</td>\n",
              "      <td>3.650000e+11</td>\n",
              "      <td>0.041443</td>\n",
              "      <td>0.04144</td>\n",
              "      <td>0.041438</td>\n",
              "      <td>0.041443</td>\n",
              "      <td>0.041439</td>\n",
              "      <td>0.041438</td>\n",
              "      <td>0.041438</td>\n",
              "      <td>0.041438</td>\n",
              "      <td>0.328518</td>\n",
              "      <td>0.339964</td>\n",
              "    </tr>\n",
              "  </tbody>\n",
              "</table>\n",
              "</div>"
            ],
            "text/plain": [
              "   Year       PPP  Exchange  ...  vector_8  vector_9  vector_10\n",
              "0  1981  1.134429  1.198903  ...  0.050000  0.050000   0.050000\n",
              "1  1982  1.162983  1.233735  ...  0.100000  0.100000   0.100000\n",
              "2  1983  1.183882  1.232412  ...  0.046276  0.583187   0.046538\n",
              "3  1984  1.183059  1.295066  ...  0.050000  0.549995   0.050000\n",
              "4  1985  1.185080  1.365507  ...  0.041438  0.328518   0.339964\n",
              "\n",
              "[5 rows x 14 columns]"
            ]
          },
          "metadata": {
            "tags": []
          },
          "execution_count": 14
        }
      ]
    },
    {
      "cell_type": "code",
      "metadata": {
        "id": "0aFqdNvs4pmg",
        "outputId": "20e59994-75a9-4ae7-bdc0-5838d9ddbe78",
        "colab": {
          "base_uri": "https://localhost:8080/",
          "height": 195
        }
      },
      "source": [
        "China10.head()"
      ],
      "execution_count": 15,
      "outputs": [
        {
          "output_type": "execute_result",
          "data": {
            "text/html": [
              "<div>\n",
              "<style scoped>\n",
              "    .dataframe tbody tr th:only-of-type {\n",
              "        vertical-align: middle;\n",
              "    }\n",
              "\n",
              "    .dataframe tbody tr th {\n",
              "        vertical-align: top;\n",
              "    }\n",
              "\n",
              "    .dataframe thead th {\n",
              "        text-align: right;\n",
              "    }\n",
              "</style>\n",
              "<table border=\"1\" class=\"dataframe\">\n",
              "  <thead>\n",
              "    <tr style=\"text-align: right;\">\n",
              "      <th></th>\n",
              "      <th>Year</th>\n",
              "      <th>PPP</th>\n",
              "      <th>Exchange</th>\n",
              "      <th>GDP</th>\n",
              "      <th>vector_1</th>\n",
              "      <th>vector_2</th>\n",
              "      <th>vector_3</th>\n",
              "      <th>vector_4</th>\n",
              "      <th>vector_5</th>\n",
              "      <th>vector_6</th>\n",
              "      <th>vector_7</th>\n",
              "      <th>vector_8</th>\n",
              "      <th>vector_9</th>\n",
              "      <th>vector_10</th>\n",
              "    </tr>\n",
              "  </thead>\n",
              "  <tbody>\n",
              "    <tr>\n",
              "      <th>0</th>\n",
              "      <td>1981</td>\n",
              "      <td>1.408056</td>\n",
              "      <td>1.704542</td>\n",
              "      <td>1.960000e+11</td>\n",
              "      <td>0.050000</td>\n",
              "      <td>0.05000</td>\n",
              "      <td>0.050000</td>\n",
              "      <td>0.549967</td>\n",
              "      <td>0.050021</td>\n",
              "      <td>0.050008</td>\n",
              "      <td>0.050004</td>\n",
              "      <td>0.050000</td>\n",
              "      <td>0.050000</td>\n",
              "      <td>0.050000</td>\n",
              "    </tr>\n",
              "    <tr>\n",
              "      <th>1</th>\n",
              "      <td>1982</td>\n",
              "      <td>1.324266</td>\n",
              "      <td>1.892542</td>\n",
              "      <td>2.050000e+11</td>\n",
              "      <td>0.100000</td>\n",
              "      <td>0.10000</td>\n",
              "      <td>0.100000</td>\n",
              "      <td>0.100000</td>\n",
              "      <td>0.100000</td>\n",
              "      <td>0.100000</td>\n",
              "      <td>0.100000</td>\n",
              "      <td>0.100000</td>\n",
              "      <td>0.100000</td>\n",
              "      <td>0.100000</td>\n",
              "    </tr>\n",
              "    <tr>\n",
              "      <th>2</th>\n",
              "      <td>1983</td>\n",
              "      <td>1.289093</td>\n",
              "      <td>1.975675</td>\n",
              "      <td>2.310000e+11</td>\n",
              "      <td>0.046312</td>\n",
              "      <td>0.04629</td>\n",
              "      <td>0.046276</td>\n",
              "      <td>0.046283</td>\n",
              "      <td>0.046282</td>\n",
              "      <td>0.046276</td>\n",
              "      <td>0.046279</td>\n",
              "      <td>0.046276</td>\n",
              "      <td>0.583187</td>\n",
              "      <td>0.046538</td>\n",
              "    </tr>\n",
              "    <tr>\n",
              "      <th>3</th>\n",
              "      <td>1984</td>\n",
              "      <td>1.305713</td>\n",
              "      <td>2.320042</td>\n",
              "      <td>2.600000e+11</td>\n",
              "      <td>0.050000</td>\n",
              "      <td>0.05000</td>\n",
              "      <td>0.050000</td>\n",
              "      <td>0.050005</td>\n",
              "      <td>0.050000</td>\n",
              "      <td>0.050000</td>\n",
              "      <td>0.050000</td>\n",
              "      <td>0.050000</td>\n",
              "      <td>0.549995</td>\n",
              "      <td>0.050000</td>\n",
              "    </tr>\n",
              "    <tr>\n",
              "      <th>4</th>\n",
              "      <td>1985</td>\n",
              "      <td>1.394914</td>\n",
              "      <td>2.936658</td>\n",
              "      <td>3.090000e+11</td>\n",
              "      <td>0.041443</td>\n",
              "      <td>0.04144</td>\n",
              "      <td>0.041438</td>\n",
              "      <td>0.041443</td>\n",
              "      <td>0.041439</td>\n",
              "      <td>0.041438</td>\n",
              "      <td>0.041438</td>\n",
              "      <td>0.041438</td>\n",
              "      <td>0.328518</td>\n",
              "      <td>0.339964</td>\n",
              "    </tr>\n",
              "  </tbody>\n",
              "</table>\n",
              "</div>"
            ],
            "text/plain": [
              "   Year       PPP  Exchange  ...  vector_8  vector_9  vector_10\n",
              "0  1981  1.408056  1.704542  ...  0.050000  0.050000   0.050000\n",
              "1  1982  1.324266  1.892542  ...  0.100000  0.100000   0.100000\n",
              "2  1983  1.289093  1.975675  ...  0.046276  0.583187   0.046538\n",
              "3  1984  1.305713  2.320042  ...  0.050000  0.549995   0.050000\n",
              "4  1985  1.394914  2.936658  ...  0.041438  0.328518   0.339964\n",
              "\n",
              "[5 rows x 14 columns]"
            ]
          },
          "metadata": {
            "tags": []
          },
          "execution_count": 15
        }
      ]
    },
    {
      "cell_type": "code",
      "metadata": {
        "id": "HLyoUrIi4Y4a",
        "outputId": "c9591942-3820-49b2-c658-be4b70f5068d",
        "colab": {
          "base_uri": "https://localhost:8080/",
          "height": 215
        }
      },
      "source": [
        "Canada20.head()"
      ],
      "execution_count": 16,
      "outputs": [
        {
          "output_type": "execute_result",
          "data": {
            "text/html": [
              "<div>\n",
              "<style scoped>\n",
              "    .dataframe tbody tr th:only-of-type {\n",
              "        vertical-align: middle;\n",
              "    }\n",
              "\n",
              "    .dataframe tbody tr th {\n",
              "        vertical-align: top;\n",
              "    }\n",
              "\n",
              "    .dataframe thead th {\n",
              "        text-align: right;\n",
              "    }\n",
              "</style>\n",
              "<table border=\"1\" class=\"dataframe\">\n",
              "  <thead>\n",
              "    <tr style=\"text-align: right;\">\n",
              "      <th></th>\n",
              "      <th>Year</th>\n",
              "      <th>PPP</th>\n",
              "      <th>Exchange</th>\n",
              "      <th>GDP</th>\n",
              "      <th>vector_1</th>\n",
              "      <th>vector_2</th>\n",
              "      <th>vector_3</th>\n",
              "      <th>vector_4</th>\n",
              "      <th>vector_5</th>\n",
              "      <th>vector_6</th>\n",
              "      <th>vector_7</th>\n",
              "      <th>vector_8</th>\n",
              "      <th>vector_9</th>\n",
              "      <th>vector_10</th>\n",
              "      <th>vector_11</th>\n",
              "      <th>vector_12</th>\n",
              "      <th>vector_13</th>\n",
              "      <th>vector_14</th>\n",
              "      <th>vector_15</th>\n",
              "      <th>vector_16</th>\n",
              "      <th>vector_17</th>\n",
              "      <th>vector_18</th>\n",
              "      <th>vector_19</th>\n",
              "      <th>vector_20</th>\n",
              "    </tr>\n",
              "  </thead>\n",
              "  <tbody>\n",
              "    <tr>\n",
              "      <th>0</th>\n",
              "      <td>1981</td>\n",
              "      <td>1.134429</td>\n",
              "      <td>1.198903</td>\n",
              "      <td>3.060000e+11</td>\n",
              "      <td>0.025000</td>\n",
              "      <td>0.025000</td>\n",
              "      <td>0.025000</td>\n",
              "      <td>0.025000</td>\n",
              "      <td>0.025000</td>\n",
              "      <td>0.025000</td>\n",
              "      <td>0.525000</td>\n",
              "      <td>0.025000</td>\n",
              "      <td>0.025000</td>\n",
              "      <td>0.025000</td>\n",
              "      <td>0.025000</td>\n",
              "      <td>0.025000</td>\n",
              "      <td>0.025000</td>\n",
              "      <td>0.025000</td>\n",
              "      <td>0.025000</td>\n",
              "      <td>0.025000</td>\n",
              "      <td>0.025000</td>\n",
              "      <td>0.025000</td>\n",
              "      <td>0.025000</td>\n",
              "      <td>0.025000</td>\n",
              "    </tr>\n",
              "    <tr>\n",
              "      <th>1</th>\n",
              "      <td>1982</td>\n",
              "      <td>1.162983</td>\n",
              "      <td>1.233735</td>\n",
              "      <td>3.140000e+11</td>\n",
              "      <td>0.050000</td>\n",
              "      <td>0.050000</td>\n",
              "      <td>0.050000</td>\n",
              "      <td>0.050000</td>\n",
              "      <td>0.050000</td>\n",
              "      <td>0.050000</td>\n",
              "      <td>0.050000</td>\n",
              "      <td>0.050000</td>\n",
              "      <td>0.050000</td>\n",
              "      <td>0.050000</td>\n",
              "      <td>0.050000</td>\n",
              "      <td>0.050000</td>\n",
              "      <td>0.050000</td>\n",
              "      <td>0.050000</td>\n",
              "      <td>0.050000</td>\n",
              "      <td>0.050000</td>\n",
              "      <td>0.050000</td>\n",
              "      <td>0.050000</td>\n",
              "      <td>0.050000</td>\n",
              "      <td>0.050000</td>\n",
              "    </tr>\n",
              "    <tr>\n",
              "      <th>2</th>\n",
              "      <td>1983</td>\n",
              "      <td>1.183882</td>\n",
              "      <td>1.232412</td>\n",
              "      <td>3.410000e+11</td>\n",
              "      <td>0.023138</td>\n",
              "      <td>0.023138</td>\n",
              "      <td>0.478624</td>\n",
              "      <td>0.023138</td>\n",
              "      <td>0.023138</td>\n",
              "      <td>0.023138</td>\n",
              "      <td>0.023138</td>\n",
              "      <td>0.023138</td>\n",
              "      <td>0.023138</td>\n",
              "      <td>0.023138</td>\n",
              "      <td>0.023138</td>\n",
              "      <td>0.023138</td>\n",
              "      <td>0.023138</td>\n",
              "      <td>0.023138</td>\n",
              "      <td>0.023138</td>\n",
              "      <td>0.104889</td>\n",
              "      <td>0.023138</td>\n",
              "      <td>0.023138</td>\n",
              "      <td>0.023138</td>\n",
              "      <td>0.023138</td>\n",
              "    </tr>\n",
              "    <tr>\n",
              "      <th>3</th>\n",
              "      <td>1984</td>\n",
              "      <td>1.183059</td>\n",
              "      <td>1.295066</td>\n",
              "      <td>3.550000e+11</td>\n",
              "      <td>0.025000</td>\n",
              "      <td>0.025000</td>\n",
              "      <td>0.525000</td>\n",
              "      <td>0.025000</td>\n",
              "      <td>0.025000</td>\n",
              "      <td>0.025000</td>\n",
              "      <td>0.025000</td>\n",
              "      <td>0.025000</td>\n",
              "      <td>0.025000</td>\n",
              "      <td>0.025000</td>\n",
              "      <td>0.025000</td>\n",
              "      <td>0.025000</td>\n",
              "      <td>0.025000</td>\n",
              "      <td>0.025000</td>\n",
              "      <td>0.025000</td>\n",
              "      <td>0.025000</td>\n",
              "      <td>0.025000</td>\n",
              "      <td>0.025000</td>\n",
              "      <td>0.025000</td>\n",
              "      <td>0.025000</td>\n",
              "    </tr>\n",
              "    <tr>\n",
              "      <th>4</th>\n",
              "      <td>1985</td>\n",
              "      <td>1.185080</td>\n",
              "      <td>1.365507</td>\n",
              "      <td>3.650000e+11</td>\n",
              "      <td>0.020719</td>\n",
              "      <td>0.020719</td>\n",
              "      <td>0.302690</td>\n",
              "      <td>0.020719</td>\n",
              "      <td>0.020719</td>\n",
              "      <td>0.020719</td>\n",
              "      <td>0.020719</td>\n",
              "      <td>0.020719</td>\n",
              "      <td>0.020719</td>\n",
              "      <td>0.020719</td>\n",
              "      <td>0.020719</td>\n",
              "      <td>0.020719</td>\n",
              "      <td>0.020719</td>\n",
              "      <td>0.020719</td>\n",
              "      <td>0.020719</td>\n",
              "      <td>0.324368</td>\n",
              "      <td>0.020719</td>\n",
              "      <td>0.020719</td>\n",
              "      <td>0.020719</td>\n",
              "      <td>0.020719</td>\n",
              "    </tr>\n",
              "  </tbody>\n",
              "</table>\n",
              "</div>"
            ],
            "text/plain": [
              "   Year       PPP  Exchange  ...  vector_18  vector_19  vector_20\n",
              "0  1981  1.134429  1.198903  ...   0.025000   0.025000   0.025000\n",
              "1  1982  1.162983  1.233735  ...   0.050000   0.050000   0.050000\n",
              "2  1983  1.183882  1.232412  ...   0.023138   0.023138   0.023138\n",
              "3  1984  1.183059  1.295066  ...   0.025000   0.025000   0.025000\n",
              "4  1985  1.185080  1.365507  ...   0.020719   0.020719   0.020719\n",
              "\n",
              "[5 rows x 24 columns]"
            ]
          },
          "metadata": {
            "tags": []
          },
          "execution_count": 16
        }
      ]
    },
    {
      "cell_type": "code",
      "metadata": {
        "id": "9YGwTaoY4fB6",
        "outputId": "c0495264-56ca-4f21-ef0b-8ac0df19a40e",
        "colab": {
          "base_uri": "https://localhost:8080/",
          "height": 215
        }
      },
      "source": [
        "Canada25.head()"
      ],
      "execution_count": 17,
      "outputs": [
        {
          "output_type": "execute_result",
          "data": {
            "text/html": [
              "<div>\n",
              "<style scoped>\n",
              "    .dataframe tbody tr th:only-of-type {\n",
              "        vertical-align: middle;\n",
              "    }\n",
              "\n",
              "    .dataframe tbody tr th {\n",
              "        vertical-align: top;\n",
              "    }\n",
              "\n",
              "    .dataframe thead th {\n",
              "        text-align: right;\n",
              "    }\n",
              "</style>\n",
              "<table border=\"1\" class=\"dataframe\">\n",
              "  <thead>\n",
              "    <tr style=\"text-align: right;\">\n",
              "      <th></th>\n",
              "      <th>Year</th>\n",
              "      <th>PPP</th>\n",
              "      <th>Exchange</th>\n",
              "      <th>GDP</th>\n",
              "      <th>vector_1</th>\n",
              "      <th>vector_2</th>\n",
              "      <th>vector_3</th>\n",
              "      <th>vector_4</th>\n",
              "      <th>vector_5</th>\n",
              "      <th>vector_6</th>\n",
              "      <th>vector_7</th>\n",
              "      <th>vector_8</th>\n",
              "      <th>vector_9</th>\n",
              "      <th>vector_10</th>\n",
              "      <th>vector_11</th>\n",
              "      <th>vector_12</th>\n",
              "      <th>vector_13</th>\n",
              "      <th>vector_14</th>\n",
              "      <th>vector_15</th>\n",
              "      <th>vector_16</th>\n",
              "      <th>vector_17</th>\n",
              "      <th>vector_18</th>\n",
              "      <th>vector_19</th>\n",
              "      <th>vector_20</th>\n",
              "      <th>vector_21</th>\n",
              "      <th>vector_22</th>\n",
              "      <th>vector_23</th>\n",
              "      <th>vector_24</th>\n",
              "      <th>vector_25</th>\n",
              "    </tr>\n",
              "  </thead>\n",
              "  <tbody>\n",
              "    <tr>\n",
              "      <th>0</th>\n",
              "      <td>1981</td>\n",
              "      <td>1.134429</td>\n",
              "      <td>1.198903</td>\n",
              "      <td>3.060000e+11</td>\n",
              "      <td>0.020000</td>\n",
              "      <td>0.020000</td>\n",
              "      <td>0.020000</td>\n",
              "      <td>0.020000</td>\n",
              "      <td>0.020000</td>\n",
              "      <td>0.020000</td>\n",
              "      <td>0.020000</td>\n",
              "      <td>0.020000</td>\n",
              "      <td>0.020000</td>\n",
              "      <td>0.020000</td>\n",
              "      <td>0.020000</td>\n",
              "      <td>0.020000</td>\n",
              "      <td>0.020000</td>\n",
              "      <td>0.020000</td>\n",
              "      <td>0.020000</td>\n",
              "      <td>0.020000</td>\n",
              "      <td>0.020000</td>\n",
              "      <td>0.020000</td>\n",
              "      <td>0.020000</td>\n",
              "      <td>0.020000</td>\n",
              "      <td>0.020000</td>\n",
              "      <td>0.020000</td>\n",
              "      <td>0.020000</td>\n",
              "      <td>0.020000</td>\n",
              "      <td>0.520000</td>\n",
              "    </tr>\n",
              "    <tr>\n",
              "      <th>1</th>\n",
              "      <td>1982</td>\n",
              "      <td>1.162983</td>\n",
              "      <td>1.233735</td>\n",
              "      <td>3.140000e+11</td>\n",
              "      <td>0.040000</td>\n",
              "      <td>0.040000</td>\n",
              "      <td>0.040000</td>\n",
              "      <td>0.040000</td>\n",
              "      <td>0.040000</td>\n",
              "      <td>0.040000</td>\n",
              "      <td>0.040000</td>\n",
              "      <td>0.040000</td>\n",
              "      <td>0.040000</td>\n",
              "      <td>0.040000</td>\n",
              "      <td>0.040000</td>\n",
              "      <td>0.040000</td>\n",
              "      <td>0.040000</td>\n",
              "      <td>0.040000</td>\n",
              "      <td>0.040000</td>\n",
              "      <td>0.040000</td>\n",
              "      <td>0.040000</td>\n",
              "      <td>0.040000</td>\n",
              "      <td>0.040000</td>\n",
              "      <td>0.040000</td>\n",
              "      <td>0.040000</td>\n",
              "      <td>0.040000</td>\n",
              "      <td>0.040000</td>\n",
              "      <td>0.040000</td>\n",
              "      <td>0.040000</td>\n",
              "    </tr>\n",
              "    <tr>\n",
              "      <th>2</th>\n",
              "      <td>1983</td>\n",
              "      <td>1.183882</td>\n",
              "      <td>1.232412</td>\n",
              "      <td>3.410000e+11</td>\n",
              "      <td>0.018511</td>\n",
              "      <td>0.018511</td>\n",
              "      <td>0.466776</td>\n",
              "      <td>0.018511</td>\n",
              "      <td>0.018511</td>\n",
              "      <td>0.018511</td>\n",
              "      <td>0.018511</td>\n",
              "      <td>0.018511</td>\n",
              "      <td>0.018511</td>\n",
              "      <td>0.018511</td>\n",
              "      <td>0.107482</td>\n",
              "      <td>0.018511</td>\n",
              "      <td>0.018511</td>\n",
              "      <td>0.018511</td>\n",
              "      <td>0.018511</td>\n",
              "      <td>0.018511</td>\n",
              "      <td>0.018511</td>\n",
              "      <td>0.018511</td>\n",
              "      <td>0.018511</td>\n",
              "      <td>0.018511</td>\n",
              "      <td>0.018511</td>\n",
              "      <td>0.018511</td>\n",
              "      <td>0.018511</td>\n",
              "      <td>0.018511</td>\n",
              "      <td>0.018511</td>\n",
              "    </tr>\n",
              "    <tr>\n",
              "      <th>3</th>\n",
              "      <td>1984</td>\n",
              "      <td>1.183059</td>\n",
              "      <td>1.295066</td>\n",
              "      <td>3.550000e+11</td>\n",
              "      <td>0.020000</td>\n",
              "      <td>0.020000</td>\n",
              "      <td>0.520000</td>\n",
              "      <td>0.020000</td>\n",
              "      <td>0.020000</td>\n",
              "      <td>0.020000</td>\n",
              "      <td>0.020000</td>\n",
              "      <td>0.020000</td>\n",
              "      <td>0.020000</td>\n",
              "      <td>0.020000</td>\n",
              "      <td>0.020000</td>\n",
              "      <td>0.020000</td>\n",
              "      <td>0.020000</td>\n",
              "      <td>0.020000</td>\n",
              "      <td>0.020000</td>\n",
              "      <td>0.020000</td>\n",
              "      <td>0.020000</td>\n",
              "      <td>0.020000</td>\n",
              "      <td>0.020000</td>\n",
              "      <td>0.020000</td>\n",
              "      <td>0.020000</td>\n",
              "      <td>0.020000</td>\n",
              "      <td>0.020000</td>\n",
              "      <td>0.020000</td>\n",
              "      <td>0.020000</td>\n",
              "    </tr>\n",
              "    <tr>\n",
              "      <th>4</th>\n",
              "      <td>1985</td>\n",
              "      <td>1.185080</td>\n",
              "      <td>1.365507</td>\n",
              "      <td>3.650000e+11</td>\n",
              "      <td>0.016575</td>\n",
              "      <td>0.016575</td>\n",
              "      <td>0.298546</td>\n",
              "      <td>0.016575</td>\n",
              "      <td>0.016575</td>\n",
              "      <td>0.016575</td>\n",
              "      <td>0.016575</td>\n",
              "      <td>0.016575</td>\n",
              "      <td>0.016575</td>\n",
              "      <td>0.016575</td>\n",
              "      <td>0.016575</td>\n",
              "      <td>0.016575</td>\n",
              "      <td>0.016575</td>\n",
              "      <td>0.016575</td>\n",
              "      <td>0.016575</td>\n",
              "      <td>0.016575</td>\n",
              "      <td>0.016575</td>\n",
              "      <td>0.016575</td>\n",
              "      <td>0.016575</td>\n",
              "      <td>0.016575</td>\n",
              "      <td>0.016575</td>\n",
              "      <td>0.016575</td>\n",
              "      <td>0.016575</td>\n",
              "      <td>0.320225</td>\n",
              "      <td>0.016575</td>\n",
              "    </tr>\n",
              "  </tbody>\n",
              "</table>\n",
              "</div>"
            ],
            "text/plain": [
              "   Year       PPP  Exchange  ...  vector_23  vector_24  vector_25\n",
              "0  1981  1.134429  1.198903  ...   0.020000   0.020000   0.520000\n",
              "1  1982  1.162983  1.233735  ...   0.040000   0.040000   0.040000\n",
              "2  1983  1.183882  1.232412  ...   0.018511   0.018511   0.018511\n",
              "3  1984  1.183059  1.295066  ...   0.020000   0.020000   0.020000\n",
              "4  1985  1.185080  1.365507  ...   0.016575   0.320225   0.016575\n",
              "\n",
              "[5 rows x 29 columns]"
            ]
          },
          "metadata": {
            "tags": []
          },
          "execution_count": 17
        }
      ]
    },
    {
      "cell_type": "code",
      "metadata": {
        "id": "8qX0iFsY4kCQ",
        "outputId": "5ed2b70f-3da3-4864-dbb2-7cd148abc0dd",
        "colab": {
          "base_uri": "https://localhost:8080/",
          "height": 215
        }
      },
      "source": [
        "Canada50.head()"
      ],
      "execution_count": 18,
      "outputs": [
        {
          "output_type": "execute_result",
          "data": {
            "text/html": [
              "<div>\n",
              "<style scoped>\n",
              "    .dataframe tbody tr th:only-of-type {\n",
              "        vertical-align: middle;\n",
              "    }\n",
              "\n",
              "    .dataframe tbody tr th {\n",
              "        vertical-align: top;\n",
              "    }\n",
              "\n",
              "    .dataframe thead th {\n",
              "        text-align: right;\n",
              "    }\n",
              "</style>\n",
              "<table border=\"1\" class=\"dataframe\">\n",
              "  <thead>\n",
              "    <tr style=\"text-align: right;\">\n",
              "      <th></th>\n",
              "      <th>Year</th>\n",
              "      <th>PPP</th>\n",
              "      <th>Exchange</th>\n",
              "      <th>GDP</th>\n",
              "      <th>vector_1</th>\n",
              "      <th>vector_2</th>\n",
              "      <th>vector_3</th>\n",
              "      <th>vector_4</th>\n",
              "      <th>vector_5</th>\n",
              "      <th>vector_6</th>\n",
              "      <th>vector_7</th>\n",
              "      <th>vector_8</th>\n",
              "      <th>vector_9</th>\n",
              "      <th>vector_10</th>\n",
              "      <th>vector_11</th>\n",
              "      <th>vector_12</th>\n",
              "      <th>vector_13</th>\n",
              "      <th>vector_14</th>\n",
              "      <th>vector_15</th>\n",
              "      <th>vector_16</th>\n",
              "      <th>vector_17</th>\n",
              "      <th>vector_18</th>\n",
              "      <th>vector_19</th>\n",
              "      <th>vector_20</th>\n",
              "      <th>vector_21</th>\n",
              "      <th>vector_22</th>\n",
              "      <th>vector_23</th>\n",
              "      <th>vector_24</th>\n",
              "      <th>vector_25</th>\n",
              "      <th>vector_26</th>\n",
              "      <th>vector_27</th>\n",
              "      <th>vector_28</th>\n",
              "      <th>vector_29</th>\n",
              "      <th>vector_30</th>\n",
              "      <th>vector_31</th>\n",
              "      <th>vector_32</th>\n",
              "      <th>vector_33</th>\n",
              "      <th>vector_34</th>\n",
              "      <th>vector_35</th>\n",
              "      <th>vector_36</th>\n",
              "      <th>vector_37</th>\n",
              "      <th>vector_38</th>\n",
              "      <th>vector_39</th>\n",
              "      <th>vector_40</th>\n",
              "      <th>vector_41</th>\n",
              "      <th>vector_42</th>\n",
              "      <th>vector_43</th>\n",
              "      <th>vector_44</th>\n",
              "      <th>vector_45</th>\n",
              "      <th>vector_46</th>\n",
              "      <th>vector_47</th>\n",
              "      <th>vector_48</th>\n",
              "      <th>vector_49</th>\n",
              "      <th>vector_50</th>\n",
              "    </tr>\n",
              "  </thead>\n",
              "  <tbody>\n",
              "    <tr>\n",
              "      <th>0</th>\n",
              "      <td>1981</td>\n",
              "      <td>1.134429</td>\n",
              "      <td>1.198903</td>\n",
              "      <td>3.060000e+11</td>\n",
              "      <td>0.010000</td>\n",
              "      <td>0.010000</td>\n",
              "      <td>0.010000</td>\n",
              "      <td>0.010000</td>\n",
              "      <td>0.010000</td>\n",
              "      <td>0.010000</td>\n",
              "      <td>0.010000</td>\n",
              "      <td>0.010000</td>\n",
              "      <td>0.010000</td>\n",
              "      <td>0.010000</td>\n",
              "      <td>0.010000</td>\n",
              "      <td>0.010000</td>\n",
              "      <td>0.010000</td>\n",
              "      <td>0.010000</td>\n",
              "      <td>0.010000</td>\n",
              "      <td>0.010000</td>\n",
              "      <td>0.010000</td>\n",
              "      <td>0.010000</td>\n",
              "      <td>0.010000</td>\n",
              "      <td>0.010000</td>\n",
              "      <td>0.010000</td>\n",
              "      <td>0.010000</td>\n",
              "      <td>0.010000</td>\n",
              "      <td>0.010000</td>\n",
              "      <td>0.010000</td>\n",
              "      <td>0.010000</td>\n",
              "      <td>0.010000</td>\n",
              "      <td>0.010000</td>\n",
              "      <td>0.010000</td>\n",
              "      <td>0.010000</td>\n",
              "      <td>0.010000</td>\n",
              "      <td>0.010000</td>\n",
              "      <td>0.010000</td>\n",
              "      <td>0.010000</td>\n",
              "      <td>0.010000</td>\n",
              "      <td>0.010000</td>\n",
              "      <td>0.010000</td>\n",
              "      <td>0.010000</td>\n",
              "      <td>0.010000</td>\n",
              "      <td>0.010000</td>\n",
              "      <td>0.010000</td>\n",
              "      <td>0.510000</td>\n",
              "      <td>0.010000</td>\n",
              "      <td>0.010000</td>\n",
              "      <td>0.010000</td>\n",
              "      <td>0.010000</td>\n",
              "      <td>0.010000</td>\n",
              "      <td>0.010000</td>\n",
              "      <td>0.010000</td>\n",
              "      <td>0.010000</td>\n",
              "    </tr>\n",
              "    <tr>\n",
              "      <th>1</th>\n",
              "      <td>1982</td>\n",
              "      <td>1.162983</td>\n",
              "      <td>1.233735</td>\n",
              "      <td>3.140000e+11</td>\n",
              "      <td>0.020000</td>\n",
              "      <td>0.020000</td>\n",
              "      <td>0.020000</td>\n",
              "      <td>0.020000</td>\n",
              "      <td>0.020000</td>\n",
              "      <td>0.020000</td>\n",
              "      <td>0.020000</td>\n",
              "      <td>0.020000</td>\n",
              "      <td>0.020000</td>\n",
              "      <td>0.020000</td>\n",
              "      <td>0.020000</td>\n",
              "      <td>0.020000</td>\n",
              "      <td>0.020000</td>\n",
              "      <td>0.020000</td>\n",
              "      <td>0.020000</td>\n",
              "      <td>0.020000</td>\n",
              "      <td>0.020000</td>\n",
              "      <td>0.020000</td>\n",
              "      <td>0.020000</td>\n",
              "      <td>0.020000</td>\n",
              "      <td>0.020000</td>\n",
              "      <td>0.020000</td>\n",
              "      <td>0.020000</td>\n",
              "      <td>0.020000</td>\n",
              "      <td>0.020000</td>\n",
              "      <td>0.020000</td>\n",
              "      <td>0.020000</td>\n",
              "      <td>0.020000</td>\n",
              "      <td>0.020000</td>\n",
              "      <td>0.020000</td>\n",
              "      <td>0.020000</td>\n",
              "      <td>0.020000</td>\n",
              "      <td>0.020000</td>\n",
              "      <td>0.020000</td>\n",
              "      <td>0.020000</td>\n",
              "      <td>0.020000</td>\n",
              "      <td>0.020000</td>\n",
              "      <td>0.020000</td>\n",
              "      <td>0.020000</td>\n",
              "      <td>0.020000</td>\n",
              "      <td>0.020000</td>\n",
              "      <td>0.020000</td>\n",
              "      <td>0.020000</td>\n",
              "      <td>0.020000</td>\n",
              "      <td>0.020000</td>\n",
              "      <td>0.020000</td>\n",
              "      <td>0.020000</td>\n",
              "      <td>0.020000</td>\n",
              "      <td>0.020000</td>\n",
              "      <td>0.020000</td>\n",
              "    </tr>\n",
              "    <tr>\n",
              "      <th>2</th>\n",
              "      <td>1983</td>\n",
              "      <td>1.183882</td>\n",
              "      <td>1.232412</td>\n",
              "      <td>3.410000e+11</td>\n",
              "      <td>0.009255</td>\n",
              "      <td>0.009255</td>\n",
              "      <td>0.464741</td>\n",
              "      <td>0.009255</td>\n",
              "      <td>0.009255</td>\n",
              "      <td>0.009255</td>\n",
              "      <td>0.009255</td>\n",
              "      <td>0.009255</td>\n",
              "      <td>0.009255</td>\n",
              "      <td>0.009255</td>\n",
              "      <td>0.009255</td>\n",
              "      <td>0.009255</td>\n",
              "      <td>0.009255</td>\n",
              "      <td>0.009255</td>\n",
              "      <td>0.009255</td>\n",
              "      <td>0.009255</td>\n",
              "      <td>0.009255</td>\n",
              "      <td>0.009255</td>\n",
              "      <td>0.091006</td>\n",
              "      <td>0.009255</td>\n",
              "      <td>0.009255</td>\n",
              "      <td>0.009255</td>\n",
              "      <td>0.009255</td>\n",
              "      <td>0.009255</td>\n",
              "      <td>0.009255</td>\n",
              "      <td>0.009255</td>\n",
              "      <td>0.009255</td>\n",
              "      <td>0.009255</td>\n",
              "      <td>0.009255</td>\n",
              "      <td>0.009255</td>\n",
              "      <td>0.009255</td>\n",
              "      <td>0.009255</td>\n",
              "      <td>0.009255</td>\n",
              "      <td>0.009255</td>\n",
              "      <td>0.009255</td>\n",
              "      <td>0.009255</td>\n",
              "      <td>0.009255</td>\n",
              "      <td>0.009255</td>\n",
              "      <td>0.009255</td>\n",
              "      <td>0.009255</td>\n",
              "      <td>0.009255</td>\n",
              "      <td>0.009255</td>\n",
              "      <td>0.009255</td>\n",
              "      <td>0.009255</td>\n",
              "      <td>0.009255</td>\n",
              "      <td>0.009255</td>\n",
              "      <td>0.009255</td>\n",
              "      <td>0.009255</td>\n",
              "      <td>0.009255</td>\n",
              "      <td>0.009255</td>\n",
              "    </tr>\n",
              "    <tr>\n",
              "      <th>3</th>\n",
              "      <td>1984</td>\n",
              "      <td>1.183059</td>\n",
              "      <td>1.295066</td>\n",
              "      <td>3.550000e+11</td>\n",
              "      <td>0.010000</td>\n",
              "      <td>0.010000</td>\n",
              "      <td>0.010000</td>\n",
              "      <td>0.010000</td>\n",
              "      <td>0.010000</td>\n",
              "      <td>0.010000</td>\n",
              "      <td>0.010000</td>\n",
              "      <td>0.010000</td>\n",
              "      <td>0.010000</td>\n",
              "      <td>0.010000</td>\n",
              "      <td>0.010000</td>\n",
              "      <td>0.010000</td>\n",
              "      <td>0.010000</td>\n",
              "      <td>0.010000</td>\n",
              "      <td>0.010000</td>\n",
              "      <td>0.010000</td>\n",
              "      <td>0.010000</td>\n",
              "      <td>0.010000</td>\n",
              "      <td>0.010000</td>\n",
              "      <td>0.010000</td>\n",
              "      <td>0.010000</td>\n",
              "      <td>0.010000</td>\n",
              "      <td>0.010000</td>\n",
              "      <td>0.010000</td>\n",
              "      <td>0.010000</td>\n",
              "      <td>0.010000</td>\n",
              "      <td>0.010000</td>\n",
              "      <td>0.010000</td>\n",
              "      <td>0.010000</td>\n",
              "      <td>0.010000</td>\n",
              "      <td>0.010000</td>\n",
              "      <td>0.010000</td>\n",
              "      <td>0.010000</td>\n",
              "      <td>0.010000</td>\n",
              "      <td>0.010000</td>\n",
              "      <td>0.010000</td>\n",
              "      <td>0.010000</td>\n",
              "      <td>0.010000</td>\n",
              "      <td>0.010000</td>\n",
              "      <td>0.010000</td>\n",
              "      <td>0.010000</td>\n",
              "      <td>0.010000</td>\n",
              "      <td>0.010000</td>\n",
              "      <td>0.010000</td>\n",
              "      <td>0.010000</td>\n",
              "      <td>0.010000</td>\n",
              "      <td>0.010000</td>\n",
              "      <td>0.010000</td>\n",
              "      <td>0.510000</td>\n",
              "      <td>0.010000</td>\n",
              "    </tr>\n",
              "    <tr>\n",
              "      <th>4</th>\n",
              "      <td>1985</td>\n",
              "      <td>1.185080</td>\n",
              "      <td>1.365507</td>\n",
              "      <td>3.650000e+11</td>\n",
              "      <td>0.008288</td>\n",
              "      <td>0.008288</td>\n",
              "      <td>0.008288</td>\n",
              "      <td>0.008288</td>\n",
              "      <td>0.008288</td>\n",
              "      <td>0.008288</td>\n",
              "      <td>0.290258</td>\n",
              "      <td>0.008288</td>\n",
              "      <td>0.008288</td>\n",
              "      <td>0.008288</td>\n",
              "      <td>0.008288</td>\n",
              "      <td>0.008288</td>\n",
              "      <td>0.008288</td>\n",
              "      <td>0.008288</td>\n",
              "      <td>0.008288</td>\n",
              "      <td>0.008288</td>\n",
              "      <td>0.008288</td>\n",
              "      <td>0.008288</td>\n",
              "      <td>0.008288</td>\n",
              "      <td>0.008288</td>\n",
              "      <td>0.008288</td>\n",
              "      <td>0.008288</td>\n",
              "      <td>0.008288</td>\n",
              "      <td>0.008288</td>\n",
              "      <td>0.008288</td>\n",
              "      <td>0.008288</td>\n",
              "      <td>0.008288</td>\n",
              "      <td>0.008288</td>\n",
              "      <td>0.008288</td>\n",
              "      <td>0.008288</td>\n",
              "      <td>0.008288</td>\n",
              "      <td>0.008288</td>\n",
              "      <td>0.311937</td>\n",
              "      <td>0.008288</td>\n",
              "      <td>0.008288</td>\n",
              "      <td>0.008288</td>\n",
              "      <td>0.008288</td>\n",
              "      <td>0.008288</td>\n",
              "      <td>0.008288</td>\n",
              "      <td>0.008288</td>\n",
              "      <td>0.008288</td>\n",
              "      <td>0.008288</td>\n",
              "      <td>0.008288</td>\n",
              "      <td>0.008288</td>\n",
              "      <td>0.008288</td>\n",
              "      <td>0.008288</td>\n",
              "      <td>0.008288</td>\n",
              "      <td>0.008288</td>\n",
              "      <td>0.008288</td>\n",
              "      <td>0.008288</td>\n",
              "    </tr>\n",
              "  </tbody>\n",
              "</table>\n",
              "</div>"
            ],
            "text/plain": [
              "   Year       PPP  Exchange  ...  vector_48  vector_49  vector_50\n",
              "0  1981  1.134429  1.198903  ...   0.010000   0.010000   0.010000\n",
              "1  1982  1.162983  1.233735  ...   0.020000   0.020000   0.020000\n",
              "2  1983  1.183882  1.232412  ...   0.009255   0.009255   0.009255\n",
              "3  1984  1.183059  1.295066  ...   0.010000   0.510000   0.010000\n",
              "4  1985  1.185080  1.365507  ...   0.008288   0.008288   0.008288\n",
              "\n",
              "[5 rows x 54 columns]"
            ]
          },
          "metadata": {
            "tags": []
          },
          "execution_count": 18
        }
      ]
    },
    {
      "cell_type": "code",
      "metadata": {
        "id": "rKlPNjsarnWL",
        "outputId": "f8ee7c88-cc0b-413c-a669-d9d17d19bcbb",
        "colab": {
          "base_uri": "https://localhost:8080/",
          "height": 337
        }
      },
      "source": [
        "X1=Canada10.drop(\"Exchange\",axis=1)\r\n",
        "X1\r\n",
        "# y1=Canada10[Exchange]"
      ],
      "execution_count": 25,
      "outputs": [
        {
          "output_type": "error",
          "ename": "KeyError",
          "evalue": "ignored",
          "traceback": [
            "\u001b[0;31m---------------------------------------------------------------------------\u001b[0m",
            "\u001b[0;31mKeyError\u001b[0m                                  Traceback (most recent call last)",
            "\u001b[0;32m<ipython-input-25-21318fb82d67>\u001b[0m in \u001b[0;36m<module>\u001b[0;34m()\u001b[0m\n\u001b[0;32m----> 1\u001b[0;31m \u001b[0mX1\u001b[0m\u001b[0;34m=\u001b[0m\u001b[0mCanada10\u001b[0m\u001b[0;34m.\u001b[0m\u001b[0mdrop\u001b[0m\u001b[0;34m(\u001b[0m\u001b[0;34m\"Exchange\"\u001b[0m\u001b[0;34m,\u001b[0m\u001b[0maxis\u001b[0m\u001b[0;34m=\u001b[0m\u001b[0;36m1\u001b[0m\u001b[0;34m)\u001b[0m\u001b[0;34m\u001b[0m\u001b[0;34m\u001b[0m\u001b[0m\n\u001b[0m\u001b[1;32m      2\u001b[0m \u001b[0mX1\u001b[0m\u001b[0;34m\u001b[0m\u001b[0;34m\u001b[0m\u001b[0m\n\u001b[1;32m      3\u001b[0m \u001b[0;31m# y1=Canada10[Exchange]\u001b[0m\u001b[0;34m\u001b[0m\u001b[0;34m\u001b[0m\u001b[0;34m\u001b[0m\u001b[0m\n",
            "\u001b[0;32m/usr/local/lib/python3.7/dist-packages/pandas/core/frame.py\u001b[0m in \u001b[0;36mdrop\u001b[0;34m(self, labels, axis, index, columns, level, inplace, errors)\u001b[0m\n\u001b[1;32m   4172\u001b[0m             \u001b[0mlevel\u001b[0m\u001b[0;34m=\u001b[0m\u001b[0mlevel\u001b[0m\u001b[0;34m,\u001b[0m\u001b[0;34m\u001b[0m\u001b[0;34m\u001b[0m\u001b[0m\n\u001b[1;32m   4173\u001b[0m             \u001b[0minplace\u001b[0m\u001b[0;34m=\u001b[0m\u001b[0minplace\u001b[0m\u001b[0;34m,\u001b[0m\u001b[0;34m\u001b[0m\u001b[0;34m\u001b[0m\u001b[0m\n\u001b[0;32m-> 4174\u001b[0;31m             \u001b[0merrors\u001b[0m\u001b[0;34m=\u001b[0m\u001b[0merrors\u001b[0m\u001b[0;34m,\u001b[0m\u001b[0;34m\u001b[0m\u001b[0;34m\u001b[0m\u001b[0m\n\u001b[0m\u001b[1;32m   4175\u001b[0m         )\n\u001b[1;32m   4176\u001b[0m \u001b[0;34m\u001b[0m\u001b[0m\n",
            "\u001b[0;32m/usr/local/lib/python3.7/dist-packages/pandas/core/generic.py\u001b[0m in \u001b[0;36mdrop\u001b[0;34m(self, labels, axis, index, columns, level, inplace, errors)\u001b[0m\n\u001b[1;32m   3887\u001b[0m         \u001b[0;32mfor\u001b[0m \u001b[0maxis\u001b[0m\u001b[0;34m,\u001b[0m \u001b[0mlabels\u001b[0m \u001b[0;32min\u001b[0m \u001b[0maxes\u001b[0m\u001b[0;34m.\u001b[0m\u001b[0mitems\u001b[0m\u001b[0;34m(\u001b[0m\u001b[0;34m)\u001b[0m\u001b[0;34m:\u001b[0m\u001b[0;34m\u001b[0m\u001b[0;34m\u001b[0m\u001b[0m\n\u001b[1;32m   3888\u001b[0m             \u001b[0;32mif\u001b[0m \u001b[0mlabels\u001b[0m \u001b[0;32mis\u001b[0m \u001b[0;32mnot\u001b[0m \u001b[0;32mNone\u001b[0m\u001b[0;34m:\u001b[0m\u001b[0;34m\u001b[0m\u001b[0;34m\u001b[0m\u001b[0m\n\u001b[0;32m-> 3889\u001b[0;31m                 \u001b[0mobj\u001b[0m \u001b[0;34m=\u001b[0m \u001b[0mobj\u001b[0m\u001b[0;34m.\u001b[0m\u001b[0m_drop_axis\u001b[0m\u001b[0;34m(\u001b[0m\u001b[0mlabels\u001b[0m\u001b[0;34m,\u001b[0m \u001b[0maxis\u001b[0m\u001b[0;34m,\u001b[0m \u001b[0mlevel\u001b[0m\u001b[0;34m=\u001b[0m\u001b[0mlevel\u001b[0m\u001b[0;34m,\u001b[0m \u001b[0merrors\u001b[0m\u001b[0;34m=\u001b[0m\u001b[0merrors\u001b[0m\u001b[0;34m)\u001b[0m\u001b[0;34m\u001b[0m\u001b[0;34m\u001b[0m\u001b[0m\n\u001b[0m\u001b[1;32m   3890\u001b[0m \u001b[0;34m\u001b[0m\u001b[0m\n\u001b[1;32m   3891\u001b[0m         \u001b[0;32mif\u001b[0m \u001b[0minplace\u001b[0m\u001b[0;34m:\u001b[0m\u001b[0;34m\u001b[0m\u001b[0;34m\u001b[0m\u001b[0m\n",
            "\u001b[0;32m/usr/local/lib/python3.7/dist-packages/pandas/core/generic.py\u001b[0m in \u001b[0;36m_drop_axis\u001b[0;34m(self, labels, axis, level, errors)\u001b[0m\n\u001b[1;32m   3921\u001b[0m                 \u001b[0mnew_axis\u001b[0m \u001b[0;34m=\u001b[0m \u001b[0maxis\u001b[0m\u001b[0;34m.\u001b[0m\u001b[0mdrop\u001b[0m\u001b[0;34m(\u001b[0m\u001b[0mlabels\u001b[0m\u001b[0;34m,\u001b[0m \u001b[0mlevel\u001b[0m\u001b[0;34m=\u001b[0m\u001b[0mlevel\u001b[0m\u001b[0;34m,\u001b[0m \u001b[0merrors\u001b[0m\u001b[0;34m=\u001b[0m\u001b[0merrors\u001b[0m\u001b[0;34m)\u001b[0m\u001b[0;34m\u001b[0m\u001b[0;34m\u001b[0m\u001b[0m\n\u001b[1;32m   3922\u001b[0m             \u001b[0;32melse\u001b[0m\u001b[0;34m:\u001b[0m\u001b[0;34m\u001b[0m\u001b[0;34m\u001b[0m\u001b[0m\n\u001b[0;32m-> 3923\u001b[0;31m                 \u001b[0mnew_axis\u001b[0m \u001b[0;34m=\u001b[0m \u001b[0maxis\u001b[0m\u001b[0;34m.\u001b[0m\u001b[0mdrop\u001b[0m\u001b[0;34m(\u001b[0m\u001b[0mlabels\u001b[0m\u001b[0;34m,\u001b[0m \u001b[0merrors\u001b[0m\u001b[0;34m=\u001b[0m\u001b[0merrors\u001b[0m\u001b[0;34m)\u001b[0m\u001b[0;34m\u001b[0m\u001b[0;34m\u001b[0m\u001b[0m\n\u001b[0m\u001b[1;32m   3924\u001b[0m             \u001b[0mresult\u001b[0m \u001b[0;34m=\u001b[0m \u001b[0mself\u001b[0m\u001b[0;34m.\u001b[0m\u001b[0mreindex\u001b[0m\u001b[0;34m(\u001b[0m\u001b[0;34m**\u001b[0m\u001b[0;34m{\u001b[0m\u001b[0maxis_name\u001b[0m\u001b[0;34m:\u001b[0m \u001b[0mnew_axis\u001b[0m\u001b[0;34m}\u001b[0m\u001b[0;34m)\u001b[0m\u001b[0;34m\u001b[0m\u001b[0;34m\u001b[0m\u001b[0m\n\u001b[1;32m   3925\u001b[0m \u001b[0;34m\u001b[0m\u001b[0m\n",
            "\u001b[0;32m/usr/local/lib/python3.7/dist-packages/pandas/core/indexes/base.py\u001b[0m in \u001b[0;36mdrop\u001b[0;34m(self, labels, errors)\u001b[0m\n\u001b[1;32m   5285\u001b[0m         \u001b[0;32mif\u001b[0m \u001b[0mmask\u001b[0m\u001b[0;34m.\u001b[0m\u001b[0many\u001b[0m\u001b[0;34m(\u001b[0m\u001b[0;34m)\u001b[0m\u001b[0;34m:\u001b[0m\u001b[0;34m\u001b[0m\u001b[0;34m\u001b[0m\u001b[0m\n\u001b[1;32m   5286\u001b[0m             \u001b[0;32mif\u001b[0m \u001b[0merrors\u001b[0m \u001b[0;34m!=\u001b[0m \u001b[0;34m\"ignore\"\u001b[0m\u001b[0;34m:\u001b[0m\u001b[0;34m\u001b[0m\u001b[0;34m\u001b[0m\u001b[0m\n\u001b[0;32m-> 5287\u001b[0;31m                 \u001b[0;32mraise\u001b[0m \u001b[0mKeyError\u001b[0m\u001b[0;34m(\u001b[0m\u001b[0;34mf\"{labels[mask]} not found in axis\"\u001b[0m\u001b[0;34m)\u001b[0m\u001b[0;34m\u001b[0m\u001b[0;34m\u001b[0m\u001b[0m\n\u001b[0m\u001b[1;32m   5288\u001b[0m             \u001b[0mindexer\u001b[0m \u001b[0;34m=\u001b[0m \u001b[0mindexer\u001b[0m\u001b[0;34m[\u001b[0m\u001b[0;34m~\u001b[0m\u001b[0mmask\u001b[0m\u001b[0;34m]\u001b[0m\u001b[0;34m\u001b[0m\u001b[0;34m\u001b[0m\u001b[0m\n\u001b[1;32m   5289\u001b[0m         \u001b[0;32mreturn\u001b[0m \u001b[0mself\u001b[0m\u001b[0;34m.\u001b[0m\u001b[0mdelete\u001b[0m\u001b[0;34m(\u001b[0m\u001b[0mindexer\u001b[0m\u001b[0;34m)\u001b[0m\u001b[0;34m\u001b[0m\u001b[0;34m\u001b[0m\u001b[0m\n",
            "\u001b[0;31mKeyError\u001b[0m: \"['Exchange'] not found in axis\""
          ]
        }
      ]
    },
    {
      "cell_type": "code",
      "metadata": {
        "id": "iYYUiOyjr_gB"
      },
      "source": [
        "X1"
      ],
      "execution_count": null,
      "outputs": []
    },
    {
      "cell_type": "code",
      "metadata": {
        "id": "6DkyA9M2sArF"
      },
      "source": [
        "y1"
      ],
      "execution_count": null,
      "outputs": []
    },
    {
      "cell_type": "code",
      "metadata": {
        "id": "wR4gCn-ptIaX"
      },
      "source": [
        ""
      ],
      "execution_count": null,
      "outputs": []
    },
    {
      "cell_type": "code",
      "metadata": {
        "id": "titpN6MRtI-v"
      },
      "source": [
        "from sklearn.model_selection import train_test_split"
      ],
      "execution_count": null,
      "outputs": []
    },
    {
      "cell_type": "code",
      "metadata": {
        "id": "EgkHCD9ytI-y"
      },
      "source": [
        "X1_train,X1_test,y1_train,y1_test=train_test_split(X1,y1,test_size=0.2)\r\n",
        "X_test.shape"
      ],
      "execution_count": null,
      "outputs": []
    },
    {
      "cell_type": "code",
      "metadata": {
        "id": "0CH2BmB_tI-1"
      },
      "source": [
        "y1_test"
      ],
      "execution_count": null,
      "outputs": []
    },
    {
      "cell_type": "code",
      "metadata": {
        "id": "G5UMSFMdtI-2"
      },
      "source": [
        "from sklearn import metrics\r\n",
        "\r\n",
        "##dump your model using pickle so that we will re-use\r\n",
        "import pickle\r\n",
        "def predict(ml_model):\r\n",
        "    \r\n",
        "    model=ml_model.fit(X1_train,y1_train)\r\n",
        "    print('Training score : {}'.format(model.score(X1_train,y1_train)))\r\n",
        "    y1_prediction=model.predict(X1_test)\r\n",
        "    print('predictions are: \\n {}'.format(y1_prediction))\r\n",
        "    #print('Actual are: \\n {}'.format(y_test))\r\n",
        "    print('\\n')\r\n",
        "    sns.distplot(y1_test-y1_prediction)\r\n",
        "    actual=list(y1_test)\r\n",
        "    #dff=pd.DataFrame()\r\n",
        "    #dff['error']= metrics.mean_absolute_error(y_test,y_prediction)\r\n",
        "    errr = [((y1_prediction[i]-actual[i])/(actual[i])) for i in range(0,len(y1_test))]\r\n",
        "    print(errr)\r\n",
        "    return errr\r\n",
        "\r\n",
        "    \r\n",
        "    "
      ],
      "execution_count": null,
      "outputs": []
    },
    {
      "cell_type": "code",
      "metadata": {
        "id": "W72qQFIMtI-5"
      },
      "source": [
        "from sklearn.linear_model import LinearRegression\r\n",
        "a=predict(LinearRegression())\r\n"
      ],
      "execution_count": null,
      "outputs": []
    },
    {
      "cell_type": "code",
      "metadata": {
        "id": "lu49HDpbxhxz"
      },
      "source": [
        "df31=pd.DataFrame()\r\n",
        "df31['error']= a\r\n",
        "df31.loc[:,'k'] = '10'\r\n",
        "df31"
      ],
      "execution_count": null,
      "outputs": []
    },
    {
      "cell_type": "code",
      "metadata": {
        "id": "C_sBNFGGsBtf"
      },
      "source": [
        "X2=Canada20.drop('Exchange',axis=1,inplace=True)\r\n",
        "y2=Canada20['Exchange']"
      ],
      "execution_count": null,
      "outputs": []
    },
    {
      "cell_type": "code",
      "metadata": {
        "id": "IcI50OFSsjzb"
      },
      "source": [
        "X2"
      ],
      "execution_count": null,
      "outputs": []
    },
    {
      "cell_type": "code",
      "metadata": {
        "id": "o5yOcsScsk_o"
      },
      "source": [
        "y2"
      ],
      "execution_count": null,
      "outputs": []
    },
    {
      "cell_type": "code",
      "metadata": {
        "id": "oLNwTN4PtLhP"
      },
      "source": [
        "from sklearn.model_selection import train_test_split"
      ],
      "execution_count": null,
      "outputs": []
    },
    {
      "cell_type": "code",
      "metadata": {
        "id": "zqFqRzCstLhR"
      },
      "source": [
        "X2_train,X2_test,y2_train,y2_test=train_test_split(X2,y2,test_size=0.2)\r\n",
        "X2_test.shape"
      ],
      "execution_count": null,
      "outputs": []
    },
    {
      "cell_type": "code",
      "metadata": {
        "id": "z_QdZ1CptLhS"
      },
      "source": [
        "y2_test"
      ],
      "execution_count": null,
      "outputs": []
    },
    {
      "cell_type": "code",
      "metadata": {
        "id": "FGFgX9vNtLhU"
      },
      "source": [
        "from sklearn import metrics\r\n",
        "\r\n",
        "##dump your model using pickle so that we will re-use\r\n",
        "import pickle\r\n",
        "def predict(ml_model):\r\n",
        "    \r\n",
        "    model=ml_model.fit(X2_train,y2_train)\r\n",
        "    print('Training score : {}'.format(model.score(X2_train,y2_train)))\r\n",
        "    y2_prediction=model.predict(X2_test)\r\n",
        "    print('predictions are: \\n {}'.format(y2_prediction))\r\n",
        "    #print('Actual are: \\n {}'.format(y_test))\r\n",
        "    print('\\n')\r\n",
        "    sns.distplot(y2_test-y2_prediction)\r\n",
        "    actual=list(y2_test)\r\n",
        "    #dff=pd.DataFrame()\r\n",
        "    #dff['error']= metrics.mean_absolute_error(y_test,y_prediction)\r\n",
        "    errr = [((y2_prediction[i]-actual[i])/(actual[i])) for i in range(0,len(y2_test))]\r\n",
        "    print(errr)\r\n",
        "    return errr\r\n",
        "\r\n",
        "    \r\n",
        "    "
      ],
      "execution_count": null,
      "outputs": []
    },
    {
      "cell_type": "code",
      "metadata": {
        "id": "R7afoFoxtLhU"
      },
      "source": [
        "from sklearn.linear_model import LinearRegression\r\n",
        "a=predict(LinearRegression())\r\n"
      ],
      "execution_count": null,
      "outputs": []
    },
    {
      "cell_type": "code",
      "metadata": {
        "id": "HfciRAllxt_I"
      },
      "source": [
        "df32=pd.DataFrame()\r\n",
        "df32['error']= a\r\n",
        "df32.loc[:,'k'] = '20'\r\n",
        "df32"
      ],
      "execution_count": null,
      "outputs": []
    },
    {
      "cell_type": "code",
      "metadata": {
        "id": "CHzzVtP3sHZg"
      },
      "source": [
        "X3=Canada25.drop('Exchange',axis=1,inplace=True)\r\n",
        "y3=Canada25['Exchange']"
      ],
      "execution_count": null,
      "outputs": []
    },
    {
      "cell_type": "code",
      "metadata": {
        "id": "BlFXuVFHsmnq"
      },
      "source": [
        "X3"
      ],
      "execution_count": null,
      "outputs": []
    },
    {
      "cell_type": "code",
      "metadata": {
        "id": "xqDRBnpfsnzC"
      },
      "source": [
        "y3"
      ],
      "execution_count": null,
      "outputs": []
    },
    {
      "cell_type": "code",
      "metadata": {
        "id": "3AL7mpnbtNfI"
      },
      "source": [
        ""
      ],
      "execution_count": null,
      "outputs": []
    },
    {
      "cell_type": "code",
      "metadata": {
        "id": "Dm2lGCgftN9i"
      },
      "source": [
        "from sklearn.model_selection import train_test_split"
      ],
      "execution_count": null,
      "outputs": []
    },
    {
      "cell_type": "code",
      "metadata": {
        "id": "hKO-IUDHtN9j"
      },
      "source": [
        "X3_train,X3_test,y3_train,y3_test=train_test_split(X3,y3,test_size=0.2)\r\n",
        "X3_test.shape"
      ],
      "execution_count": null,
      "outputs": []
    },
    {
      "cell_type": "code",
      "metadata": {
        "id": "7SHZr1SYtN9l"
      },
      "source": [
        "y3_test"
      ],
      "execution_count": null,
      "outputs": []
    },
    {
      "cell_type": "code",
      "metadata": {
        "id": "0EQ4LoXwtN9m"
      },
      "source": [
        "from sklearn import metrics\r\n",
        "\r\n",
        "##dump your model using pickle so that we will re-use\r\n",
        "import pickle\r\n",
        "def predict(ml_model):\r\n",
        "    \r\n",
        "    model=ml_model.fit(X3_train,y3_train)\r\n",
        "    print('Training score : {}'.format(model.score(X3_train,y3_train)))\r\n",
        "    y_prediction=model.predict(X3_test)\r\n",
        "    print('predictions are: \\n {}'.format(y3_prediction))\r\n",
        "    #print('Actual are: \\n {}'.format(y_test))\r\n",
        "    print('\\n')\r\n",
        "    sns.distplot(y3_test-y3_prediction)\r\n",
        "    actual=list(y3_test)\r\n",
        "    #dff=pd.DataFrame()\r\n",
        "    #dff['error']= metrics.mean_absolute_error(y_test,y_prediction)\r\n",
        "    errr = [((y3_prediction[i]-actual[i])/(actual[i])) for i in range(0,len(y3_test))]\r\n",
        "    print(errr)\r\n",
        "    return errr\r\n",
        "\r\n",
        "    \r\n",
        "    "
      ],
      "execution_count": null,
      "outputs": []
    },
    {
      "cell_type": "code",
      "metadata": {
        "id": "JLAkDIrqtN9n"
      },
      "source": [
        "from sklearn.linear_model import LinearRegression\r\n",
        "a=predict(LinearRegression())\r\n"
      ],
      "execution_count": null,
      "outputs": []
    },
    {
      "cell_type": "code",
      "metadata": {
        "id": "BEDbZD_Ux5H7"
      },
      "source": [
        "df33=pd.DataFrame()\r\n",
        "df33['error']= a\r\n",
        "df33.loc[:,'k'] = '25'\r\n",
        "df33"
      ],
      "execution_count": null,
      "outputs": []
    },
    {
      "cell_type": "code",
      "metadata": {
        "id": "z3jxs2EasIEB"
      },
      "source": [
        "X4=Canada50.drop('Exchange',axis=1,inplace=True)\r\n",
        "y4=Canada50['Exchange']"
      ],
      "execution_count": null,
      "outputs": []
    },
    {
      "cell_type": "code",
      "metadata": {
        "id": "6uBh2rXosq00"
      },
      "source": [
        "X4"
      ],
      "execution_count": null,
      "outputs": []
    },
    {
      "cell_type": "code",
      "metadata": {
        "id": "pXFJWnKfssW5"
      },
      "source": [
        "y4"
      ],
      "execution_count": null,
      "outputs": []
    },
    {
      "cell_type": "code",
      "metadata": {
        "id": "TfYJUqHHtQU8"
      },
      "source": [
        ""
      ],
      "execution_count": null,
      "outputs": []
    },
    {
      "cell_type": "code",
      "metadata": {
        "id": "XmKAxyA0tQyr"
      },
      "source": [
        "from sklearn.model_selection import train_test_split"
      ],
      "execution_count": null,
      "outputs": []
    },
    {
      "cell_type": "code",
      "metadata": {
        "id": "Iheh3r_etQys"
      },
      "source": [
        "X4_train,X4_test,y4_train,y4_test=train_test_split(X4,y4,test_size=0.2)\r\n",
        "X4_test.shape"
      ],
      "execution_count": null,
      "outputs": []
    },
    {
      "cell_type": "code",
      "metadata": {
        "id": "9Q5H7IUStQyt"
      },
      "source": [
        "y4_test"
      ],
      "execution_count": null,
      "outputs": []
    },
    {
      "cell_type": "code",
      "metadata": {
        "id": "OaGzzgyWtQyu"
      },
      "source": [
        "from sklearn import metrics\r\n",
        "\r\n",
        "##dump your model using pickle so that we will re-use\r\n",
        "import pickle\r\n",
        "def predict(ml_model):\r\n",
        "    \r\n",
        "    model=ml_model.fit(X4_train,y4_train)\r\n",
        "    print('Training score : {}'.format(model.score(X4_train,y4_train)))\r\n",
        "    y_prediction=model.predict(X4_test)\r\n",
        "    print('predictions are: \\n {}'.format(y4_prediction))\r\n",
        "    #print('Actual are: \\n {}'.format(y_test))\r\n",
        "    print('\\n')\r\n",
        "    sns.distplot(y4_test-y4_prediction)\r\n",
        "    actual=list(y4_test)\r\n",
        "    #dff=pd.DataFrame()\r\n",
        "    #dff['error']= metrics.mean_absolute_error(y_test,y_prediction)\r\n",
        "    errr = [((y4_prediction[i]-actual[i])/(actual[i])) for i in range(0,len(y4_test))]\r\n",
        "    print(errr)\r\n",
        "    return errr\r\n",
        "\r\n",
        "    \r\n",
        "    "
      ],
      "execution_count": null,
      "outputs": []
    },
    {
      "cell_type": "code",
      "metadata": {
        "id": "FaiGd9I_tQyv"
      },
      "source": [
        "from sklearn.linear_model import LinearRegression\r\n",
        "a=predict(LinearRegression())\r\n"
      ],
      "execution_count": null,
      "outputs": []
    },
    {
      "cell_type": "code",
      "metadata": {
        "id": "20zUIYW8yJ8V"
      },
      "source": [
        "df34=pd.DataFrame()\r\n",
        "df34['error']= a\r\n",
        "df34.loc[:,'k'] = '50'\r\n",
        "df34"
      ],
      "execution_count": null,
      "outputs": []
    },
    {
      "cell_type": "code",
      "metadata": {
        "id": "OpFP8VGM0pPE"
      },
      "source": [
        "dfm11=[df30,df31,df32,df33,df34]\r\n",
        "df_err_linear1=pd.concat(dfm11)\r\n",
        "df_err_linear1"
      ],
      "execution_count": null,
      "outputs": []
    },
    {
      "cell_type": "code",
      "metadata": {
        "id": "Q3veVHAK2huj"
      },
      "source": [
        "plt.figure()\r\n",
        "df_err_linear1.boxplot(by=\"k\",color='blue')"
      ],
      "execution_count": null,
      "outputs": []
    },
    {
      "cell_type": "markdown",
      "metadata": {
        "id": "9DdAPyn6rMPD"
      },
      "source": [
        "#lets compare the average error of several clusters for the country canada"
      ]
    },
    {
      "cell_type": "code",
      "metadata": {
        "id": "WWPi-Iyje2OV"
      },
      "source": [
        "from sklearn.model_selection import train_test_split"
      ],
      "execution_count": null,
      "outputs": []
    },
    {
      "cell_type": "code",
      "metadata": {
        "id": "x9D1r7Vde3pN"
      },
      "source": [
        "X_train,X_test,y_train,y_test=train_test_split(X,y,test_size=0.2)\r\n",
        "X_test.shape"
      ],
      "execution_count": null,
      "outputs": []
    },
    {
      "cell_type": "code",
      "metadata": {
        "id": "of3wAcAYtd5i"
      },
      "source": [
        "y_test"
      ],
      "execution_count": null,
      "outputs": []
    },
    {
      "cell_type": "code",
      "metadata": {
        "id": "egNpdl2de3Zd"
      },
      "source": [
        "from sklearn import metrics\r\n",
        "\r\n",
        "##dump your model using pickle so that we will re-use\r\n",
        "import pickle\r\n",
        "def predict(ml_model):\r\n",
        "    \r\n",
        "    model=ml_model.fit(X_train,y_train)\r\n",
        "    print('Training score : {}'.format(model.score(X_train,y_train)))\r\n",
        "    y_prediction=model.predict(X_test)\r\n",
        "    print('predictions are: \\n {}'.format(y_prediction))\r\n",
        "    #print('Actual are: \\n {}'.format(y_test))\r\n",
        "    print('\\n')\r\n",
        "    r2_score=metrics.r2_score(y_test,y_prediction)\r\n",
        "    print('r2 score: {}'.format(r2_score))\r\n",
        "    mae=metrics.mean_absolute_error(y_test,y_prediction)\r\n",
        "    print('MAE:',mae)\r\n",
        "    print('MSE:',metrics.mean_squared_error(y_test,y_prediction))\r\n",
        "    print('RMSE:',np.sqrt(metrics.mean_squared_error(y_test,y_prediction)))\r\n",
        "    sns.distplot(y_test-y_prediction)\r\n",
        "    actual=list(y_test)\r\n",
        "    #dff=pd.DataFrame()\r\n",
        "    #dff['error']= metrics.mean_absolute_error(y_test,y_prediction)\r\n",
        "    errr = [((y_prediction[i]-actual[i])/(actual[i])) for i in range(0,len(y_test))]\r\n",
        "    print(errr)\r\n",
        "    return errr\r\n",
        "\r\n",
        "    \r\n",
        "    "
      ],
      "execution_count": null,
      "outputs": []
    },
    {
      "cell_type": "code",
      "metadata": {
        "id": "7YfdgJ-OfFVT"
      },
      "source": [
        "from sklearn.ensemble import RandomForestRegressor"
      ],
      "execution_count": null,
      "outputs": []
    },
    {
      "cell_type": "code",
      "metadata": {
        "id": "3yrUusZKfFF_"
      },
      "source": [
        "a=predict(RandomForestRegressor())\r\n",
        "\r\n"
      ],
      "execution_count": null,
      "outputs": []
    },
    {
      "cell_type": "code",
      "metadata": {
        "id": "f4Dt62Dej8Xb"
      },
      "source": [
        "a"
      ],
      "execution_count": null,
      "outputs": []
    },
    {
      "cell_type": "code",
      "metadata": {
        "id": "2CGG3wjTjW6g"
      },
      "source": [
        "df1=pd.DataFrame()\r\n",
        "df1['error']= a\r\n",
        "df1.loc[:,'country'] = 'canada'\r\n",
        "df1"
      ],
      "execution_count": null,
      "outputs": []
    },
    {
      "cell_type": "code",
      "metadata": {
        "id": "TqezzjYgBo5U"
      },
      "source": [
        "from sklearn.linear_model import LinearRegression\r\n",
        "a=predict(LinearRegression())\r\n"
      ],
      "execution_count": null,
      "outputs": []
    },
    {
      "cell_type": "code",
      "metadata": {
        "id": "3HQiCERXCLmy"
      },
      "source": [
        "df7=pd.DataFrame()\r\n",
        "df7['error']= a\r\n",
        "df7.loc[:,'country'] = 'Canada'\r\n",
        "df7"
      ],
      "execution_count": null,
      "outputs": []
    },
    {
      "cell_type": "code",
      "metadata": {
        "id": "Kn80WvRgF0Ap"
      },
      "source": [
        "from sklearn.linear_model import LinearRegression\r\n",
        "a=predict(Ridge())\r\n"
      ],
      "execution_count": null,
      "outputs": []
    },
    {
      "cell_type": "code",
      "metadata": {
        "id": "AspBz-IKF25W"
      },
      "source": [
        "\r\n",
        "df13=pd.DataFrame()\r\n",
        "df13['error']= a\r\n",
        "df13.loc[:,'country'] = 'Canada'\r\n",
        "df13"
      ],
      "execution_count": null,
      "outputs": []
    },
    {
      "cell_type": "code",
      "metadata": {
        "id": "SCUt0vxkIc1w"
      },
      "source": [
        "a=predict(SVR())\r\n",
        "\r\n"
      ],
      "execution_count": null,
      "outputs": []
    },
    {
      "cell_type": "code",
      "metadata": {
        "id": "2gK7nAW4Icxw"
      },
      "source": [
        "\r\n",
        "df19=pd.DataFrame()\r\n",
        "df19['error']= a\r\n",
        "df19.loc[:,'country'] = 'Canada'\r\n",
        "df19"
      ],
      "execution_count": null,
      "outputs": []
    },
    {
      "cell_type": "markdown",
      "metadata": {
        "id": "j0VJr9EiPGsM"
      },
      "source": [
        "#looking at the feature importance for canada"
      ]
    },
    {
      "cell_type": "code",
      "metadata": {
        "id": "3MCiSiqaS-IO"
      },
      "source": [
        "feature_imp()"
      ],
      "execution_count": null,
      "outputs": []
    },
    {
      "cell_type": "markdown",
      "metadata": {
        "id": "7UX-kT4_fYKM"
      },
      "source": [
        "#2: China"
      ]
    },
    {
      "cell_type": "code",
      "metadata": {
        "id": "yQF6Cujgfb93"
      },
      "source": [
        "China"
      ],
      "execution_count": null,
      "outputs": []
    },
    {
      "cell_type": "code",
      "metadata": {
        "id": "T_PzE_1YfdYT"
      },
      "source": [
        "X=China.drop('Exchange',axis=1)\r\n",
        "X"
      ],
      "execution_count": null,
      "outputs": []
    },
    {
      "cell_type": "code",
      "metadata": {
        "id": "n4xvGyQOfnNJ"
      },
      "source": [
        "y=China['Exchange']\r\n",
        "y"
      ],
      "execution_count": null,
      "outputs": []
    },
    {
      "cell_type": "code",
      "metadata": {
        "id": "5UhoTDgUklwS"
      },
      "source": [
        "from sklearn.model_selection import train_test_split\r\n",
        "X_train,X_test,y_train,y_test=train_test_split(X,y,test_size=0.2)\r\n",
        "X_test.shape\r\n",
        "a=predict(RandomForestRegressor())\r\n",
        "\r\n"
      ],
      "execution_count": null,
      "outputs": []
    },
    {
      "cell_type": "code",
      "metadata": {
        "id": "PLnIn0sXk7Qz"
      },
      "source": [
        "df2=pd.DataFrame()\r\n",
        "df2['error']= a\r\n",
        "df2.loc[:,'country'] = 'china'\r\n",
        "df2"
      ],
      "execution_count": null,
      "outputs": []
    },
    {
      "cell_type": "code",
      "metadata": {
        "id": "nbi-z-rfCgoX"
      },
      "source": [
        "from sklearn.linear_model import LinearRegression\r\n",
        "a=predict(LinearRegression())\r\n"
      ],
      "execution_count": null,
      "outputs": []
    },
    {
      "cell_type": "code",
      "metadata": {
        "id": "s9kQR9puCgkV"
      },
      "source": [
        "df8=pd.DataFrame()\r\n",
        "df8['error']= a\r\n",
        "df8.loc[:,'country'] = 'china'\r\n",
        "df8"
      ],
      "execution_count": null,
      "outputs": []
    },
    {
      "cell_type": "code",
      "metadata": {
        "id": "opBnh9bWGNd6"
      },
      "source": [
        "from sklearn.linear_model import LinearRegression\r\n",
        "a=predict(Ridge())\r\n"
      ],
      "execution_count": null,
      "outputs": []
    },
    {
      "cell_type": "code",
      "metadata": {
        "id": "aJK-rYnxGNNM"
      },
      "source": [
        "df14=pd.DataFrame()\r\n",
        "df14['error']= a\r\n",
        "df14.loc[:,'country'] = 'china'\r\n",
        "df14"
      ],
      "execution_count": null,
      "outputs": []
    },
    {
      "cell_type": "code",
      "metadata": {
        "id": "c03yHqLqIx4u"
      },
      "source": [
        "a=predict(SVR())\r\n",
        "\r\n"
      ],
      "execution_count": null,
      "outputs": []
    },
    {
      "cell_type": "code",
      "metadata": {
        "id": "L1PX1PI0Ix0p"
      },
      "source": [
        "df20=pd.DataFrame()\r\n",
        "df20['error']= a\r\n",
        "df20.loc[:,'country'] = 'china'\r\n",
        "df20"
      ],
      "execution_count": null,
      "outputs": []
    },
    {
      "cell_type": "markdown",
      "metadata": {
        "id": "Qjiut7ITf2BV"
      },
      "source": [
        "#looking at the feature importance for china"
      ]
    },
    {
      "cell_type": "code",
      "metadata": {
        "id": "9HbIu-J3fspR"
      },
      "source": [
        "feature_imp()"
      ],
      "execution_count": null,
      "outputs": []
    },
    {
      "cell_type": "markdown",
      "metadata": {
        "id": "_HAdKKCPgHf9"
      },
      "source": [
        "#3: India"
      ]
    },
    {
      "cell_type": "code",
      "metadata": {
        "id": "hxpnGg3Af8nm"
      },
      "source": [
        "India"
      ],
      "execution_count": null,
      "outputs": []
    },
    {
      "cell_type": "code",
      "metadata": {
        "id": "c7yYprTugNot"
      },
      "source": [
        "X=India.drop('Exchange',axis=1)\r\n",
        "X"
      ],
      "execution_count": null,
      "outputs": []
    },
    {
      "cell_type": "code",
      "metadata": {
        "id": "7A1nR9mggRtc"
      },
      "source": [
        "y=India['Exchange']\r\n",
        "y"
      ],
      "execution_count": null,
      "outputs": []
    },
    {
      "cell_type": "code",
      "metadata": {
        "id": "BbfroFUHlOot"
      },
      "source": [
        "from sklearn.model_selection import train_test_split\r\n",
        "X_train,X_test,y_train,y_test=train_test_split(X,y,test_size=0.2)\r\n",
        "X_test.shape\r\n",
        "a=predict(RandomForestRegressor())\r\n",
        "\r\n"
      ],
      "execution_count": null,
      "outputs": []
    },
    {
      "cell_type": "code",
      "metadata": {
        "id": "1IJ6JgiylOdg"
      },
      "source": [
        "df3=pd.DataFrame()\r\n",
        "df3['error']= a\r\n",
        "df3.loc[:,'country'] = 'India'\r\n",
        "df3"
      ],
      "execution_count": null,
      "outputs": []
    },
    {
      "cell_type": "code",
      "metadata": {
        "id": "td76V5aSC0up"
      },
      "source": [
        "from sklearn.linear_model import LinearRegression\r\n",
        "a=predict(LinearRegression())\r\n"
      ],
      "execution_count": null,
      "outputs": []
    },
    {
      "cell_type": "code",
      "metadata": {
        "id": "9qUXOdTCC0rp"
      },
      "source": [
        "df9=pd.DataFrame()\r\n",
        "df9['error']= a\r\n",
        "df9.loc[:,'country'] = 'India'\r\n",
        "df9"
      ],
      "execution_count": null,
      "outputs": []
    },
    {
      "cell_type": "code",
      "metadata": {
        "id": "vWrkIBnOGZQt"
      },
      "source": [
        "from sklearn.linear_model import LinearRegression\r\n",
        "a=predict(Ridge())\r\n"
      ],
      "execution_count": null,
      "outputs": []
    },
    {
      "cell_type": "code",
      "metadata": {
        "id": "324L6LnMGZM8"
      },
      "source": [
        "df15=pd.DataFrame()\r\n",
        "df15['error']= a\r\n",
        "df15.loc[:,'country'] = 'India'\r\n",
        "df15"
      ],
      "execution_count": null,
      "outputs": []
    },
    {
      "cell_type": "code",
      "metadata": {
        "id": "F0ZVjzHEI-H4"
      },
      "source": [
        "a=predict(SVR())"
      ],
      "execution_count": null,
      "outputs": []
    },
    {
      "cell_type": "code",
      "metadata": {
        "id": "gqQd91cNI-En"
      },
      "source": [
        "df21=pd.DataFrame()\r\n",
        "df21['error']= a\r\n",
        "df21.loc[:,'country'] = 'India'\r\n",
        "df21"
      ],
      "execution_count": null,
      "outputs": []
    },
    {
      "cell_type": "markdown",
      "metadata": {
        "id": "Gc81AYcqgaso"
      },
      "source": [
        "#looking at the feature importance for india"
      ]
    },
    {
      "cell_type": "code",
      "metadata": {
        "id": "dnqHjkq4gXDv"
      },
      "source": [
        "feature_imp()"
      ],
      "execution_count": null,
      "outputs": []
    },
    {
      "cell_type": "markdown",
      "metadata": {
        "id": "lotW9N8XheFJ"
      },
      "source": [
        "#4: Japan"
      ]
    },
    {
      "cell_type": "code",
      "metadata": {
        "id": "FDVQk-cxgmPv"
      },
      "source": [
        "Japan"
      ],
      "execution_count": null,
      "outputs": []
    },
    {
      "cell_type": "code",
      "metadata": {
        "id": "ZhOsHPfEhiDC"
      },
      "source": [
        "X=Japan.drop('Exchange',axis=1)\r\n",
        "X"
      ],
      "execution_count": null,
      "outputs": []
    },
    {
      "cell_type": "code",
      "metadata": {
        "id": "cktspvDvhpI3"
      },
      "source": [
        "y=Japan['Exchange']\r\n",
        "y"
      ],
      "execution_count": null,
      "outputs": []
    },
    {
      "cell_type": "code",
      "metadata": {
        "id": "lyRgCVevlaw3"
      },
      "source": [
        "from sklearn.model_selection import train_test_split\r\n",
        "X_train,X_test,y_train,y_test=train_test_split(X,y,test_size=0.2)\r\n",
        "X_test.shape\r\n",
        "a=predict(RandomForestRegressor())\r\n",
        "\r\n"
      ],
      "execution_count": null,
      "outputs": []
    },
    {
      "cell_type": "code",
      "metadata": {
        "id": "sg_XzkkAlarB"
      },
      "source": [
        "df4=pd.DataFrame()\r\n",
        "df4['error']= a\r\n",
        "df4.loc[:,'country'] = 'Japan'\r\n",
        "df4"
      ],
      "execution_count": null,
      "outputs": []
    },
    {
      "cell_type": "code",
      "metadata": {
        "id": "sBvTDJL3DBKo"
      },
      "source": [
        "from sklearn.linear_model import LinearRegression\r\n",
        "a=predict(LinearRegression())\r\n"
      ],
      "execution_count": null,
      "outputs": []
    },
    {
      "cell_type": "code",
      "metadata": {
        "id": "aqV5Og6gDBHs"
      },
      "source": [
        "df10=pd.DataFrame()\r\n",
        "df10['error']= a\r\n",
        "df10.loc[:,'country'] = 'Japan'\r\n",
        "df10"
      ],
      "execution_count": null,
      "outputs": []
    },
    {
      "cell_type": "code",
      "metadata": {
        "id": "BWhP7cEcGio0"
      },
      "source": [
        "from sklearn.linear_model import LinearRegression\r\n",
        "a=predict(Ridge())\r\n"
      ],
      "execution_count": null,
      "outputs": []
    },
    {
      "cell_type": "code",
      "metadata": {
        "id": "f_NbR_taGiky"
      },
      "source": [
        "df16=pd.DataFrame()\r\n",
        "df16['error']= a\r\n",
        "df16.loc[:,'country'] = 'Japan'\r\n",
        "df16"
      ],
      "execution_count": null,
      "outputs": []
    },
    {
      "cell_type": "code",
      "metadata": {
        "id": "Pi-r0V_QJQ5R"
      },
      "source": [
        "a=predict(SVR())"
      ],
      "execution_count": null,
      "outputs": []
    },
    {
      "cell_type": "code",
      "metadata": {
        "id": "J8CQqwVpJQ2X"
      },
      "source": [
        "df22=pd.DataFrame()\r\n",
        "df22['error']= a\r\n",
        "df22.loc[:,'country'] = 'Japan'\r\n",
        "df22"
      ],
      "execution_count": null,
      "outputs": []
    },
    {
      "cell_type": "markdown",
      "metadata": {
        "id": "J2wI162RhyIs"
      },
      "source": [
        "#Feature Imporance for Japan"
      ]
    },
    {
      "cell_type": "code",
      "metadata": {
        "id": "a8DUo_7fhwfU"
      },
      "source": [
        "feature_imp()"
      ],
      "execution_count": null,
      "outputs": []
    },
    {
      "cell_type": "markdown",
      "metadata": {
        "id": "2a9--q0NiPbg"
      },
      "source": [
        "#5: Switzerland"
      ]
    },
    {
      "cell_type": "code",
      "metadata": {
        "id": "boAyft1ZiKUO"
      },
      "source": [
        "Switzerland"
      ],
      "execution_count": null,
      "outputs": []
    },
    {
      "cell_type": "code",
      "metadata": {
        "id": "0W4uiu6zihrl"
      },
      "source": [
        "X=Switzerland.drop('Exchange',axis=1)\r\n",
        "X"
      ],
      "execution_count": null,
      "outputs": []
    },
    {
      "cell_type": "code",
      "metadata": {
        "id": "qjQD8o5Xinnn"
      },
      "source": [
        "y=Switzerland['Exchange']\r\n",
        "y"
      ],
      "execution_count": null,
      "outputs": []
    },
    {
      "cell_type": "code",
      "metadata": {
        "id": "xjel-oI4lnIL"
      },
      "source": [
        "from sklearn.model_selection import train_test_split\r\n",
        "X_train,X_test,y_train,y_test=train_test_split(X,y,test_size=0.2)\r\n",
        "X_test.shape\r\n",
        "a=predict(RandomForestRegressor())\r\n",
        "\r\n"
      ],
      "execution_count": null,
      "outputs": []
    },
    {
      "cell_type": "code",
      "metadata": {
        "id": "CpD2NtbxlnFW"
      },
      "source": [
        "df5=pd.DataFrame()\r\n",
        "df5['error']= a\r\n",
        "df5.loc[:,'country'] = 'Switzerland'\r\n",
        "df5"
      ],
      "execution_count": null,
      "outputs": []
    },
    {
      "cell_type": "code",
      "metadata": {
        "id": "8wf7LRMair5G"
      },
      "source": [
        "feature_imp()"
      ],
      "execution_count": null,
      "outputs": []
    },
    {
      "cell_type": "code",
      "metadata": {
        "id": "_anF2ENFDIW3"
      },
      "source": [
        "from sklearn.linear_model import LinearRegression\r\n",
        "a=predict(LinearRegression())\r\n"
      ],
      "execution_count": null,
      "outputs": []
    },
    {
      "cell_type": "code",
      "metadata": {
        "id": "nEKySKP0DIQN"
      },
      "source": [
        "df11=pd.DataFrame()\r\n",
        "df11['error']= a\r\n",
        "df11.loc[:,'country'] = 'Switzerland'\r\n",
        "df11"
      ],
      "execution_count": null,
      "outputs": []
    },
    {
      "cell_type": "code",
      "metadata": {
        "id": "YSeI3EnIG24C"
      },
      "source": [
        "from sklearn.linear_model import LinearRegression\r\n",
        "a=predict(Ridge())\r\n"
      ],
      "execution_count": null,
      "outputs": []
    },
    {
      "cell_type": "code",
      "metadata": {
        "id": "UoHsqAlvG21C"
      },
      "source": [
        "df17=pd.DataFrame()\r\n",
        "df17['error']= a\r\n",
        "df17.loc[:,'country'] = 'Switzerland'\r\n",
        "df17"
      ],
      "execution_count": null,
      "outputs": []
    },
    {
      "cell_type": "code",
      "metadata": {
        "id": "DNMxme86Jhim"
      },
      "source": [
        "a=predict(SVR())"
      ],
      "execution_count": null,
      "outputs": []
    },
    {
      "cell_type": "code",
      "metadata": {
        "id": "2HoLWWsXJhby"
      },
      "source": [
        "df23=pd.DataFrame()\r\n",
        "df23['error']= a\r\n",
        "df23.loc[:,'country'] = 'Switzerland'\r\n",
        "df23"
      ],
      "execution_count": null,
      "outputs": []
    },
    {
      "cell_type": "markdown",
      "metadata": {
        "id": "4SU4Q1DUivz7"
      },
      "source": [
        "#6: UK"
      ]
    },
    {
      "cell_type": "code",
      "metadata": {
        "id": "rBWWvNFLiuzR"
      },
      "source": [
        "UK"
      ],
      "execution_count": null,
      "outputs": []
    },
    {
      "cell_type": "code",
      "metadata": {
        "id": "QxMV4kaRi-hR"
      },
      "source": [
        "X=UK.drop('Exchange',axis=1)\r\n",
        "X"
      ],
      "execution_count": null,
      "outputs": []
    },
    {
      "cell_type": "code",
      "metadata": {
        "id": "vnZC7rv6jCQ7"
      },
      "source": [
        "y=UK['Exchange']\r\n",
        "y"
      ],
      "execution_count": null,
      "outputs": []
    },
    {
      "cell_type": "code",
      "metadata": {
        "id": "NZ7c85RalxqL"
      },
      "source": [
        "from sklearn.model_selection import train_test_split\r\n",
        "X_train,X_test,y_train,y_test=train_test_split(X,y,test_size=0.2)\r\n",
        "X_test.shape\r\n",
        "a=predict(RandomForestRegressor())\r\n",
        "\r\n"
      ],
      "execution_count": null,
      "outputs": []
    },
    {
      "cell_type": "code",
      "metadata": {
        "id": "r72T2XA_lxlu"
      },
      "source": [
        "df6=pd.DataFrame()\r\n",
        "df6['error']= a\r\n",
        "df6.loc[:,'country'] = 'Uk'\r\n",
        "df6"
      ],
      "execution_count": null,
      "outputs": []
    },
    {
      "cell_type": "code",
      "metadata": {
        "id": "BKcBjJB0ELvL"
      },
      "source": [
        "from sklearn.linear_model import LinearRegression\r\n",
        "a=predict(LinearRegression())\r\n"
      ],
      "execution_count": null,
      "outputs": []
    },
    {
      "cell_type": "code",
      "metadata": {
        "id": "ElPmIaiaELsA"
      },
      "source": [
        "df12=pd.DataFrame()\r\n",
        "df12['error']= a\r\n",
        "df12.loc[:,'country'] = 'Switzerland'\r\n",
        "df12"
      ],
      "execution_count": null,
      "outputs": []
    },
    {
      "cell_type": "code",
      "metadata": {
        "id": "MR8JZWu7G-Mb"
      },
      "source": [
        "from sklearn.linear_model import LinearRegression\r\n",
        "a=predict(Ridge())\r\n"
      ],
      "execution_count": null,
      "outputs": []
    },
    {
      "cell_type": "code",
      "metadata": {
        "id": "NHw8XWb8G-Ik"
      },
      "source": [
        "df18=pd.DataFrame()\r\n",
        "df18['error']= a\r\n",
        "df18.loc[:,'country'] = 'Switzerland'\r\n",
        "df18"
      ],
      "execution_count": null,
      "outputs": []
    },
    {
      "cell_type": "code",
      "metadata": {
        "id": "8cuLdlkMJ56p"
      },
      "source": [
        "a=predict(SVR())"
      ],
      "execution_count": null,
      "outputs": []
    },
    {
      "cell_type": "code",
      "metadata": {
        "id": "bL0JEZp-J52C"
      },
      "source": [
        "df24=pd.DataFrame()\r\n",
        "df24['error']= a\r\n",
        "df24.loc[:,'country'] = 'Switzerland'\r\n",
        "df24"
      ],
      "execution_count": null,
      "outputs": []
    },
    {
      "cell_type": "code",
      "metadata": {
        "id": "V4siGedjjJMR"
      },
      "source": [
        "feature_imp()"
      ],
      "execution_count": null,
      "outputs": []
    },
    {
      "cell_type": "code",
      "metadata": {
        "id": "anUmONN3jMgg"
      },
      "source": [
        "dfm1=[df1,df2,df3,df4,df5,df6]\r\n",
        "df_err_random=pd.concat(dfm1)\r\n",
        "df_err_random"
      ],
      "execution_count": null,
      "outputs": []
    },
    {
      "cell_type": "code",
      "metadata": {
        "id": "Azpgij1UEkyu"
      },
      "source": [
        "dfm2=[df7,df8,df9,df10,df11,df12]\r\n",
        "df_err_linear=pd.concat(dfm2)\r\n",
        "df_err_linear"
      ],
      "execution_count": null,
      "outputs": []
    },
    {
      "cell_type": "code",
      "metadata": {
        "id": "Yz3eE07KHFMN"
      },
      "source": [
        "dfm3=[df13,df14,df15,df16,df17,df18]\r\n",
        "df_err_ridge=pd.concat(dfm2)\r\n",
        "df_err_ridge"
      ],
      "execution_count": null,
      "outputs": []
    },
    {
      "cell_type": "code",
      "metadata": {
        "id": "kJFoBjSFKHXf"
      },
      "source": [
        "dfm4=[df19,df20,df21,df22,df23,df24]\r\n",
        "df_err_svr=pd.concat(dfm1)\r\n",
        "df_err_svr"
      ],
      "execution_count": null,
      "outputs": []
    },
    {
      "cell_type": "markdown",
      "metadata": {
        "id": "0wZWd9MQAzAP"
      },
      "source": [
        "#Average error of Random Forest using 5 clusters"
      ]
    },
    {
      "cell_type": "code",
      "metadata": {
        "id": "wY0OSdolmU_I"
      },
      "source": [
        "plt.figure()\r\n",
        "df_err_random.boxplot(by=\"country\",color='blue')"
      ],
      "execution_count": null,
      "outputs": []
    },
    {
      "cell_type": "markdown",
      "metadata": {
        "id": "PgaYohi1A8rM"
      },
      "source": [
        "#Average error of Linear regression using 5 clusters"
      ]
    },
    {
      "cell_type": "code",
      "metadata": {
        "id": "8qAVLZyIA8KU"
      },
      "source": [
        "plt.figure()\r\n",
        "df_err_linear.boxplot(by=\"country\",color='blue')"
      ],
      "execution_count": null,
      "outputs": []
    },
    {
      "cell_type": "markdown",
      "metadata": {
        "id": "659CQL0tE8T0"
      },
      "source": [
        "#Average error of Ridge Regressor using 5 clusters"
      ]
    },
    {
      "cell_type": "code",
      "metadata": {
        "id": "4EMJ5B4kmeRs"
      },
      "source": [
        "plt.figure()\r\n",
        "df_err_ridge.boxplot(by=\"country\",color='blue')"
      ],
      "execution_count": null,
      "outputs": []
    },
    {
      "cell_type": "markdown",
      "metadata": {
        "id": "VrVZ9RTdHvc3"
      },
      "source": [
        "#Average error of Support Vector Regressor using 5 clusters."
      ]
    },
    {
      "cell_type": "code",
      "metadata": {
        "id": "wGVxny02H2Pw"
      },
      "source": [
        "plt.figure()\r\n",
        "df_err_svr.boxplot(by=\"country\",color='blue')"
      ],
      "execution_count": null,
      "outputs": []
    }
  ]
}