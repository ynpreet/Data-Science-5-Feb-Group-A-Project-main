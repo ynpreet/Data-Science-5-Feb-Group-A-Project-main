{
 "cells": [
  {
   "cell_type": "code",
   "execution_count": 1,
   "metadata": {},
   "outputs": [],
   "source": [
    "import pandas as pd\n",
    "import numpy as np\n",
    "import matplotlib.pyplot as plt"
   ]
  },
  {
   "cell_type": "code",
   "execution_count": 3,
   "metadata": {},
   "outputs": [],
   "source": [
    "switz=pd.read_csv('D:/Technocolabs Final work files/k=5_MergedData/Switzerland.csv')"
   ]
  },
  {
   "cell_type": "code",
   "execution_count": 4,
   "metadata": {},
   "outputs": [
    {
     "data": {
      "text/html": [
       "<div>\n",
       "<style scoped>\n",
       "    .dataframe tbody tr th:only-of-type {\n",
       "        vertical-align: middle;\n",
       "    }\n",
       "\n",
       "    .dataframe tbody tr th {\n",
       "        vertical-align: top;\n",
       "    }\n",
       "\n",
       "    .dataframe thead th {\n",
       "        text-align: right;\n",
       "    }\n",
       "</style>\n",
       "<table border=\"1\" class=\"dataframe\">\n",
       "  <thead>\n",
       "    <tr style=\"text-align: right;\">\n",
       "      <th></th>\n",
       "      <th>Year</th>\n",
       "      <th>PPP</th>\n",
       "      <th>Exchange</th>\n",
       "      <th>GDP</th>\n",
       "      <th>vector_1</th>\n",
       "      <th>vector_2</th>\n",
       "      <th>vector_3</th>\n",
       "      <th>vector_4</th>\n",
       "      <th>vector_5</th>\n",
       "    </tr>\n",
       "  </thead>\n",
       "  <tbody>\n",
       "    <tr>\n",
       "      <td>0</td>\n",
       "      <td>1981</td>\n",
       "      <td>1.892582</td>\n",
       "      <td>1.964242</td>\n",
       "      <td>1.090000e+11</td>\n",
       "      <td>0.100003</td>\n",
       "      <td>0.100004</td>\n",
       "      <td>0.100066</td>\n",
       "      <td>0.100020</td>\n",
       "      <td>0.599906</td>\n",
       "    </tr>\n",
       "    <tr>\n",
       "      <td>1</td>\n",
       "      <td>1982</td>\n",
       "      <td>1.913434</td>\n",
       "      <td>2.030275</td>\n",
       "      <td>1.120000e+11</td>\n",
       "      <td>0.200000</td>\n",
       "      <td>0.200000</td>\n",
       "      <td>0.200000</td>\n",
       "      <td>0.200000</td>\n",
       "      <td>0.200000</td>\n",
       "    </tr>\n",
       "    <tr>\n",
       "      <td>2</td>\n",
       "      <td>1983</td>\n",
       "      <td>1.884895</td>\n",
       "      <td>2.099142</td>\n",
       "      <td>1.110000e+11</td>\n",
       "      <td>0.092599</td>\n",
       "      <td>0.552755</td>\n",
       "      <td>0.166161</td>\n",
       "      <td>0.095321</td>\n",
       "      <td>0.093163</td>\n",
       "    </tr>\n",
       "    <tr>\n",
       "      <td>3</td>\n",
       "      <td>1984</td>\n",
       "      <td>1.887659</td>\n",
       "      <td>2.349683</td>\n",
       "      <td>1.060000e+11</td>\n",
       "      <td>0.100043</td>\n",
       "      <td>0.599702</td>\n",
       "      <td>0.100172</td>\n",
       "      <td>0.100015</td>\n",
       "      <td>0.100069</td>\n",
       "    </tr>\n",
       "    <tr>\n",
       "      <td>4</td>\n",
       "      <td>1985</td>\n",
       "      <td>1.871343</td>\n",
       "      <td>2.457125</td>\n",
       "      <td>1.080000e+11</td>\n",
       "      <td>0.082920</td>\n",
       "      <td>0.350074</td>\n",
       "      <td>0.399832</td>\n",
       "      <td>0.083997</td>\n",
       "      <td>0.083177</td>\n",
       "    </tr>\n",
       "  </tbody>\n",
       "</table>\n",
       "</div>"
      ],
      "text/plain": [
       "   Year       PPP  Exchange           GDP  vector_1  vector_2  vector_3  \\\n",
       "0  1981  1.892582  1.964242  1.090000e+11  0.100003  0.100004  0.100066   \n",
       "1  1982  1.913434  2.030275  1.120000e+11  0.200000  0.200000  0.200000   \n",
       "2  1983  1.884895  2.099142  1.110000e+11  0.092599  0.552755  0.166161   \n",
       "3  1984  1.887659  2.349683  1.060000e+11  0.100043  0.599702  0.100172   \n",
       "4  1985  1.871343  2.457125  1.080000e+11  0.082920  0.350074  0.399832   \n",
       "\n",
       "   vector_4  vector_5  \n",
       "0  0.100020  0.599906  \n",
       "1  0.200000  0.200000  \n",
       "2  0.095321  0.093163  \n",
       "3  0.100015  0.100069  \n",
       "4  0.083997  0.083177  "
      ]
     },
     "execution_count": 4,
     "metadata": {},
     "output_type": "execute_result"
    }
   ],
   "source": [
    "switz.head()"
   ]
  },
  {
   "cell_type": "code",
   "execution_count": 5,
   "metadata": {},
   "outputs": [
    {
     "data": {
      "text/html": [
       "<div>\n",
       "<style scoped>\n",
       "    .dataframe tbody tr th:only-of-type {\n",
       "        vertical-align: middle;\n",
       "    }\n",
       "\n",
       "    .dataframe tbody tr th {\n",
       "        vertical-align: top;\n",
       "    }\n",
       "\n",
       "    .dataframe thead th {\n",
       "        text-align: right;\n",
       "    }\n",
       "</style>\n",
       "<table border=\"1\" class=\"dataframe\">\n",
       "  <thead>\n",
       "    <tr style=\"text-align: right;\">\n",
       "      <th></th>\n",
       "      <th>Year</th>\n",
       "      <th>PPP</th>\n",
       "      <th>GDP</th>\n",
       "      <th>vector_1</th>\n",
       "      <th>vector_2</th>\n",
       "      <th>vector_3</th>\n",
       "      <th>vector_4</th>\n",
       "      <th>vector_5</th>\n",
       "    </tr>\n",
       "  </thead>\n",
       "  <tbody>\n",
       "    <tr>\n",
       "      <td>0</td>\n",
       "      <td>1981</td>\n",
       "      <td>1.892582</td>\n",
       "      <td>1.090000e+11</td>\n",
       "      <td>0.100003</td>\n",
       "      <td>0.100004</td>\n",
       "      <td>0.100066</td>\n",
       "      <td>0.100020</td>\n",
       "      <td>0.599906</td>\n",
       "    </tr>\n",
       "    <tr>\n",
       "      <td>1</td>\n",
       "      <td>1982</td>\n",
       "      <td>1.913434</td>\n",
       "      <td>1.120000e+11</td>\n",
       "      <td>0.200000</td>\n",
       "      <td>0.200000</td>\n",
       "      <td>0.200000</td>\n",
       "      <td>0.200000</td>\n",
       "      <td>0.200000</td>\n",
       "    </tr>\n",
       "    <tr>\n",
       "      <td>2</td>\n",
       "      <td>1983</td>\n",
       "      <td>1.884895</td>\n",
       "      <td>1.110000e+11</td>\n",
       "      <td>0.092599</td>\n",
       "      <td>0.552755</td>\n",
       "      <td>0.166161</td>\n",
       "      <td>0.095321</td>\n",
       "      <td>0.093163</td>\n",
       "    </tr>\n",
       "    <tr>\n",
       "      <td>3</td>\n",
       "      <td>1984</td>\n",
       "      <td>1.887659</td>\n",
       "      <td>1.060000e+11</td>\n",
       "      <td>0.100043</td>\n",
       "      <td>0.599702</td>\n",
       "      <td>0.100172</td>\n",
       "      <td>0.100015</td>\n",
       "      <td>0.100069</td>\n",
       "    </tr>\n",
       "    <tr>\n",
       "      <td>4</td>\n",
       "      <td>1985</td>\n",
       "      <td>1.871343</td>\n",
       "      <td>1.080000e+11</td>\n",
       "      <td>0.082920</td>\n",
       "      <td>0.350074</td>\n",
       "      <td>0.399832</td>\n",
       "      <td>0.083997</td>\n",
       "      <td>0.083177</td>\n",
       "    </tr>\n",
       "    <tr>\n",
       "      <td>5</td>\n",
       "      <td>1986</td>\n",
       "      <td>1.890066</td>\n",
       "      <td>1.540000e+11</td>\n",
       "      <td>0.100043</td>\n",
       "      <td>0.599706</td>\n",
       "      <td>0.100168</td>\n",
       "      <td>0.100014</td>\n",
       "      <td>0.100069</td>\n",
       "    </tr>\n",
       "    <tr>\n",
       "      <td>6</td>\n",
       "      <td>1987</td>\n",
       "      <td>1.884920</td>\n",
       "      <td>1.930000e+11</td>\n",
       "      <td>0.200000</td>\n",
       "      <td>0.200000</td>\n",
       "      <td>0.200000</td>\n",
       "      <td>0.200000</td>\n",
       "      <td>0.200000</td>\n",
       "    </tr>\n",
       "    <tr>\n",
       "      <td>7</td>\n",
       "      <td>1988</td>\n",
       "      <td>1.871498</td>\n",
       "      <td>2.090000e+11</td>\n",
       "      <td>0.100043</td>\n",
       "      <td>0.599704</td>\n",
       "      <td>0.100169</td>\n",
       "      <td>0.100014</td>\n",
       "      <td>0.100069</td>\n",
       "    </tr>\n",
       "    <tr>\n",
       "      <td>8</td>\n",
       "      <td>1989</td>\n",
       "      <td>1.863180</td>\n",
       "      <td>2.020000e+11</td>\n",
       "      <td>0.267549</td>\n",
       "      <td>0.082896</td>\n",
       "      <td>0.482542</td>\n",
       "      <td>0.083702</td>\n",
       "      <td>0.083311</td>\n",
       "    </tr>\n",
       "    <tr>\n",
       "      <td>9</td>\n",
       "      <td>1990</td>\n",
       "      <td>1.936289</td>\n",
       "      <td>2.580000e+11</td>\n",
       "      <td>0.200000</td>\n",
       "      <td>0.200000</td>\n",
       "      <td>0.200000</td>\n",
       "      <td>0.200000</td>\n",
       "      <td>0.200000</td>\n",
       "    </tr>\n",
       "    <tr>\n",
       "      <td>10</td>\n",
       "      <td>1991</td>\n",
       "      <td>1.974260</td>\n",
       "      <td>2.610000e+11</td>\n",
       "      <td>0.200000</td>\n",
       "      <td>0.200000</td>\n",
       "      <td>0.200000</td>\n",
       "      <td>0.200000</td>\n",
       "      <td>0.200000</td>\n",
       "    </tr>\n",
       "    <tr>\n",
       "      <td>11</td>\n",
       "      <td>1992</td>\n",
       "      <td>1.971282</td>\n",
       "      <td>2.720000e+11</td>\n",
       "      <td>0.100003</td>\n",
       "      <td>0.100004</td>\n",
       "      <td>0.100066</td>\n",
       "      <td>0.100020</td>\n",
       "      <td>0.599907</td>\n",
       "    </tr>\n",
       "    <tr>\n",
       "      <td>12</td>\n",
       "      <td>1993</td>\n",
       "      <td>1.970372</td>\n",
       "      <td>2.640000e+11</td>\n",
       "      <td>0.077464</td>\n",
       "      <td>0.073236</td>\n",
       "      <td>0.230987</td>\n",
       "      <td>0.077500</td>\n",
       "      <td>0.540812</td>\n",
       "    </tr>\n",
       "    <tr>\n",
       "      <td>13</td>\n",
       "      <td>1994</td>\n",
       "      <td>1.952026</td>\n",
       "      <td>2.930000e+11</td>\n",
       "      <td>0.599077</td>\n",
       "      <td>0.100005</td>\n",
       "      <td>0.100662</td>\n",
       "      <td>0.100023</td>\n",
       "      <td>0.100233</td>\n",
       "    </tr>\n",
       "    <tr>\n",
       "      <td>14</td>\n",
       "      <td>1995</td>\n",
       "      <td>1.926041</td>\n",
       "      <td>3.430000e+11</td>\n",
       "      <td>0.088975</td>\n",
       "      <td>0.085419</td>\n",
       "      <td>0.085452</td>\n",
       "      <td>0.087372</td>\n",
       "      <td>0.652782</td>\n",
       "    </tr>\n",
       "    <tr>\n",
       "      <td>15</td>\n",
       "      <td>1996</td>\n",
       "      <td>1.891189</td>\n",
       "      <td>3.300000e+11</td>\n",
       "      <td>0.151969</td>\n",
       "      <td>0.153923</td>\n",
       "      <td>0.074708</td>\n",
       "      <td>0.074724</td>\n",
       "      <td>0.544675</td>\n",
       "    </tr>\n",
       "    <tr>\n",
       "      <td>16</td>\n",
       "      <td>1997</td>\n",
       "      <td>1.844334</td>\n",
       "      <td>2.870000e+11</td>\n",
       "      <td>0.666820</td>\n",
       "      <td>0.082881</td>\n",
       "      <td>0.083114</td>\n",
       "      <td>0.083779</td>\n",
       "      <td>0.083406</td>\n",
       "    </tr>\n",
       "    <tr>\n",
       "      <td>17</td>\n",
       "      <td>1998</td>\n",
       "      <td>1.827663</td>\n",
       "      <td>2.950000e+11</td>\n",
       "      <td>0.200000</td>\n",
       "      <td>0.200000</td>\n",
       "      <td>0.200000</td>\n",
       "      <td>0.200000</td>\n",
       "      <td>0.200000</td>\n",
       "    </tr>\n",
       "    <tr>\n",
       "      <td>18</td>\n",
       "      <td>1999</td>\n",
       "      <td>1.802836</td>\n",
       "      <td>2.900000e+11</td>\n",
       "      <td>0.100004</td>\n",
       "      <td>0.100023</td>\n",
       "      <td>0.598393</td>\n",
       "      <td>0.101306</td>\n",
       "      <td>0.100275</td>\n",
       "    </tr>\n",
       "    <tr>\n",
       "      <td>19</td>\n",
       "      <td>2000</td>\n",
       "      <td>1.788109</td>\n",
       "      <td>2.720000e+11</td>\n",
       "      <td>0.079377</td>\n",
       "      <td>0.207023</td>\n",
       "      <td>0.076489</td>\n",
       "      <td>0.077989</td>\n",
       "      <td>0.559122</td>\n",
       "    </tr>\n",
       "    <tr>\n",
       "      <td>20</td>\n",
       "      <td>2001</td>\n",
       "      <td>1.768379</td>\n",
       "      <td>2.790000e+11</td>\n",
       "      <td>0.100003</td>\n",
       "      <td>0.100004</td>\n",
       "      <td>0.100066</td>\n",
       "      <td>0.100020</td>\n",
       "      <td>0.599907</td>\n",
       "    </tr>\n",
       "    <tr>\n",
       "      <td>21</td>\n",
       "      <td>2002</td>\n",
       "      <td>1.709760</td>\n",
       "      <td>3.010000e+11</td>\n",
       "      <td>0.093425</td>\n",
       "      <td>0.080196</td>\n",
       "      <td>0.102873</td>\n",
       "      <td>0.082508</td>\n",
       "      <td>0.640998</td>\n",
       "    </tr>\n",
       "    <tr>\n",
       "      <td>22</td>\n",
       "      <td>2003</td>\n",
       "      <td>1.717018</td>\n",
       "      <td>3.530000e+11</td>\n",
       "      <td>0.082981</td>\n",
       "      <td>0.076759</td>\n",
       "      <td>0.098497</td>\n",
       "      <td>0.079952</td>\n",
       "      <td>0.661811</td>\n",
       "    </tr>\n",
       "    <tr>\n",
       "      <td>23</td>\n",
       "      <td>2004</td>\n",
       "      <td>1.693209</td>\n",
       "      <td>3.940000e+11</td>\n",
       "      <td>0.082920</td>\n",
       "      <td>0.358420</td>\n",
       "      <td>0.083097</td>\n",
       "      <td>0.082907</td>\n",
       "      <td>0.392656</td>\n",
       "    </tr>\n",
       "    <tr>\n",
       "      <td>24</td>\n",
       "      <td>2005</td>\n",
       "      <td>1.686548</td>\n",
       "      <td>4.090000e+11</td>\n",
       "      <td>0.100004</td>\n",
       "      <td>0.100023</td>\n",
       "      <td>0.598410</td>\n",
       "      <td>0.101290</td>\n",
       "      <td>0.100275</td>\n",
       "    </tr>\n",
       "    <tr>\n",
       "      <td>25</td>\n",
       "      <td>2006</td>\n",
       "      <td>1.600989</td>\n",
       "      <td>4.310000e+11</td>\n",
       "      <td>0.200000</td>\n",
       "      <td>0.200000</td>\n",
       "      <td>0.200000</td>\n",
       "      <td>0.200000</td>\n",
       "      <td>0.200000</td>\n",
       "    </tr>\n",
       "    <tr>\n",
       "      <td>26</td>\n",
       "      <td>2007</td>\n",
       "      <td>1.533994</td>\n",
       "      <td>4.800000e+11</td>\n",
       "      <td>0.100043</td>\n",
       "      <td>0.599705</td>\n",
       "      <td>0.100169</td>\n",
       "      <td>0.100014</td>\n",
       "      <td>0.100069</td>\n",
       "    </tr>\n",
       "    <tr>\n",
       "      <td>27</td>\n",
       "      <td>2008</td>\n",
       "      <td>1.493049</td>\n",
       "      <td>5.540000e+11</td>\n",
       "      <td>0.599080</td>\n",
       "      <td>0.100005</td>\n",
       "      <td>0.100659</td>\n",
       "      <td>0.100023</td>\n",
       "      <td>0.100233</td>\n",
       "    </tr>\n",
       "    <tr>\n",
       "      <td>28</td>\n",
       "      <td>2009</td>\n",
       "      <td>1.468980</td>\n",
       "      <td>5.420000e+11</td>\n",
       "      <td>0.666814</td>\n",
       "      <td>0.082881</td>\n",
       "      <td>0.083114</td>\n",
       "      <td>0.083784</td>\n",
       "      <td>0.083406</td>\n",
       "    </tr>\n",
       "    <tr>\n",
       "      <td>29</td>\n",
       "      <td>2010</td>\n",
       "      <td>1.464944</td>\n",
       "      <td>5.840000e+11</td>\n",
       "      <td>0.666819</td>\n",
       "      <td>0.082881</td>\n",
       "      <td>0.083114</td>\n",
       "      <td>0.083779</td>\n",
       "      <td>0.083406</td>\n",
       "    </tr>\n",
       "    <tr>\n",
       "      <td>30</td>\n",
       "      <td>2011</td>\n",
       "      <td>1.397498</td>\n",
       "      <td>7.000000e+11</td>\n",
       "      <td>0.100004</td>\n",
       "      <td>0.100023</td>\n",
       "      <td>0.598416</td>\n",
       "      <td>0.101283</td>\n",
       "      <td>0.100274</td>\n",
       "    </tr>\n",
       "    <tr>\n",
       "      <td>31</td>\n",
       "      <td>2012</td>\n",
       "      <td>1.354072</td>\n",
       "      <td>6.680000e+11</td>\n",
       "      <td>0.100004</td>\n",
       "      <td>0.100023</td>\n",
       "      <td>0.598395</td>\n",
       "      <td>0.101305</td>\n",
       "      <td>0.100275</td>\n",
       "    </tr>\n",
       "    <tr>\n",
       "      <td>32</td>\n",
       "      <td>2013</td>\n",
       "      <td>1.312477</td>\n",
       "      <td>6.890000e+11</td>\n",
       "      <td>0.599083</td>\n",
       "      <td>0.100005</td>\n",
       "      <td>0.100655</td>\n",
       "      <td>0.100023</td>\n",
       "      <td>0.100233</td>\n",
       "    </tr>\n",
       "    <tr>\n",
       "      <td>33</td>\n",
       "      <td>2014</td>\n",
       "      <td>1.281761</td>\n",
       "      <td>7.090000e+11</td>\n",
       "      <td>0.200000</td>\n",
       "      <td>0.200000</td>\n",
       "      <td>0.200000</td>\n",
       "      <td>0.200000</td>\n",
       "      <td>0.200000</td>\n",
       "    </tr>\n",
       "    <tr>\n",
       "      <td>34</td>\n",
       "      <td>2015</td>\n",
       "      <td>1.235788</td>\n",
       "      <td>6.800000e+11</td>\n",
       "      <td>0.596414</td>\n",
       "      <td>0.100008</td>\n",
       "      <td>0.100008</td>\n",
       "      <td>0.102422</td>\n",
       "      <td>0.101148</td>\n",
       "    </tr>\n",
       "    <tr>\n",
       "      <td>35</td>\n",
       "      <td>2016</td>\n",
       "      <td>1.201964</td>\n",
       "      <td>6.710000e+11</td>\n",
       "      <td>0.200000</td>\n",
       "      <td>0.200000</td>\n",
       "      <td>0.200000</td>\n",
       "      <td>0.200000</td>\n",
       "      <td>0.200000</td>\n",
       "    </tr>\n",
       "    <tr>\n",
       "      <td>36</td>\n",
       "      <td>2017</td>\n",
       "      <td>1.187726</td>\n",
       "      <td>6.800000e+11</td>\n",
       "      <td>0.100043</td>\n",
       "      <td>0.599705</td>\n",
       "      <td>0.100169</td>\n",
       "      <td>0.100014</td>\n",
       "      <td>0.100069</td>\n",
       "    </tr>\n",
       "    <tr>\n",
       "      <td>37</td>\n",
       "      <td>2018</td>\n",
       "      <td>1.178680</td>\n",
       "      <td>7.050000e+11</td>\n",
       "      <td>0.506295</td>\n",
       "      <td>0.272260</td>\n",
       "      <td>0.073604</td>\n",
       "      <td>0.074063</td>\n",
       "      <td>0.073779</td>\n",
       "    </tr>\n",
       "  </tbody>\n",
       "</table>\n",
       "</div>"
      ],
      "text/plain": [
       "    Year       PPP           GDP  vector_1  vector_2  vector_3  vector_4  \\\n",
       "0   1981  1.892582  1.090000e+11  0.100003  0.100004  0.100066  0.100020   \n",
       "1   1982  1.913434  1.120000e+11  0.200000  0.200000  0.200000  0.200000   \n",
       "2   1983  1.884895  1.110000e+11  0.092599  0.552755  0.166161  0.095321   \n",
       "3   1984  1.887659  1.060000e+11  0.100043  0.599702  0.100172  0.100015   \n",
       "4   1985  1.871343  1.080000e+11  0.082920  0.350074  0.399832  0.083997   \n",
       "5   1986  1.890066  1.540000e+11  0.100043  0.599706  0.100168  0.100014   \n",
       "6   1987  1.884920  1.930000e+11  0.200000  0.200000  0.200000  0.200000   \n",
       "7   1988  1.871498  2.090000e+11  0.100043  0.599704  0.100169  0.100014   \n",
       "8   1989  1.863180  2.020000e+11  0.267549  0.082896  0.482542  0.083702   \n",
       "9   1990  1.936289  2.580000e+11  0.200000  0.200000  0.200000  0.200000   \n",
       "10  1991  1.974260  2.610000e+11  0.200000  0.200000  0.200000  0.200000   \n",
       "11  1992  1.971282  2.720000e+11  0.100003  0.100004  0.100066  0.100020   \n",
       "12  1993  1.970372  2.640000e+11  0.077464  0.073236  0.230987  0.077500   \n",
       "13  1994  1.952026  2.930000e+11  0.599077  0.100005  0.100662  0.100023   \n",
       "14  1995  1.926041  3.430000e+11  0.088975  0.085419  0.085452  0.087372   \n",
       "15  1996  1.891189  3.300000e+11  0.151969  0.153923  0.074708  0.074724   \n",
       "16  1997  1.844334  2.870000e+11  0.666820  0.082881  0.083114  0.083779   \n",
       "17  1998  1.827663  2.950000e+11  0.200000  0.200000  0.200000  0.200000   \n",
       "18  1999  1.802836  2.900000e+11  0.100004  0.100023  0.598393  0.101306   \n",
       "19  2000  1.788109  2.720000e+11  0.079377  0.207023  0.076489  0.077989   \n",
       "20  2001  1.768379  2.790000e+11  0.100003  0.100004  0.100066  0.100020   \n",
       "21  2002  1.709760  3.010000e+11  0.093425  0.080196  0.102873  0.082508   \n",
       "22  2003  1.717018  3.530000e+11  0.082981  0.076759  0.098497  0.079952   \n",
       "23  2004  1.693209  3.940000e+11  0.082920  0.358420  0.083097  0.082907   \n",
       "24  2005  1.686548  4.090000e+11  0.100004  0.100023  0.598410  0.101290   \n",
       "25  2006  1.600989  4.310000e+11  0.200000  0.200000  0.200000  0.200000   \n",
       "26  2007  1.533994  4.800000e+11  0.100043  0.599705  0.100169  0.100014   \n",
       "27  2008  1.493049  5.540000e+11  0.599080  0.100005  0.100659  0.100023   \n",
       "28  2009  1.468980  5.420000e+11  0.666814  0.082881  0.083114  0.083784   \n",
       "29  2010  1.464944  5.840000e+11  0.666819  0.082881  0.083114  0.083779   \n",
       "30  2011  1.397498  7.000000e+11  0.100004  0.100023  0.598416  0.101283   \n",
       "31  2012  1.354072  6.680000e+11  0.100004  0.100023  0.598395  0.101305   \n",
       "32  2013  1.312477  6.890000e+11  0.599083  0.100005  0.100655  0.100023   \n",
       "33  2014  1.281761  7.090000e+11  0.200000  0.200000  0.200000  0.200000   \n",
       "34  2015  1.235788  6.800000e+11  0.596414  0.100008  0.100008  0.102422   \n",
       "35  2016  1.201964  6.710000e+11  0.200000  0.200000  0.200000  0.200000   \n",
       "36  2017  1.187726  6.800000e+11  0.100043  0.599705  0.100169  0.100014   \n",
       "37  2018  1.178680  7.050000e+11  0.506295  0.272260  0.073604  0.074063   \n",
       "\n",
       "    vector_5  \n",
       "0   0.599906  \n",
       "1   0.200000  \n",
       "2   0.093163  \n",
       "3   0.100069  \n",
       "4   0.083177  \n",
       "5   0.100069  \n",
       "6   0.200000  \n",
       "7   0.100069  \n",
       "8   0.083311  \n",
       "9   0.200000  \n",
       "10  0.200000  \n",
       "11  0.599907  \n",
       "12  0.540812  \n",
       "13  0.100233  \n",
       "14  0.652782  \n",
       "15  0.544675  \n",
       "16  0.083406  \n",
       "17  0.200000  \n",
       "18  0.100275  \n",
       "19  0.559122  \n",
       "20  0.599907  \n",
       "21  0.640998  \n",
       "22  0.661811  \n",
       "23  0.392656  \n",
       "24  0.100275  \n",
       "25  0.200000  \n",
       "26  0.100069  \n",
       "27  0.100233  \n",
       "28  0.083406  \n",
       "29  0.083406  \n",
       "30  0.100274  \n",
       "31  0.100275  \n",
       "32  0.100233  \n",
       "33  0.200000  \n",
       "34  0.101148  \n",
       "35  0.200000  \n",
       "36  0.100069  \n",
       "37  0.073779  "
      ]
     },
     "execution_count": 5,
     "metadata": {},
     "output_type": "execute_result"
    }
   ],
   "source": [
    "X=switz.drop('Exchange',axis=1)\n",
    "X"
   ]
  },
  {
   "cell_type": "code",
   "execution_count": 6,
   "metadata": {},
   "outputs": [
    {
     "data": {
      "text/plain": [
       "0     1.964242\n",
       "1     2.030275\n",
       "2     2.099142\n",
       "3     2.349683\n",
       "4     2.457125\n",
       "5     1.798917\n",
       "6     1.491192\n",
       "7     1.463300\n",
       "8     1.635925\n",
       "9     1.389158\n",
       "10    1.433992\n",
       "11    1.406218\n",
       "12    1.477617\n",
       "13    1.367692\n",
       "14    1.182469\n",
       "15    1.236010\n",
       "16    1.451313\n",
       "17    1.449813\n",
       "18    1.502155\n",
       "19    1.688843\n",
       "20    1.687615\n",
       "21    1.558608\n",
       "22    1.346651\n",
       "23    1.243496\n",
       "24    1.245177\n",
       "25    1.253843\n",
       "26    1.200366\n",
       "27    1.083090\n",
       "28    1.088142\n",
       "29    1.042906\n",
       "30    0.888042\n",
       "31    0.937684\n",
       "32    0.926904\n",
       "33    0.916151\n",
       "34    0.962381\n",
       "35    0.985394\n",
       "36    0.984692\n",
       "37    0.977883\n",
       "Name: Exchange, dtype: float64"
      ]
     },
     "execution_count": 6,
     "metadata": {},
     "output_type": "execute_result"
    }
   ],
   "source": [
    "y=switz['Exchange']\n",
    "y"
   ]
  },
  {
   "cell_type": "code",
   "execution_count": 7,
   "metadata": {},
   "outputs": [],
   "source": [
    "from sklearn.model_selection import train_test_split\n",
    "X_train, X_test, y_train, y_test = train_test_split(X,y, test_size=0.2, random_state=0)"
   ]
  },
  {
   "cell_type": "code",
   "execution_count": 8,
   "metadata": {},
   "outputs": [
    {
     "data": {
      "text/plain": [
       "LinearRegression()"
      ]
     },
     "execution_count": 8,
     "metadata": {},
     "output_type": "execute_result"
    }
   ],
   "source": [
    "from sklearn.linear_model import LinearRegression\n",
    "lswzmodel=LinearRegression()\n",
    "lswzmodel.fit(X_train,y_train)"
   ]
  },
  {
   "cell_type": "code",
   "execution_count": 9,
   "metadata": {},
   "outputs": [
    {
     "data": {
      "text/plain": [
       "array([1.40912326, 0.99550452, 1.45765248, 1.26755663, 1.34457118,\n",
       "       1.56597434, 1.24335605, 1.31962885])"
      ]
     },
     "execution_count": 9,
     "metadata": {},
     "output_type": "execute_result"
    }
   ],
   "source": [
    "y_pred=lswzmodel.predict(X_test)\n",
    "y_pred"
   ]
  },
  {
   "cell_type": "code",
   "execution_count": 10,
   "metadata": {},
   "outputs": [
    {
     "name": "stdout",
     "output_type": "stream",
     "text": [
      "0.07133450370969623\n"
     ]
    }
   ],
   "source": [
    "from sklearn.metrics import mean_squared_error\n",
    "lswzmodel_rmse = np.sqrt(mean_squared_error(y_test,y_pred))\n",
    "print(lswzmodel_rmse)"
   ]
  },
  {
   "cell_type": "code",
   "execution_count": 11,
   "metadata": {},
   "outputs": [
    {
     "name": "stdout",
     "output_type": "stream",
     "text": [
      "0.061050127316752106\n"
     ]
    }
   ],
   "source": [
    "from sklearn import metrics\n",
    "print(metrics.mean_absolute_error(y_test,y_pred))"
   ]
  },
  {
   "cell_type": "code",
   "execution_count": 12,
   "metadata": {},
   "outputs": [
    {
     "name": "stdout",
     "output_type": "stream",
     "text": [
      "Mean Absolute Error: 0.06 degrees.\n"
     ]
    }
   ],
   "source": [
    "# Calculate the absolute errors\n",
    "errors = abs(y_pred - y_test)\n",
    "# Print out the mean absolute error (mae)\n",
    "print('Mean Absolute Error:', round(np.mean(errors), 2), 'degrees.')"
   ]
  },
  {
   "cell_type": "code",
   "execution_count": 13,
   "metadata": {},
   "outputs": [
    {
     "name": "stdout",
     "output_type": "stream",
     "text": [
      "Accuracy: 95.58 %.\n"
     ]
    }
   ],
   "source": [
    "# Calculate mean absolute percentage error (MAPE)\n",
    "mape = 100 * (errors / y_test)\n",
    "# Calculate and display accuracy\n",
    "accuracy = 100 - np.mean(mape)\n",
    "print('Accuracy:', round(accuracy, 2), '%.')"
   ]
  },
  {
   "cell_type": "markdown",
   "metadata": {},
   "source": [
    "### Random Forest"
   ]
  },
  {
   "cell_type": "code",
   "execution_count": 14,
   "metadata": {},
   "outputs": [
    {
     "data": {
      "text/plain": [
       "RandomForestRegressor(n_estimators=1000, random_state=42)"
      ]
     },
     "execution_count": 14,
     "metadata": {},
     "output_type": "execute_result"
    }
   ],
   "source": [
    "from sklearn.ensemble import RandomForestRegressor\n",
    "rfswzmodel=RandomForestRegressor(n_estimators = 1000, random_state = 42)\n",
    "rfswzmodel.fit(X_train,y_train)"
   ]
  },
  {
   "cell_type": "code",
   "execution_count": 15,
   "metadata": {},
   "outputs": [
    {
     "data": {
      "text/plain": [
       "array([1.28490085, 1.0592265 , 1.56326572, 1.32263259, 1.48906821,\n",
       "       1.54770358, 1.15964919, 1.42707346])"
      ]
     },
     "execution_count": 15,
     "metadata": {},
     "output_type": "execute_result"
    }
   ],
   "source": [
    "y_pred_rf=rfswzmodel.predict(X_test)\n",
    "y_pred_rf"
   ]
  },
  {
   "cell_type": "code",
   "execution_count": 16,
   "metadata": {},
   "outputs": [
    {
     "name": "stdout",
     "output_type": "stream",
     "text": [
      "0.07133450370969623\n"
     ]
    }
   ],
   "source": [
    "from sklearn.metrics import mean_squared_error\n",
    "rfswzmodel_rmse = np.sqrt(mean_squared_error(y_test,y_pred))\n",
    "print(rfswzmodel_rmse)"
   ]
  },
  {
   "cell_type": "code",
   "execution_count": 17,
   "metadata": {},
   "outputs": [
    {
     "data": {
      "text/plain": [
       "array([0.31984883, 0.07264946, 0.57491178, 0.00513476, 0.00747254,\n",
       "       0.00872946, 0.00631973, 0.00493344])"
      ]
     },
     "execution_count": 17,
     "metadata": {},
     "output_type": "execute_result"
    }
   ],
   "source": [
    "rfswzmodel.feature_importances_"
   ]
  },
  {
   "cell_type": "code",
   "execution_count": 18,
   "metadata": {},
   "outputs": [
    {
     "name": "stdout",
     "output_type": "stream",
     "text": [
      "Mean Absolute Error: 0.06 degrees.\n"
     ]
    }
   ],
   "source": [
    "# Calculate the absolute errors\n",
    "errors_rf = abs(y_pred_rf - y_test)\n",
    "# Print out the mean absolute error (mae)\n",
    "print('Mean Absolute Error:', round(np.mean(errors), 2), 'degrees.')"
   ]
  },
  {
   "cell_type": "code",
   "execution_count": 19,
   "metadata": {},
   "outputs": [
    {
     "name": "stdout",
     "output_type": "stream",
     "text": [
      "Accuracy: 95.13 %.\n"
     ]
    }
   ],
   "source": [
    "# Calculate mean absolute percentage error (MAPE)\n",
    "mape = 100 * (errors_rf / y_test)\n",
    "# Calculate and display accuracy\n",
    "accuracy = 100 - np.mean(mape)\n",
    "print('Accuracy:', round(accuracy, 2), '%.')"
   ]
  },
  {
   "cell_type": "markdown",
   "metadata": {},
   "source": [
    "### Ridge Regression"
   ]
  },
  {
   "cell_type": "code",
   "execution_count": 20,
   "metadata": {},
   "outputs": [
    {
     "name": "stderr",
     "output_type": "stream",
     "text": [
      "C:\\Users\\RADHIKA\\Anaconda3\\lib\\site-packages\\sklearn\\linear_model\\_ridge.py:148: LinAlgWarning: Ill-conditioned matrix (rcond=7.05702e-27): result may not be accurate.\n",
      "  overwrite_a=True).T\n"
     ]
    },
    {
     "data": {
      "text/plain": [
       "Ridge(alpha=0.01)"
      ]
     },
     "execution_count": 20,
     "metadata": {},
     "output_type": "execute_result"
    }
   ],
   "source": [
    "from sklearn.linear_model import Ridge\n",
    "ridge = Ridge(alpha=0.01)\n",
    "ridge.fit(X_train, y_train) "
   ]
  },
  {
   "cell_type": "code",
   "execution_count": 21,
   "metadata": {},
   "outputs": [
    {
     "name": "stdout",
     "output_type": "stream",
     "text": [
      "0.12277766868124705\n",
      "0.9183256294922287\n",
      "0.06803640088670614\n",
      "0.859814893917363\n"
     ]
    }
   ],
   "source": [
    "from sklearn.metrics import r2_score\n",
    "pred_train_rr= ridge.predict(X_train)\n",
    "print(np.sqrt(mean_squared_error(y_train,pred_train_rr)))\n",
    "print(r2_score(y_train, pred_train_rr))\n",
    "\n",
    "pred_test_rr= ridge.predict(X_test)\n",
    "print(np.sqrt(mean_squared_error(y_test,pred_test_rr))) \n",
    "print(r2_score(y_test, pred_test_rr))"
   ]
  },
  {
   "cell_type": "code",
   "execution_count": 22,
   "metadata": {},
   "outputs": [
    {
     "name": "stdout",
     "output_type": "stream",
     "text": [
      "Mean Absolute Error: 0.06 degrees.\n"
     ]
    }
   ],
   "source": [
    "# Calculate the absolute errors\n",
    "errors_ridge = abs(pred_test_rr - y_test)\n",
    "# Print out the mean absolute error (mae)\n",
    "print('Mean Absolute Error:', round(np.mean(errors), 2), 'degrees.')"
   ]
  },
  {
   "cell_type": "code",
   "execution_count": 23,
   "metadata": {},
   "outputs": [
    {
     "name": "stdout",
     "output_type": "stream",
     "text": [
      "Accuracy: 95.56 %.\n"
     ]
    }
   ],
   "source": [
    "# Calculate mean absolute percentage error (MAPE)\n",
    "mape = 100 * (errors_ridge / pred_test_rr)\n",
    "# Calculate and display accuracy\n",
    "accuracy = 100 - np.mean(mape)\n",
    "print('Accuracy:', round(accuracy, 2), '%.')\n"
   ]
  },
  {
   "cell_type": "code",
   "execution_count": 24,
   "metadata": {},
   "outputs": [],
   "source": [
    "import pickle\n",
    "pickle.dump(lswzmodel,open('lr_swz_model.pkl','wb'))"
   ]
  },
  {
   "cell_type": "code",
   "execution_count": null,
   "metadata": {},
   "outputs": [],
   "source": []
  }
 ],
 "metadata": {
  "kernelspec": {
   "display_name": "Python 3",
   "language": "python",
   "name": "python3"
  },
  "language_info": {
   "codemirror_mode": {
    "name": "ipython",
    "version": 3
   },
   "file_extension": ".py",
   "mimetype": "text/x-python",
   "name": "python",
   "nbconvert_exporter": "python",
   "pygments_lexer": "ipython3",
   "version": "3.7.4"
  }
 },
 "nbformat": 4,
 "nbformat_minor": 2
}
