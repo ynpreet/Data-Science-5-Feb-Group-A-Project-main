{
 "cells": [
  {
   "cell_type": "code",
   "execution_count": 1,
   "metadata": {},
   "outputs": [],
   "source": [
    "import pandas as pd\n",
    "import numpy as np\n",
    "import matplotlib.pyplot as plt"
   ]
  },
  {
   "cell_type": "code",
   "execution_count": 2,
   "metadata": {},
   "outputs": [],
   "source": [
    "canada=pd.read_csv('D:/Technocolabs Final work files/k=5_MergedData/Canada.csv')"
   ]
  },
  {
   "cell_type": "code",
   "execution_count": 3,
   "metadata": {},
   "outputs": [
    {
     "data": {
      "text/html": [
       "<div>\n",
       "<style scoped>\n",
       "    .dataframe tbody tr th:only-of-type {\n",
       "        vertical-align: middle;\n",
       "    }\n",
       "\n",
       "    .dataframe tbody tr th {\n",
       "        vertical-align: top;\n",
       "    }\n",
       "\n",
       "    .dataframe thead th {\n",
       "        text-align: right;\n",
       "    }\n",
       "</style>\n",
       "<table border=\"1\" class=\"dataframe\">\n",
       "  <thead>\n",
       "    <tr style=\"text-align: right;\">\n",
       "      <th></th>\n",
       "      <th>Year</th>\n",
       "      <th>PPP</th>\n",
       "      <th>Exchange</th>\n",
       "      <th>GDP</th>\n",
       "      <th>vector_1</th>\n",
       "      <th>vector_2</th>\n",
       "      <th>vector_3</th>\n",
       "      <th>vector_4</th>\n",
       "      <th>vector_5</th>\n",
       "    </tr>\n",
       "  </thead>\n",
       "  <tbody>\n",
       "    <tr>\n",
       "      <td>0</td>\n",
       "      <td>1981</td>\n",
       "      <td>1.134429</td>\n",
       "      <td>1.198903</td>\n",
       "      <td>3.060000e+11</td>\n",
       "      <td>0.100003</td>\n",
       "      <td>0.100004</td>\n",
       "      <td>0.100066</td>\n",
       "      <td>0.100020</td>\n",
       "      <td>0.599906</td>\n",
       "    </tr>\n",
       "    <tr>\n",
       "      <td>1</td>\n",
       "      <td>1982</td>\n",
       "      <td>1.162983</td>\n",
       "      <td>1.233735</td>\n",
       "      <td>3.140000e+11</td>\n",
       "      <td>0.200000</td>\n",
       "      <td>0.200000</td>\n",
       "      <td>0.200000</td>\n",
       "      <td>0.200000</td>\n",
       "      <td>0.200000</td>\n",
       "    </tr>\n",
       "    <tr>\n",
       "      <td>2</td>\n",
       "      <td>1983</td>\n",
       "      <td>1.183882</td>\n",
       "      <td>1.232412</td>\n",
       "      <td>3.410000e+11</td>\n",
       "      <td>0.092599</td>\n",
       "      <td>0.552755</td>\n",
       "      <td>0.166161</td>\n",
       "      <td>0.095321</td>\n",
       "      <td>0.093163</td>\n",
       "    </tr>\n",
       "    <tr>\n",
       "      <td>3</td>\n",
       "      <td>1984</td>\n",
       "      <td>1.183059</td>\n",
       "      <td>1.295066</td>\n",
       "      <td>3.550000e+11</td>\n",
       "      <td>0.100043</td>\n",
       "      <td>0.599702</td>\n",
       "      <td>0.100172</td>\n",
       "      <td>0.100015</td>\n",
       "      <td>0.100069</td>\n",
       "    </tr>\n",
       "    <tr>\n",
       "      <td>4</td>\n",
       "      <td>1985</td>\n",
       "      <td>1.185080</td>\n",
       "      <td>1.365507</td>\n",
       "      <td>3.650000e+11</td>\n",
       "      <td>0.082920</td>\n",
       "      <td>0.350074</td>\n",
       "      <td>0.399832</td>\n",
       "      <td>0.083997</td>\n",
       "      <td>0.083177</td>\n",
       "    </tr>\n",
       "  </tbody>\n",
       "</table>\n",
       "</div>"
      ],
      "text/plain": [
       "   Year       PPP  Exchange           GDP  vector_1  vector_2  vector_3  \\\n",
       "0  1981  1.134429  1.198903  3.060000e+11  0.100003  0.100004  0.100066   \n",
       "1  1982  1.162983  1.233735  3.140000e+11  0.200000  0.200000  0.200000   \n",
       "2  1983  1.183882  1.232412  3.410000e+11  0.092599  0.552755  0.166161   \n",
       "3  1984  1.183059  1.295066  3.550000e+11  0.100043  0.599702  0.100172   \n",
       "4  1985  1.185080  1.365507  3.650000e+11  0.082920  0.350074  0.399832   \n",
       "\n",
       "   vector_4  vector_5  \n",
       "0  0.100020  0.599906  \n",
       "1  0.200000  0.200000  \n",
       "2  0.095321  0.093163  \n",
       "3  0.100015  0.100069  \n",
       "4  0.083997  0.083177  "
      ]
     },
     "execution_count": 3,
     "metadata": {},
     "output_type": "execute_result"
    }
   ],
   "source": [
    "canada.head()"
   ]
  },
  {
   "cell_type": "code",
   "execution_count": 4,
   "metadata": {},
   "outputs": [
    {
     "data": {
      "text/html": [
       "<div>\n",
       "<style scoped>\n",
       "    .dataframe tbody tr th:only-of-type {\n",
       "        vertical-align: middle;\n",
       "    }\n",
       "\n",
       "    .dataframe tbody tr th {\n",
       "        vertical-align: top;\n",
       "    }\n",
       "\n",
       "    .dataframe thead th {\n",
       "        text-align: right;\n",
       "    }\n",
       "</style>\n",
       "<table border=\"1\" class=\"dataframe\">\n",
       "  <thead>\n",
       "    <tr style=\"text-align: right;\">\n",
       "      <th></th>\n",
       "      <th>Year</th>\n",
       "      <th>PPP</th>\n",
       "      <th>GDP</th>\n",
       "      <th>vector_1</th>\n",
       "      <th>vector_2</th>\n",
       "      <th>vector_3</th>\n",
       "      <th>vector_4</th>\n",
       "      <th>vector_5</th>\n",
       "    </tr>\n",
       "  </thead>\n",
       "  <tbody>\n",
       "    <tr>\n",
       "      <td>0</td>\n",
       "      <td>1981</td>\n",
       "      <td>1.134429</td>\n",
       "      <td>3.060000e+11</td>\n",
       "      <td>0.100003</td>\n",
       "      <td>0.100004</td>\n",
       "      <td>0.100066</td>\n",
       "      <td>0.100020</td>\n",
       "      <td>0.599906</td>\n",
       "    </tr>\n",
       "    <tr>\n",
       "      <td>1</td>\n",
       "      <td>1982</td>\n",
       "      <td>1.162983</td>\n",
       "      <td>3.140000e+11</td>\n",
       "      <td>0.200000</td>\n",
       "      <td>0.200000</td>\n",
       "      <td>0.200000</td>\n",
       "      <td>0.200000</td>\n",
       "      <td>0.200000</td>\n",
       "    </tr>\n",
       "    <tr>\n",
       "      <td>2</td>\n",
       "      <td>1983</td>\n",
       "      <td>1.183882</td>\n",
       "      <td>3.410000e+11</td>\n",
       "      <td>0.092599</td>\n",
       "      <td>0.552755</td>\n",
       "      <td>0.166161</td>\n",
       "      <td>0.095321</td>\n",
       "      <td>0.093163</td>\n",
       "    </tr>\n",
       "    <tr>\n",
       "      <td>3</td>\n",
       "      <td>1984</td>\n",
       "      <td>1.183059</td>\n",
       "      <td>3.550000e+11</td>\n",
       "      <td>0.100043</td>\n",
       "      <td>0.599702</td>\n",
       "      <td>0.100172</td>\n",
       "      <td>0.100015</td>\n",
       "      <td>0.100069</td>\n",
       "    </tr>\n",
       "    <tr>\n",
       "      <td>4</td>\n",
       "      <td>1985</td>\n",
       "      <td>1.185080</td>\n",
       "      <td>3.650000e+11</td>\n",
       "      <td>0.082920</td>\n",
       "      <td>0.350074</td>\n",
       "      <td>0.399832</td>\n",
       "      <td>0.083997</td>\n",
       "      <td>0.083177</td>\n",
       "    </tr>\n",
       "    <tr>\n",
       "      <td>5</td>\n",
       "      <td>1986</td>\n",
       "      <td>1.197798</td>\n",
       "      <td>3.770000e+11</td>\n",
       "      <td>0.100043</td>\n",
       "      <td>0.599706</td>\n",
       "      <td>0.100168</td>\n",
       "      <td>0.100014</td>\n",
       "      <td>0.100069</td>\n",
       "    </tr>\n",
       "    <tr>\n",
       "      <td>6</td>\n",
       "      <td>1987</td>\n",
       "      <td>1.224895</td>\n",
       "      <td>4.310000e+11</td>\n",
       "      <td>0.200000</td>\n",
       "      <td>0.200000</td>\n",
       "      <td>0.200000</td>\n",
       "      <td>0.200000</td>\n",
       "      <td>0.200000</td>\n",
       "    </tr>\n",
       "    <tr>\n",
       "      <td>7</td>\n",
       "      <td>1988</td>\n",
       "      <td>1.236884</td>\n",
       "      <td>5.070000e+11</td>\n",
       "      <td>0.100043</td>\n",
       "      <td>0.599704</td>\n",
       "      <td>0.100169</td>\n",
       "      <td>0.100014</td>\n",
       "      <td>0.100069</td>\n",
       "    </tr>\n",
       "    <tr>\n",
       "      <td>8</td>\n",
       "      <td>1989</td>\n",
       "      <td>1.246188</td>\n",
       "      <td>5.650000e+11</td>\n",
       "      <td>0.267549</td>\n",
       "      <td>0.082896</td>\n",
       "      <td>0.482542</td>\n",
       "      <td>0.083702</td>\n",
       "      <td>0.083311</td>\n",
       "    </tr>\n",
       "    <tr>\n",
       "      <td>9</td>\n",
       "      <td>1990</td>\n",
       "      <td>1.241965</td>\n",
       "      <td>5.940000e+11</td>\n",
       "      <td>0.200000</td>\n",
       "      <td>0.200000</td>\n",
       "      <td>0.200000</td>\n",
       "      <td>0.200000</td>\n",
       "      <td>0.200000</td>\n",
       "    </tr>\n",
       "    <tr>\n",
       "      <td>10</td>\n",
       "      <td>1991</td>\n",
       "      <td>1.237998</td>\n",
       "      <td>6.100000e+11</td>\n",
       "      <td>0.200000</td>\n",
       "      <td>0.200000</td>\n",
       "      <td>0.200000</td>\n",
       "      <td>0.200000</td>\n",
       "      <td>0.200000</td>\n",
       "    </tr>\n",
       "    <tr>\n",
       "      <td>11</td>\n",
       "      <td>1992</td>\n",
       "      <td>1.228098</td>\n",
       "      <td>5.920000e+11</td>\n",
       "      <td>0.100003</td>\n",
       "      <td>0.100004</td>\n",
       "      <td>0.100066</td>\n",
       "      <td>0.100020</td>\n",
       "      <td>0.599907</td>\n",
       "    </tr>\n",
       "    <tr>\n",
       "      <td>12</td>\n",
       "      <td>1993</td>\n",
       "      <td>1.215102</td>\n",
       "      <td>5.770000e+11</td>\n",
       "      <td>0.077464</td>\n",
       "      <td>0.073236</td>\n",
       "      <td>0.230987</td>\n",
       "      <td>0.077500</td>\n",
       "      <td>0.540812</td>\n",
       "    </tr>\n",
       "    <tr>\n",
       "      <td>13</td>\n",
       "      <td>1994</td>\n",
       "      <td>1.207010</td>\n",
       "      <td>5.780000e+11</td>\n",
       "      <td>0.599077</td>\n",
       "      <td>0.100005</td>\n",
       "      <td>0.100662</td>\n",
       "      <td>0.100023</td>\n",
       "      <td>0.100233</td>\n",
       "    </tr>\n",
       "    <tr>\n",
       "      <td>14</td>\n",
       "      <td>1995</td>\n",
       "      <td>1.208841</td>\n",
       "      <td>6.040000e+11</td>\n",
       "      <td>0.088975</td>\n",
       "      <td>0.085419</td>\n",
       "      <td>0.085452</td>\n",
       "      <td>0.087372</td>\n",
       "      <td>0.652782</td>\n",
       "    </tr>\n",
       "    <tr>\n",
       "      <td>15</td>\n",
       "      <td>1996</td>\n",
       "      <td>1.207821</td>\n",
       "      <td>6.290000e+11</td>\n",
       "      <td>0.151969</td>\n",
       "      <td>0.153923</td>\n",
       "      <td>0.074708</td>\n",
       "      <td>0.074724</td>\n",
       "      <td>0.544675</td>\n",
       "    </tr>\n",
       "    <tr>\n",
       "      <td>16</td>\n",
       "      <td>1997</td>\n",
       "      <td>1.200974</td>\n",
       "      <td>6.530000e+11</td>\n",
       "      <td>0.666820</td>\n",
       "      <td>0.082881</td>\n",
       "      <td>0.083114</td>\n",
       "      <td>0.083779</td>\n",
       "      <td>0.083406</td>\n",
       "    </tr>\n",
       "    <tr>\n",
       "      <td>17</td>\n",
       "      <td>1998</td>\n",
       "      <td>1.185448</td>\n",
       "      <td>6.320000e+11</td>\n",
       "      <td>0.200000</td>\n",
       "      <td>0.200000</td>\n",
       "      <td>0.200000</td>\n",
       "      <td>0.200000</td>\n",
       "      <td>0.200000</td>\n",
       "    </tr>\n",
       "    <tr>\n",
       "      <td>18</td>\n",
       "      <td>1999</td>\n",
       "      <td>1.190810</td>\n",
       "      <td>6.760000e+11</td>\n",
       "      <td>0.100004</td>\n",
       "      <td>0.100023</td>\n",
       "      <td>0.598393</td>\n",
       "      <td>0.101306</td>\n",
       "      <td>0.100275</td>\n",
       "    </tr>\n",
       "    <tr>\n",
       "      <td>19</td>\n",
       "      <td>2000</td>\n",
       "      <td>1.227563</td>\n",
       "      <td>7.420000e+11</td>\n",
       "      <td>0.079377</td>\n",
       "      <td>0.207023</td>\n",
       "      <td>0.076489</td>\n",
       "      <td>0.077989</td>\n",
       "      <td>0.559122</td>\n",
       "    </tr>\n",
       "    <tr>\n",
       "      <td>20</td>\n",
       "      <td>2001</td>\n",
       "      <td>1.221139</td>\n",
       "      <td>7.360000e+11</td>\n",
       "      <td>0.100003</td>\n",
       "      <td>0.100004</td>\n",
       "      <td>0.100066</td>\n",
       "      <td>0.100020</td>\n",
       "      <td>0.599907</td>\n",
       "    </tr>\n",
       "    <tr>\n",
       "      <td>21</td>\n",
       "      <td>2002</td>\n",
       "      <td>1.229333</td>\n",
       "      <td>7.580000e+11</td>\n",
       "      <td>0.093425</td>\n",
       "      <td>0.080196</td>\n",
       "      <td>0.102873</td>\n",
       "      <td>0.082508</td>\n",
       "      <td>0.640998</td>\n",
       "    </tr>\n",
       "    <tr>\n",
       "      <td>22</td>\n",
       "      <td>2003</td>\n",
       "      <td>1.226338</td>\n",
       "      <td>8.920000e+11</td>\n",
       "      <td>0.082981</td>\n",
       "      <td>0.076759</td>\n",
       "      <td>0.098497</td>\n",
       "      <td>0.079952</td>\n",
       "      <td>0.661811</td>\n",
       "    </tr>\n",
       "    <tr>\n",
       "      <td>23</td>\n",
       "      <td>2004</td>\n",
       "      <td>1.233195</td>\n",
       "      <td>1.020000e+12</td>\n",
       "      <td>0.082920</td>\n",
       "      <td>0.358420</td>\n",
       "      <td>0.083097</td>\n",
       "      <td>0.082907</td>\n",
       "      <td>0.392656</td>\n",
       "    </tr>\n",
       "    <tr>\n",
       "      <td>24</td>\n",
       "      <td>2005</td>\n",
       "      <td>1.213644</td>\n",
       "      <td>1.170000e+12</td>\n",
       "      <td>0.100004</td>\n",
       "      <td>0.100023</td>\n",
       "      <td>0.598410</td>\n",
       "      <td>0.101290</td>\n",
       "      <td>0.100275</td>\n",
       "    </tr>\n",
       "    <tr>\n",
       "      <td>25</td>\n",
       "      <td>2006</td>\n",
       "      <td>1.205778</td>\n",
       "      <td>1.320000e+12</td>\n",
       "      <td>0.200000</td>\n",
       "      <td>0.200000</td>\n",
       "      <td>0.200000</td>\n",
       "      <td>0.200000</td>\n",
       "      <td>0.200000</td>\n",
       "    </tr>\n",
       "    <tr>\n",
       "      <td>26</td>\n",
       "      <td>2007</td>\n",
       "      <td>1.212706</td>\n",
       "      <td>1.460000e+12</td>\n",
       "      <td>0.100043</td>\n",
       "      <td>0.599705</td>\n",
       "      <td>0.100169</td>\n",
       "      <td>0.100014</td>\n",
       "      <td>0.100069</td>\n",
       "    </tr>\n",
       "    <tr>\n",
       "      <td>27</td>\n",
       "      <td>2008</td>\n",
       "      <td>1.234390</td>\n",
       "      <td>1.550000e+12</td>\n",
       "      <td>0.599080</td>\n",
       "      <td>0.100005</td>\n",
       "      <td>0.100659</td>\n",
       "      <td>0.100023</td>\n",
       "      <td>0.100233</td>\n",
       "    </tr>\n",
       "    <tr>\n",
       "      <td>28</td>\n",
       "      <td>2009</td>\n",
       "      <td>1.201369</td>\n",
       "      <td>1.370000e+12</td>\n",
       "      <td>0.666814</td>\n",
       "      <td>0.082881</td>\n",
       "      <td>0.083114</td>\n",
       "      <td>0.083784</td>\n",
       "      <td>0.083406</td>\n",
       "    </tr>\n",
       "    <tr>\n",
       "      <td>29</td>\n",
       "      <td>2010</td>\n",
       "      <td>1.221371</td>\n",
       "      <td>1.610000e+12</td>\n",
       "      <td>0.666819</td>\n",
       "      <td>0.082881</td>\n",
       "      <td>0.083114</td>\n",
       "      <td>0.083779</td>\n",
       "      <td>0.083406</td>\n",
       "    </tr>\n",
       "    <tr>\n",
       "      <td>30</td>\n",
       "      <td>2011</td>\n",
       "      <td>1.239904</td>\n",
       "      <td>1.790000e+12</td>\n",
       "      <td>0.100004</td>\n",
       "      <td>0.100023</td>\n",
       "      <td>0.598416</td>\n",
       "      <td>0.101283</td>\n",
       "      <td>0.100274</td>\n",
       "    </tr>\n",
       "    <tr>\n",
       "      <td>31</td>\n",
       "      <td>2012</td>\n",
       "      <td>1.244607</td>\n",
       "      <td>1.830000e+12</td>\n",
       "      <td>0.100004</td>\n",
       "      <td>0.100023</td>\n",
       "      <td>0.598395</td>\n",
       "      <td>0.101305</td>\n",
       "      <td>0.100275</td>\n",
       "    </tr>\n",
       "    <tr>\n",
       "      <td>32</td>\n",
       "      <td>2013</td>\n",
       "      <td>1.224000</td>\n",
       "      <td>1.850000e+12</td>\n",
       "      <td>0.599083</td>\n",
       "      <td>0.100005</td>\n",
       "      <td>0.100655</td>\n",
       "      <td>0.100023</td>\n",
       "      <td>0.100233</td>\n",
       "    </tr>\n",
       "    <tr>\n",
       "      <td>33</td>\n",
       "      <td>2014</td>\n",
       "      <td>1.230358</td>\n",
       "      <td>1.800000e+12</td>\n",
       "      <td>0.200000</td>\n",
       "      <td>0.200000</td>\n",
       "      <td>0.200000</td>\n",
       "      <td>0.200000</td>\n",
       "      <td>0.200000</td>\n",
       "    </tr>\n",
       "    <tr>\n",
       "      <td>34</td>\n",
       "      <td>2015</td>\n",
       "      <td>1.248042</td>\n",
       "      <td>1.560000e+12</td>\n",
       "      <td>0.596414</td>\n",
       "      <td>0.100008</td>\n",
       "      <td>0.100008</td>\n",
       "      <td>0.102422</td>\n",
       "      <td>0.101148</td>\n",
       "    </tr>\n",
       "    <tr>\n",
       "      <td>35</td>\n",
       "      <td>2016</td>\n",
       "      <td>1.207045</td>\n",
       "      <td>1.530000e+12</td>\n",
       "      <td>0.200000</td>\n",
       "      <td>0.200000</td>\n",
       "      <td>0.200000</td>\n",
       "      <td>0.200000</td>\n",
       "      <td>0.200000</td>\n",
       "    </tr>\n",
       "    <tr>\n",
       "      <td>36</td>\n",
       "      <td>2017</td>\n",
       "      <td>1.212304</td>\n",
       "      <td>1.650000e+12</td>\n",
       "      <td>0.100043</td>\n",
       "      <td>0.599705</td>\n",
       "      <td>0.100169</td>\n",
       "      <td>0.100014</td>\n",
       "      <td>0.100069</td>\n",
       "    </tr>\n",
       "    <tr>\n",
       "      <td>37</td>\n",
       "      <td>2018</td>\n",
       "      <td>1.198165</td>\n",
       "      <td>1.720000e+12</td>\n",
       "      <td>0.506295</td>\n",
       "      <td>0.272260</td>\n",
       "      <td>0.073604</td>\n",
       "      <td>0.074063</td>\n",
       "      <td>0.073779</td>\n",
       "    </tr>\n",
       "  </tbody>\n",
       "</table>\n",
       "</div>"
      ],
      "text/plain": [
       "    Year       PPP           GDP  vector_1  vector_2  vector_3  vector_4  \\\n",
       "0   1981  1.134429  3.060000e+11  0.100003  0.100004  0.100066  0.100020   \n",
       "1   1982  1.162983  3.140000e+11  0.200000  0.200000  0.200000  0.200000   \n",
       "2   1983  1.183882  3.410000e+11  0.092599  0.552755  0.166161  0.095321   \n",
       "3   1984  1.183059  3.550000e+11  0.100043  0.599702  0.100172  0.100015   \n",
       "4   1985  1.185080  3.650000e+11  0.082920  0.350074  0.399832  0.083997   \n",
       "5   1986  1.197798  3.770000e+11  0.100043  0.599706  0.100168  0.100014   \n",
       "6   1987  1.224895  4.310000e+11  0.200000  0.200000  0.200000  0.200000   \n",
       "7   1988  1.236884  5.070000e+11  0.100043  0.599704  0.100169  0.100014   \n",
       "8   1989  1.246188  5.650000e+11  0.267549  0.082896  0.482542  0.083702   \n",
       "9   1990  1.241965  5.940000e+11  0.200000  0.200000  0.200000  0.200000   \n",
       "10  1991  1.237998  6.100000e+11  0.200000  0.200000  0.200000  0.200000   \n",
       "11  1992  1.228098  5.920000e+11  0.100003  0.100004  0.100066  0.100020   \n",
       "12  1993  1.215102  5.770000e+11  0.077464  0.073236  0.230987  0.077500   \n",
       "13  1994  1.207010  5.780000e+11  0.599077  0.100005  0.100662  0.100023   \n",
       "14  1995  1.208841  6.040000e+11  0.088975  0.085419  0.085452  0.087372   \n",
       "15  1996  1.207821  6.290000e+11  0.151969  0.153923  0.074708  0.074724   \n",
       "16  1997  1.200974  6.530000e+11  0.666820  0.082881  0.083114  0.083779   \n",
       "17  1998  1.185448  6.320000e+11  0.200000  0.200000  0.200000  0.200000   \n",
       "18  1999  1.190810  6.760000e+11  0.100004  0.100023  0.598393  0.101306   \n",
       "19  2000  1.227563  7.420000e+11  0.079377  0.207023  0.076489  0.077989   \n",
       "20  2001  1.221139  7.360000e+11  0.100003  0.100004  0.100066  0.100020   \n",
       "21  2002  1.229333  7.580000e+11  0.093425  0.080196  0.102873  0.082508   \n",
       "22  2003  1.226338  8.920000e+11  0.082981  0.076759  0.098497  0.079952   \n",
       "23  2004  1.233195  1.020000e+12  0.082920  0.358420  0.083097  0.082907   \n",
       "24  2005  1.213644  1.170000e+12  0.100004  0.100023  0.598410  0.101290   \n",
       "25  2006  1.205778  1.320000e+12  0.200000  0.200000  0.200000  0.200000   \n",
       "26  2007  1.212706  1.460000e+12  0.100043  0.599705  0.100169  0.100014   \n",
       "27  2008  1.234390  1.550000e+12  0.599080  0.100005  0.100659  0.100023   \n",
       "28  2009  1.201369  1.370000e+12  0.666814  0.082881  0.083114  0.083784   \n",
       "29  2010  1.221371  1.610000e+12  0.666819  0.082881  0.083114  0.083779   \n",
       "30  2011  1.239904  1.790000e+12  0.100004  0.100023  0.598416  0.101283   \n",
       "31  2012  1.244607  1.830000e+12  0.100004  0.100023  0.598395  0.101305   \n",
       "32  2013  1.224000  1.850000e+12  0.599083  0.100005  0.100655  0.100023   \n",
       "33  2014  1.230358  1.800000e+12  0.200000  0.200000  0.200000  0.200000   \n",
       "34  2015  1.248042  1.560000e+12  0.596414  0.100008  0.100008  0.102422   \n",
       "35  2016  1.207045  1.530000e+12  0.200000  0.200000  0.200000  0.200000   \n",
       "36  2017  1.212304  1.650000e+12  0.100043  0.599705  0.100169  0.100014   \n",
       "37  2018  1.198165  1.720000e+12  0.506295  0.272260  0.073604  0.074063   \n",
       "\n",
       "    vector_5  \n",
       "0   0.599906  \n",
       "1   0.200000  \n",
       "2   0.093163  \n",
       "3   0.100069  \n",
       "4   0.083177  \n",
       "5   0.100069  \n",
       "6   0.200000  \n",
       "7   0.100069  \n",
       "8   0.083311  \n",
       "9   0.200000  \n",
       "10  0.200000  \n",
       "11  0.599907  \n",
       "12  0.540812  \n",
       "13  0.100233  \n",
       "14  0.652782  \n",
       "15  0.544675  \n",
       "16  0.083406  \n",
       "17  0.200000  \n",
       "18  0.100275  \n",
       "19  0.559122  \n",
       "20  0.599907  \n",
       "21  0.640998  \n",
       "22  0.661811  \n",
       "23  0.392656  \n",
       "24  0.100275  \n",
       "25  0.200000  \n",
       "26  0.100069  \n",
       "27  0.100233  \n",
       "28  0.083406  \n",
       "29  0.083406  \n",
       "30  0.100274  \n",
       "31  0.100275  \n",
       "32  0.100233  \n",
       "33  0.200000  \n",
       "34  0.101148  \n",
       "35  0.200000  \n",
       "36  0.100069  \n",
       "37  0.073779  "
      ]
     },
     "execution_count": 4,
     "metadata": {},
     "output_type": "execute_result"
    }
   ],
   "source": [
    "X=canada.drop('Exchange',axis=1)\n",
    "X"
   ]
  },
  {
   "cell_type": "code",
   "execution_count": 6,
   "metadata": {},
   "outputs": [
    {
     "data": {
      "text/plain": [
       "0     1.198903\n",
       "1     1.233735\n",
       "2     1.232412\n",
       "3     1.295066\n",
       "4     1.365507\n",
       "5     1.389471\n",
       "6     1.325983\n",
       "7     1.230701\n",
       "8     1.183972\n",
       "9     1.166774\n",
       "10    1.145726\n",
       "11    1.208723\n",
       "12    1.290088\n",
       "13    1.365673\n",
       "14    1.372445\n",
       "15    1.363522\n",
       "16    1.384598\n",
       "17    1.483505\n",
       "18    1.485705\n",
       "19    1.485394\n",
       "20    1.548840\n",
       "21    1.570343\n",
       "22    1.401015\n",
       "23    1.301282\n",
       "24    1.211405\n",
       "25    1.134345\n",
       "26    1.074046\n",
       "27    1.067087\n",
       "28    1.141535\n",
       "29    1.030113\n",
       "30    0.989258\n",
       "31    0.999365\n",
       "32    1.030137\n",
       "33    1.104747\n",
       "34    1.278786\n",
       "35    1.325615\n",
       "36    1.297936\n",
       "37    1.295818\n",
       "Name: Exchange, dtype: float64"
      ]
     },
     "execution_count": 6,
     "metadata": {},
     "output_type": "execute_result"
    }
   ],
   "source": [
    "y=canada['Exchange']\n",
    "y"
   ]
  },
  {
   "cell_type": "code",
   "execution_count": 7,
   "metadata": {},
   "outputs": [],
   "source": [
    "from sklearn.model_selection import train_test_split\n",
    "X_train, X_test, y_train, y_test = train_test_split(X,y, test_size=0.2, random_state=0)"
   ]
  },
  {
   "cell_type": "code",
   "execution_count": 8,
   "metadata": {},
   "outputs": [
    {
     "data": {
      "text/plain": [
       "LinearRegression()"
      ]
     },
     "execution_count": 8,
     "metadata": {},
     "output_type": "execute_result"
    }
   ],
   "source": [
    "from sklearn.linear_model import LinearRegression\n",
    "lcanmodel=LinearRegression()\n",
    "lcanmodel.fit(X_train,y_train)"
   ]
  },
  {
   "cell_type": "code",
   "execution_count": 9,
   "metadata": {},
   "outputs": [
    {
     "data": {
      "text/plain": [
       "array([1.4155614 , 1.07188879, 1.39879873, 1.40883664, 1.30004343,\n",
       "       1.47285359, 1.15449348, 1.24640535])"
      ]
     },
     "execution_count": 9,
     "metadata": {},
     "output_type": "execute_result"
    }
   ],
   "source": [
    "y_pred=lcanmodel.predict(X_test)\n",
    "y_pred"
   ]
  },
  {
   "cell_type": "code",
   "execution_count": 10,
   "metadata": {},
   "outputs": [
    {
     "name": "stdout",
     "output_type": "stream",
     "text": [
      "0.06608095832311463\n"
     ]
    }
   ],
   "source": [
    "from sklearn.metrics import mean_squared_error\n",
    "lcanmodel_rmse = np.sqrt(mean_squared_error(y_test,y_pred))\n",
    "print(lcanmodel_rmse)"
   ]
  },
  {
   "cell_type": "code",
   "execution_count": 11,
   "metadata": {},
   "outputs": [
    {
     "name": "stdout",
     "output_type": "stream",
     "text": [
      "0.058034107355071834\n"
     ]
    }
   ],
   "source": [
    "from sklearn import metrics\n",
    "print(metrics.mean_absolute_error(y_test,y_pred))"
   ]
  },
  {
   "cell_type": "code",
   "execution_count": 12,
   "metadata": {},
   "outputs": [
    {
     "name": "stdout",
     "output_type": "stream",
     "text": [
      "Mean Absolute Error: 0.06 degrees.\n"
     ]
    }
   ],
   "source": [
    "# Calculate the absolute errors\n",
    "errors = abs(y_pred - y_test)\n",
    "# Print out the mean absolute error (mae)\n",
    "print('Mean Absolute Error:', round(np.mean(errors), 2), 'degrees.')"
   ]
  },
  {
   "cell_type": "code",
   "execution_count": 13,
   "metadata": {},
   "outputs": [
    {
     "name": "stdout",
     "output_type": "stream",
     "text": [
      "Accuracy: 95.23 %.\n"
     ]
    }
   ],
   "source": [
    "# Calculate mean absolute percentage error (MAPE)\n",
    "mape = 100 * (errors / y_test)\n",
    "# Calculate and display accuracy\n",
    "accuracy = 100 - np.mean(mape)\n",
    "print('Accuracy:', round(accuracy, 2), '%.')"
   ]
  },
  {
   "cell_type": "code",
   "execution_count": 14,
   "metadata": {},
   "outputs": [
    {
     "data": {
      "text/plain": [
       "RandomForestRegressor(n_estimators=1000, random_state=42)"
      ]
     },
     "execution_count": 14,
     "metadata": {},
     "output_type": "execute_result"
    }
   ],
   "source": [
    "from sklearn.ensemble import RandomForestRegressor\n",
    "rfcanmodel=RandomForestRegressor(n_estimators = 1000, random_state = 42)\n",
    "rfcanmodel.fit(X_train,y_train)"
   ]
  },
  {
   "cell_type": "code",
   "execution_count": 16,
   "metadata": {},
   "outputs": [
    {
     "data": {
      "text/plain": [
       "array([1.45552413, 1.1699968 , 1.29914595, 1.37514565, 1.32881912,\n",
       "       1.39465907, 1.2481661 , 1.21736162])"
      ]
     },
     "execution_count": 16,
     "metadata": {},
     "output_type": "execute_result"
    }
   ],
   "source": [
    "y_pred_rf=rfcanmodel.predict(X_test)\n",
    "y_pred_rf"
   ]
  },
  {
   "cell_type": "code",
   "execution_count": 18,
   "metadata": {},
   "outputs": [
    {
     "name": "stdout",
     "output_type": "stream",
     "text": [
      "0.11380932089877044\n"
     ]
    }
   ],
   "source": [
    "from sklearn.metrics import mean_squared_error\n",
    "rfcanmodel_rmse = np.sqrt(mean_squared_error(y_test,y_pred_rf))\n",
    "print(rfcanmodel_rmse)"
   ]
  },
  {
   "cell_type": "code",
   "execution_count": 19,
   "metadata": {},
   "outputs": [
    {
     "data": {
      "text/plain": [
       "array([0.17041113, 0.16462053, 0.38165662, 0.07371431, 0.04539802,\n",
       "       0.04771787, 0.04085453, 0.07562699])"
      ]
     },
     "execution_count": 19,
     "metadata": {},
     "output_type": "execute_result"
    }
   ],
   "source": [
    "rfcanmodel.feature_importances_"
   ]
  },
  {
   "cell_type": "code",
   "execution_count": 22,
   "metadata": {},
   "outputs": [
    {
     "name": "stdout",
     "output_type": "stream",
     "text": [
      "Mean Absolute Error: 0.1 degrees.\n"
     ]
    }
   ],
   "source": [
    "# Calculate the absolute errors\n",
    "errors_rf = abs(y_pred_rf - y_test)\n",
    "# Print out the mean absolute error (mae)\n",
    "print('Mean Absolute Error:', round(np.mean(errors), 2), 'degrees.')"
   ]
  },
  {
   "cell_type": "code",
   "execution_count": 23,
   "metadata": {},
   "outputs": [
    {
     "name": "stdout",
     "output_type": "stream",
     "text": [
      "Accuracy: 91.64 %.\n"
     ]
    }
   ],
   "source": [
    "# Calculate mean absolute percentage error (MAPE)\n",
    "mape = 100 * (errors_rf / y_test)\n",
    "# Calculate and display accuracy\n",
    "accuracy = 100 - np.mean(mape)\n",
    "print('Accuracy:', round(accuracy, 2), '%.')"
   ]
  },
  {
   "cell_type": "markdown",
   "metadata": {},
   "source": [
    "### Ridge"
   ]
  },
  {
   "cell_type": "code",
   "execution_count": 25,
   "metadata": {},
   "outputs": [
    {
     "name": "stderr",
     "output_type": "stream",
     "text": [
      "C:\\Users\\RADHIKA\\Anaconda3\\lib\\site-packages\\sklearn\\linear_model\\_ridge.py:148: LinAlgWarning: Ill-conditioned matrix (rcond=1.08101e-27): result may not be accurate.\n",
      "  overwrite_a=True).T\n"
     ]
    },
    {
     "data": {
      "text/plain": [
       "Ridge(alpha=0.01)"
      ]
     },
     "execution_count": 25,
     "metadata": {},
     "output_type": "execute_result"
    }
   ],
   "source": [
    "from sklearn.linear_model import Ridge\n",
    "ridge = Ridge(alpha=0.01)\n",
    "ridge.fit(X_train, y_train) "
   ]
  },
  {
   "cell_type": "code",
   "execution_count": 26,
   "metadata": {},
   "outputs": [
    {
     "name": "stdout",
     "output_type": "stream",
     "text": [
      "0.04476686602451127\n",
      "0.9035395583647703\n",
      "0.06776311748959427\n",
      "0.8416177050223401\n"
     ]
    }
   ],
   "source": [
    "from sklearn.metrics import r2_score\n",
    "pred_train_rr= ridge.predict(X_train)\n",
    "print(np.sqrt(mean_squared_error(y_train,pred_train_rr)))\n",
    "print(r2_score(y_train, pred_train_rr))\n",
    "\n",
    "pred_test_rr= ridge.predict(X_test)\n",
    "print(np.sqrt(mean_squared_error(y_test,pred_test_rr))) \n",
    "print(r2_score(y_test, pred_test_rr))"
   ]
  },
  {
   "cell_type": "code",
   "execution_count": 27,
   "metadata": {},
   "outputs": [
    {
     "name": "stdout",
     "output_type": "stream",
     "text": [
      "Mean Absolute Error: 0.1 degrees.\n"
     ]
    }
   ],
   "source": [
    "# Calculate the absolute errors\n",
    "errors_ridge = abs(pred_test_rr - y_test)\n",
    "# Print out the mean absolute error (mae)\n",
    "print('Mean Absolute Error:', round(np.mean(errors), 2), 'degrees.')"
   ]
  },
  {
   "cell_type": "code",
   "execution_count": 28,
   "metadata": {},
   "outputs": [
    {
     "name": "stdout",
     "output_type": "stream",
     "text": [
      "Accuracy: 95.38 %.\n"
     ]
    }
   ],
   "source": [
    "# Calculate mean absolute percentage error (MAPE)\n",
    "mape = 100 * (errors_ridge / pred_test_rr)\n",
    "# Calculate and display accuracy\n",
    "accuracy = 100 - np.mean(mape)\n",
    "print('Accuracy:', round(accuracy, 2), '%.')\n"
   ]
  },
  {
   "cell_type": "code",
   "execution_count": 29,
   "metadata": {},
   "outputs": [],
   "source": [
    "import pickle\n",
    "pickle.dump(ridge,open('ridge_chn_model.pkl','wb'))"
   ]
  },
  {
   "cell_type": "code",
   "execution_count": null,
   "metadata": {},
   "outputs": [],
   "source": []
  }
 ],
 "metadata": {
  "kernelspec": {
   "display_name": "Python 3",
   "language": "python",
   "name": "python3"
  },
  "language_info": {
   "codemirror_mode": {
    "name": "ipython",
    "version": 3
   },
   "file_extension": ".py",
   "mimetype": "text/x-python",
   "name": "python",
   "nbconvert_exporter": "python",
   "pygments_lexer": "ipython3",
   "version": "3.7.4"
  }
 },
 "nbformat": 4,
 "nbformat_minor": 2
}
