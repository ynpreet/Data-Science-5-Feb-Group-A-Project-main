{
 "cells": [
  {
   "cell_type": "code",
   "execution_count": 1,
   "metadata": {},
   "outputs": [],
   "source": [
    "import pandas as pd\n",
    "import numpy as np\n",
    "import matplotlib.pyplot as plt"
   ]
  },
  {
   "cell_type": "code",
   "execution_count": 2,
   "metadata": {},
   "outputs": [],
   "source": [
    "uk=pd.read_csv('D:/Technocolabs Final work files/k=5_MergedData/UK.csv')"
   ]
  },
  {
   "cell_type": "code",
   "execution_count": 3,
   "metadata": {},
   "outputs": [
    {
     "data": {
      "text/html": [
       "<div>\n",
       "<style scoped>\n",
       "    .dataframe tbody tr th:only-of-type {\n",
       "        vertical-align: middle;\n",
       "    }\n",
       "\n",
       "    .dataframe tbody tr th {\n",
       "        vertical-align: top;\n",
       "    }\n",
       "\n",
       "    .dataframe thead th {\n",
       "        text-align: right;\n",
       "    }\n",
       "</style>\n",
       "<table border=\"1\" class=\"dataframe\">\n",
       "  <thead>\n",
       "    <tr style=\"text-align: right;\">\n",
       "      <th></th>\n",
       "      <th>Year</th>\n",
       "      <th>PPP</th>\n",
       "      <th>Exchange</th>\n",
       "      <th>GDP</th>\n",
       "      <th>vector_1</th>\n",
       "      <th>vector_2</th>\n",
       "      <th>vector_3</th>\n",
       "      <th>vector_4</th>\n",
       "      <th>vector_5</th>\n",
       "    </tr>\n",
       "  </thead>\n",
       "  <tbody>\n",
       "    <tr>\n",
       "      <td>0</td>\n",
       "      <td>1981</td>\n",
       "      <td>0.511874</td>\n",
       "      <td>0.497641</td>\n",
       "      <td>5.410000e+11</td>\n",
       "      <td>0.100003</td>\n",
       "      <td>0.100004</td>\n",
       "      <td>0.100066</td>\n",
       "      <td>0.100020</td>\n",
       "      <td>0.599906</td>\n",
       "    </tr>\n",
       "    <tr>\n",
       "      <td>1</td>\n",
       "      <td>1982</td>\n",
       "      <td>0.517855</td>\n",
       "      <td>0.572447</td>\n",
       "      <td>5.150000e+11</td>\n",
       "      <td>0.200000</td>\n",
       "      <td>0.200000</td>\n",
       "      <td>0.200000</td>\n",
       "      <td>0.200000</td>\n",
       "      <td>0.200000</td>\n",
       "    </tr>\n",
       "    <tr>\n",
       "      <td>2</td>\n",
       "      <td>1983</td>\n",
       "      <td>0.523865</td>\n",
       "      <td>0.659725</td>\n",
       "      <td>4.900000e+11</td>\n",
       "      <td>0.092599</td>\n",
       "      <td>0.552755</td>\n",
       "      <td>0.166161</td>\n",
       "      <td>0.095321</td>\n",
       "      <td>0.093163</td>\n",
       "    </tr>\n",
       "    <tr>\n",
       "      <td>3</td>\n",
       "      <td>1984</td>\n",
       "      <td>0.531057</td>\n",
       "      <td>0.751807</td>\n",
       "      <td>4.610000e+11</td>\n",
       "      <td>0.100043</td>\n",
       "      <td>0.599702</td>\n",
       "      <td>0.100172</td>\n",
       "      <td>0.100015</td>\n",
       "      <td>0.100069</td>\n",
       "    </tr>\n",
       "    <tr>\n",
       "      <td>4</td>\n",
       "      <td>1985</td>\n",
       "      <td>0.543150</td>\n",
       "      <td>0.779246</td>\n",
       "      <td>4.890000e+11</td>\n",
       "      <td>0.082920</td>\n",
       "      <td>0.350074</td>\n",
       "      <td>0.399832</td>\n",
       "      <td>0.083997</td>\n",
       "      <td>0.083177</td>\n",
       "    </tr>\n",
       "  </tbody>\n",
       "</table>\n",
       "</div>"
      ],
      "text/plain": [
       "   Year       PPP  Exchange           GDP  vector_1  vector_2  vector_3  \\\n",
       "0  1981  0.511874  0.497641  5.410000e+11  0.100003  0.100004  0.100066   \n",
       "1  1982  0.517855  0.572447  5.150000e+11  0.200000  0.200000  0.200000   \n",
       "2  1983  0.523865  0.659725  4.900000e+11  0.092599  0.552755  0.166161   \n",
       "3  1984  0.531057  0.751807  4.610000e+11  0.100043  0.599702  0.100172   \n",
       "4  1985  0.543150  0.779246  4.890000e+11  0.082920  0.350074  0.399832   \n",
       "\n",
       "   vector_4  vector_5  \n",
       "0  0.100020  0.599906  \n",
       "1  0.200000  0.200000  \n",
       "2  0.095321  0.093163  \n",
       "3  0.100015  0.100069  \n",
       "4  0.083997  0.083177  "
      ]
     },
     "execution_count": 3,
     "metadata": {},
     "output_type": "execute_result"
    }
   ],
   "source": [
    "uk.head()"
   ]
  },
  {
   "cell_type": "code",
   "execution_count": 5,
   "metadata": {},
   "outputs": [
    {
     "data": {
      "text/html": [
       "<div>\n",
       "<style scoped>\n",
       "    .dataframe tbody tr th:only-of-type {\n",
       "        vertical-align: middle;\n",
       "    }\n",
       "\n",
       "    .dataframe tbody tr th {\n",
       "        vertical-align: top;\n",
       "    }\n",
       "\n",
       "    .dataframe thead th {\n",
       "        text-align: right;\n",
       "    }\n",
       "</style>\n",
       "<table border=\"1\" class=\"dataframe\">\n",
       "  <thead>\n",
       "    <tr style=\"text-align: right;\">\n",
       "      <th></th>\n",
       "      <th>Year</th>\n",
       "      <th>PPP</th>\n",
       "      <th>GDP</th>\n",
       "      <th>vector_1</th>\n",
       "      <th>vector_2</th>\n",
       "      <th>vector_3</th>\n",
       "      <th>vector_4</th>\n",
       "      <th>vector_5</th>\n",
       "    </tr>\n",
       "  </thead>\n",
       "  <tbody>\n",
       "    <tr>\n",
       "      <td>0</td>\n",
       "      <td>1981</td>\n",
       "      <td>0.511874</td>\n",
       "      <td>5.410000e+11</td>\n",
       "      <td>0.100003</td>\n",
       "      <td>0.100004</td>\n",
       "      <td>0.100066</td>\n",
       "      <td>0.100020</td>\n",
       "      <td>0.599906</td>\n",
       "    </tr>\n",
       "    <tr>\n",
       "      <td>1</td>\n",
       "      <td>1982</td>\n",
       "      <td>0.517855</td>\n",
       "      <td>5.150000e+11</td>\n",
       "      <td>0.200000</td>\n",
       "      <td>0.200000</td>\n",
       "      <td>0.200000</td>\n",
       "      <td>0.200000</td>\n",
       "      <td>0.200000</td>\n",
       "    </tr>\n",
       "    <tr>\n",
       "      <td>2</td>\n",
       "      <td>1983</td>\n",
       "      <td>0.523865</td>\n",
       "      <td>4.900000e+11</td>\n",
       "      <td>0.092599</td>\n",
       "      <td>0.552755</td>\n",
       "      <td>0.166161</td>\n",
       "      <td>0.095321</td>\n",
       "      <td>0.093163</td>\n",
       "    </tr>\n",
       "    <tr>\n",
       "      <td>3</td>\n",
       "      <td>1984</td>\n",
       "      <td>0.531057</td>\n",
       "      <td>4.610000e+11</td>\n",
       "      <td>0.100043</td>\n",
       "      <td>0.599702</td>\n",
       "      <td>0.100172</td>\n",
       "      <td>0.100015</td>\n",
       "      <td>0.100069</td>\n",
       "    </tr>\n",
       "    <tr>\n",
       "      <td>4</td>\n",
       "      <td>1985</td>\n",
       "      <td>0.543150</td>\n",
       "      <td>4.890000e+11</td>\n",
       "      <td>0.082920</td>\n",
       "      <td>0.350074</td>\n",
       "      <td>0.399832</td>\n",
       "      <td>0.083997</td>\n",
       "      <td>0.083177</td>\n",
       "    </tr>\n",
       "    <tr>\n",
       "      <td>5</td>\n",
       "      <td>1986</td>\n",
       "      <td>0.555510</td>\n",
       "      <td>6.010000e+11</td>\n",
       "      <td>0.100043</td>\n",
       "      <td>0.599706</td>\n",
       "      <td>0.100168</td>\n",
       "      <td>0.100014</td>\n",
       "      <td>0.100069</td>\n",
       "    </tr>\n",
       "    <tr>\n",
       "      <td>6</td>\n",
       "      <td>1987</td>\n",
       "      <td>0.571600</td>\n",
       "      <td>7.450000e+11</td>\n",
       "      <td>0.200000</td>\n",
       "      <td>0.200000</td>\n",
       "      <td>0.200000</td>\n",
       "      <td>0.200000</td>\n",
       "      <td>0.200000</td>\n",
       "    </tr>\n",
       "    <tr>\n",
       "      <td>7</td>\n",
       "      <td>1988</td>\n",
       "      <td>0.585987</td>\n",
       "      <td>9.100000e+11</td>\n",
       "      <td>0.100043</td>\n",
       "      <td>0.599704</td>\n",
       "      <td>0.100169</td>\n",
       "      <td>0.100014</td>\n",
       "      <td>0.100069</td>\n",
       "    </tr>\n",
       "    <tr>\n",
       "      <td>8</td>\n",
       "      <td>1989</td>\n",
       "      <td>0.608630</td>\n",
       "      <td>9.270000e+11</td>\n",
       "      <td>0.267549</td>\n",
       "      <td>0.082896</td>\n",
       "      <td>0.482542</td>\n",
       "      <td>0.083702</td>\n",
       "      <td>0.083311</td>\n",
       "    </tr>\n",
       "    <tr>\n",
       "      <td>9</td>\n",
       "      <td>1990</td>\n",
       "      <td>0.632935</td>\n",
       "      <td>1.090000e+12</td>\n",
       "      <td>0.200000</td>\n",
       "      <td>0.200000</td>\n",
       "      <td>0.200000</td>\n",
       "      <td>0.200000</td>\n",
       "      <td>0.200000</td>\n",
       "    </tr>\n",
       "    <tr>\n",
       "      <td>10</td>\n",
       "      <td>1991</td>\n",
       "      <td>0.651530</td>\n",
       "      <td>1.140000e+12</td>\n",
       "      <td>0.200000</td>\n",
       "      <td>0.200000</td>\n",
       "      <td>0.200000</td>\n",
       "      <td>0.200000</td>\n",
       "      <td>0.200000</td>\n",
       "    </tr>\n",
       "    <tr>\n",
       "      <td>11</td>\n",
       "      <td>1992</td>\n",
       "      <td>0.658168</td>\n",
       "      <td>1.180000e+12</td>\n",
       "      <td>0.100003</td>\n",
       "      <td>0.100004</td>\n",
       "      <td>0.100066</td>\n",
       "      <td>0.100020</td>\n",
       "      <td>0.599907</td>\n",
       "    </tr>\n",
       "    <tr>\n",
       "      <td>12</td>\n",
       "      <td>1993</td>\n",
       "      <td>0.660507</td>\n",
       "      <td>1.060000e+12</td>\n",
       "      <td>0.077464</td>\n",
       "      <td>0.073236</td>\n",
       "      <td>0.230987</td>\n",
       "      <td>0.077500</td>\n",
       "      <td>0.540812</td>\n",
       "    </tr>\n",
       "    <tr>\n",
       "      <td>13</td>\n",
       "      <td>1994</td>\n",
       "      <td>0.655710</td>\n",
       "      <td>1.140000e+12</td>\n",
       "      <td>0.599077</td>\n",
       "      <td>0.100005</td>\n",
       "      <td>0.100662</td>\n",
       "      <td>0.100023</td>\n",
       "      <td>0.100233</td>\n",
       "    </tr>\n",
       "    <tr>\n",
       "      <td>14</td>\n",
       "      <td>1995</td>\n",
       "      <td>0.714632</td>\n",
       "      <td>1.340000e+12</td>\n",
       "      <td>0.088975</td>\n",
       "      <td>0.085419</td>\n",
       "      <td>0.085452</td>\n",
       "      <td>0.087372</td>\n",
       "      <td>0.652782</td>\n",
       "    </tr>\n",
       "    <tr>\n",
       "      <td>15</td>\n",
       "      <td>1996</td>\n",
       "      <td>0.714617</td>\n",
       "      <td>1.420000e+12</td>\n",
       "      <td>0.151969</td>\n",
       "      <td>0.153923</td>\n",
       "      <td>0.074708</td>\n",
       "      <td>0.074724</td>\n",
       "      <td>0.544675</td>\n",
       "    </tr>\n",
       "    <tr>\n",
       "      <td>16</td>\n",
       "      <td>1997</td>\n",
       "      <td>0.708919</td>\n",
       "      <td>1.560000e+12</td>\n",
       "      <td>0.666820</td>\n",
       "      <td>0.082881</td>\n",
       "      <td>0.083114</td>\n",
       "      <td>0.083779</td>\n",
       "      <td>0.083406</td>\n",
       "    </tr>\n",
       "    <tr>\n",
       "      <td>17</td>\n",
       "      <td>1998</td>\n",
       "      <td>0.720742</td>\n",
       "      <td>1.650000e+12</td>\n",
       "      <td>0.200000</td>\n",
       "      <td>0.200000</td>\n",
       "      <td>0.200000</td>\n",
       "      <td>0.200000</td>\n",
       "      <td>0.200000</td>\n",
       "    </tr>\n",
       "    <tr>\n",
       "      <td>18</td>\n",
       "      <td>1999</td>\n",
       "      <td>0.725819</td>\n",
       "      <td>1.680000e+12</td>\n",
       "      <td>0.100004</td>\n",
       "      <td>0.100023</td>\n",
       "      <td>0.598393</td>\n",
       "      <td>0.101306</td>\n",
       "      <td>0.100275</td>\n",
       "    </tr>\n",
       "    <tr>\n",
       "      <td>19</td>\n",
       "      <td>2000</td>\n",
       "      <td>0.704306</td>\n",
       "      <td>1.660000e+12</td>\n",
       "      <td>0.079377</td>\n",
       "      <td>0.207023</td>\n",
       "      <td>0.076489</td>\n",
       "      <td>0.077989</td>\n",
       "      <td>0.559122</td>\n",
       "    </tr>\n",
       "    <tr>\n",
       "      <td>20</td>\n",
       "      <td>2001</td>\n",
       "      <td>0.694382</td>\n",
       "      <td>1.640000e+12</td>\n",
       "      <td>0.100003</td>\n",
       "      <td>0.100004</td>\n",
       "      <td>0.100066</td>\n",
       "      <td>0.100020</td>\n",
       "      <td>0.599907</td>\n",
       "    </tr>\n",
       "    <tr>\n",
       "      <td>21</td>\n",
       "      <td>2002</td>\n",
       "      <td>0.689877</td>\n",
       "      <td>1.780000e+12</td>\n",
       "      <td>0.093425</td>\n",
       "      <td>0.080196</td>\n",
       "      <td>0.102873</td>\n",
       "      <td>0.082508</td>\n",
       "      <td>0.640998</td>\n",
       "    </tr>\n",
       "    <tr>\n",
       "      <td>22</td>\n",
       "      <td>2003</td>\n",
       "      <td>0.696596</td>\n",
       "      <td>2.050000e+12</td>\n",
       "      <td>0.082981</td>\n",
       "      <td>0.076759</td>\n",
       "      <td>0.098497</td>\n",
       "      <td>0.079952</td>\n",
       "      <td>0.661811</td>\n",
       "    </tr>\n",
       "    <tr>\n",
       "      <td>23</td>\n",
       "      <td>2004</td>\n",
       "      <td>0.688410</td>\n",
       "      <td>2.420000e+12</td>\n",
       "      <td>0.082920</td>\n",
       "      <td>0.358420</td>\n",
       "      <td>0.083097</td>\n",
       "      <td>0.082907</td>\n",
       "      <td>0.392656</td>\n",
       "    </tr>\n",
       "    <tr>\n",
       "      <td>24</td>\n",
       "      <td>2005</td>\n",
       "      <td>0.707619</td>\n",
       "      <td>2.540000e+12</td>\n",
       "      <td>0.100004</td>\n",
       "      <td>0.100023</td>\n",
       "      <td>0.598410</td>\n",
       "      <td>0.101290</td>\n",
       "      <td>0.100275</td>\n",
       "    </tr>\n",
       "    <tr>\n",
       "      <td>25</td>\n",
       "      <td>2006</td>\n",
       "      <td>0.697420</td>\n",
       "      <td>2.710000e+12</td>\n",
       "      <td>0.200000</td>\n",
       "      <td>0.200000</td>\n",
       "      <td>0.200000</td>\n",
       "      <td>0.200000</td>\n",
       "      <td>0.200000</td>\n",
       "    </tr>\n",
       "    <tr>\n",
       "      <td>26</td>\n",
       "      <td>2007</td>\n",
       "      <td>0.710100</td>\n",
       "      <td>3.100000e+12</td>\n",
       "      <td>0.100043</td>\n",
       "      <td>0.599705</td>\n",
       "      <td>0.100169</td>\n",
       "      <td>0.100014</td>\n",
       "      <td>0.100069</td>\n",
       "    </tr>\n",
       "    <tr>\n",
       "      <td>27</td>\n",
       "      <td>2008</td>\n",
       "      <td>0.701691</td>\n",
       "      <td>2.920000e+12</td>\n",
       "      <td>0.599080</td>\n",
       "      <td>0.100005</td>\n",
       "      <td>0.100659</td>\n",
       "      <td>0.100023</td>\n",
       "      <td>0.100233</td>\n",
       "    </tr>\n",
       "    <tr>\n",
       "      <td>28</td>\n",
       "      <td>2009</td>\n",
       "      <td>0.709551</td>\n",
       "      <td>2.410000e+12</td>\n",
       "      <td>0.666814</td>\n",
       "      <td>0.082881</td>\n",
       "      <td>0.083114</td>\n",
       "      <td>0.083784</td>\n",
       "      <td>0.083406</td>\n",
       "    </tr>\n",
       "    <tr>\n",
       "      <td>29</td>\n",
       "      <td>2010</td>\n",
       "      <td>0.701707</td>\n",
       "      <td>2.480000e+12</td>\n",
       "      <td>0.666819</td>\n",
       "      <td>0.082881</td>\n",
       "      <td>0.083114</td>\n",
       "      <td>0.083779</td>\n",
       "      <td>0.083406</td>\n",
       "    </tr>\n",
       "    <tr>\n",
       "      <td>30</td>\n",
       "      <td>2011</td>\n",
       "      <td>0.706052</td>\n",
       "      <td>2.660000e+12</td>\n",
       "      <td>0.100004</td>\n",
       "      <td>0.100023</td>\n",
       "      <td>0.598416</td>\n",
       "      <td>0.101283</td>\n",
       "      <td>0.100274</td>\n",
       "    </tr>\n",
       "    <tr>\n",
       "      <td>31</td>\n",
       "      <td>2012</td>\n",
       "      <td>0.701634</td>\n",
       "      <td>2.700000e+12</td>\n",
       "      <td>0.100004</td>\n",
       "      <td>0.100023</td>\n",
       "      <td>0.598395</td>\n",
       "      <td>0.101305</td>\n",
       "      <td>0.100275</td>\n",
       "    </tr>\n",
       "    <tr>\n",
       "      <td>32</td>\n",
       "      <td>2013</td>\n",
       "      <td>0.695248</td>\n",
       "      <td>2.790000e+12</td>\n",
       "      <td>0.599083</td>\n",
       "      <td>0.100005</td>\n",
       "      <td>0.100655</td>\n",
       "      <td>0.100023</td>\n",
       "      <td>0.100233</td>\n",
       "    </tr>\n",
       "    <tr>\n",
       "      <td>33</td>\n",
       "      <td>2014</td>\n",
       "      <td>0.698444</td>\n",
       "      <td>3.060000e+12</td>\n",
       "      <td>0.200000</td>\n",
       "      <td>0.200000</td>\n",
       "      <td>0.200000</td>\n",
       "      <td>0.200000</td>\n",
       "      <td>0.200000</td>\n",
       "    </tr>\n",
       "    <tr>\n",
       "      <td>34</td>\n",
       "      <td>2015</td>\n",
       "      <td>0.692551</td>\n",
       "      <td>2.930000e+12</td>\n",
       "      <td>0.596414</td>\n",
       "      <td>0.100008</td>\n",
       "      <td>0.100008</td>\n",
       "      <td>0.102422</td>\n",
       "      <td>0.101148</td>\n",
       "    </tr>\n",
       "    <tr>\n",
       "      <td>35</td>\n",
       "      <td>2016</td>\n",
       "      <td>0.688603</td>\n",
       "      <td>2.690000e+12</td>\n",
       "      <td>0.200000</td>\n",
       "      <td>0.200000</td>\n",
       "      <td>0.200000</td>\n",
       "      <td>0.200000</td>\n",
       "      <td>0.200000</td>\n",
       "    </tr>\n",
       "    <tr>\n",
       "      <td>36</td>\n",
       "      <td>2017</td>\n",
       "      <td>0.684601</td>\n",
       "      <td>2.670000e+12</td>\n",
       "      <td>0.100043</td>\n",
       "      <td>0.599705</td>\n",
       "      <td>0.100169</td>\n",
       "      <td>0.100014</td>\n",
       "      <td>0.100069</td>\n",
       "    </tr>\n",
       "    <tr>\n",
       "      <td>37</td>\n",
       "      <td>2018</td>\n",
       "      <td>0.683551</td>\n",
       "      <td>2.860000e+12</td>\n",
       "      <td>0.506295</td>\n",
       "      <td>0.272260</td>\n",
       "      <td>0.073604</td>\n",
       "      <td>0.074063</td>\n",
       "      <td>0.073779</td>\n",
       "    </tr>\n",
       "  </tbody>\n",
       "</table>\n",
       "</div>"
      ],
      "text/plain": [
       "    Year       PPP           GDP  vector_1  vector_2  vector_3  vector_4  \\\n",
       "0   1981  0.511874  5.410000e+11  0.100003  0.100004  0.100066  0.100020   \n",
       "1   1982  0.517855  5.150000e+11  0.200000  0.200000  0.200000  0.200000   \n",
       "2   1983  0.523865  4.900000e+11  0.092599  0.552755  0.166161  0.095321   \n",
       "3   1984  0.531057  4.610000e+11  0.100043  0.599702  0.100172  0.100015   \n",
       "4   1985  0.543150  4.890000e+11  0.082920  0.350074  0.399832  0.083997   \n",
       "5   1986  0.555510  6.010000e+11  0.100043  0.599706  0.100168  0.100014   \n",
       "6   1987  0.571600  7.450000e+11  0.200000  0.200000  0.200000  0.200000   \n",
       "7   1988  0.585987  9.100000e+11  0.100043  0.599704  0.100169  0.100014   \n",
       "8   1989  0.608630  9.270000e+11  0.267549  0.082896  0.482542  0.083702   \n",
       "9   1990  0.632935  1.090000e+12  0.200000  0.200000  0.200000  0.200000   \n",
       "10  1991  0.651530  1.140000e+12  0.200000  0.200000  0.200000  0.200000   \n",
       "11  1992  0.658168  1.180000e+12  0.100003  0.100004  0.100066  0.100020   \n",
       "12  1993  0.660507  1.060000e+12  0.077464  0.073236  0.230987  0.077500   \n",
       "13  1994  0.655710  1.140000e+12  0.599077  0.100005  0.100662  0.100023   \n",
       "14  1995  0.714632  1.340000e+12  0.088975  0.085419  0.085452  0.087372   \n",
       "15  1996  0.714617  1.420000e+12  0.151969  0.153923  0.074708  0.074724   \n",
       "16  1997  0.708919  1.560000e+12  0.666820  0.082881  0.083114  0.083779   \n",
       "17  1998  0.720742  1.650000e+12  0.200000  0.200000  0.200000  0.200000   \n",
       "18  1999  0.725819  1.680000e+12  0.100004  0.100023  0.598393  0.101306   \n",
       "19  2000  0.704306  1.660000e+12  0.079377  0.207023  0.076489  0.077989   \n",
       "20  2001  0.694382  1.640000e+12  0.100003  0.100004  0.100066  0.100020   \n",
       "21  2002  0.689877  1.780000e+12  0.093425  0.080196  0.102873  0.082508   \n",
       "22  2003  0.696596  2.050000e+12  0.082981  0.076759  0.098497  0.079952   \n",
       "23  2004  0.688410  2.420000e+12  0.082920  0.358420  0.083097  0.082907   \n",
       "24  2005  0.707619  2.540000e+12  0.100004  0.100023  0.598410  0.101290   \n",
       "25  2006  0.697420  2.710000e+12  0.200000  0.200000  0.200000  0.200000   \n",
       "26  2007  0.710100  3.100000e+12  0.100043  0.599705  0.100169  0.100014   \n",
       "27  2008  0.701691  2.920000e+12  0.599080  0.100005  0.100659  0.100023   \n",
       "28  2009  0.709551  2.410000e+12  0.666814  0.082881  0.083114  0.083784   \n",
       "29  2010  0.701707  2.480000e+12  0.666819  0.082881  0.083114  0.083779   \n",
       "30  2011  0.706052  2.660000e+12  0.100004  0.100023  0.598416  0.101283   \n",
       "31  2012  0.701634  2.700000e+12  0.100004  0.100023  0.598395  0.101305   \n",
       "32  2013  0.695248  2.790000e+12  0.599083  0.100005  0.100655  0.100023   \n",
       "33  2014  0.698444  3.060000e+12  0.200000  0.200000  0.200000  0.200000   \n",
       "34  2015  0.692551  2.930000e+12  0.596414  0.100008  0.100008  0.102422   \n",
       "35  2016  0.688603  2.690000e+12  0.200000  0.200000  0.200000  0.200000   \n",
       "36  2017  0.684601  2.670000e+12  0.100043  0.599705  0.100169  0.100014   \n",
       "37  2018  0.683551  2.860000e+12  0.506295  0.272260  0.073604  0.074063   \n",
       "\n",
       "    vector_5  \n",
       "0   0.599906  \n",
       "1   0.200000  \n",
       "2   0.093163  \n",
       "3   0.100069  \n",
       "4   0.083177  \n",
       "5   0.100069  \n",
       "6   0.200000  \n",
       "7   0.100069  \n",
       "8   0.083311  \n",
       "9   0.200000  \n",
       "10  0.200000  \n",
       "11  0.599907  \n",
       "12  0.540812  \n",
       "13  0.100233  \n",
       "14  0.652782  \n",
       "15  0.544675  \n",
       "16  0.083406  \n",
       "17  0.200000  \n",
       "18  0.100275  \n",
       "19  0.559122  \n",
       "20  0.599907  \n",
       "21  0.640998  \n",
       "22  0.661811  \n",
       "23  0.392656  \n",
       "24  0.100275  \n",
       "25  0.200000  \n",
       "26  0.100069  \n",
       "27  0.100233  \n",
       "28  0.083406  \n",
       "29  0.083406  \n",
       "30  0.100274  \n",
       "31  0.100275  \n",
       "32  0.100233  \n",
       "33  0.200000  \n",
       "34  0.101148  \n",
       "35  0.200000  \n",
       "36  0.100069  \n",
       "37  0.073779  "
      ]
     },
     "execution_count": 5,
     "metadata": {},
     "output_type": "execute_result"
    }
   ],
   "source": [
    "X=uk.drop('Exchange',axis=1)\n",
    "X"
   ]
  },
  {
   "cell_type": "code",
   "execution_count": 6,
   "metadata": {},
   "outputs": [
    {
     "data": {
      "text/plain": [
       "0     0.497641\n",
       "1     0.572447\n",
       "2     0.659725\n",
       "3     0.751807\n",
       "4     0.779246\n",
       "5     0.682197\n",
       "6     0.611927\n",
       "7     0.562170\n",
       "8     0.611173\n",
       "9     0.563177\n",
       "10    0.567015\n",
       "11    0.569774\n",
       "12    0.666757\n",
       "13    0.653427\n",
       "14    0.633668\n",
       "15    0.640958\n",
       "16    0.610836\n",
       "17    0.603824\n",
       "18    0.618057\n",
       "19    0.660931\n",
       "20    0.694655\n",
       "21    0.667223\n",
       "22    0.612473\n",
       "23    0.546180\n",
       "24    0.549998\n",
       "25    0.543487\n",
       "26    0.499772\n",
       "27    0.543966\n",
       "28    0.641919\n",
       "29    0.647179\n",
       "30    0.624141\n",
       "31    0.633047\n",
       "32    0.639661\n",
       "33    0.607730\n",
       "34    0.654545\n",
       "35    0.740634\n",
       "36    0.776977\n",
       "37    0.749532\n",
       "Name: Exchange, dtype: float64"
      ]
     },
     "execution_count": 6,
     "metadata": {},
     "output_type": "execute_result"
    }
   ],
   "source": [
    "y=uk['Exchange']\n",
    "y"
   ]
  },
  {
   "cell_type": "code",
   "execution_count": 7,
   "metadata": {},
   "outputs": [],
   "source": [
    "from sklearn.model_selection import train_test_split\n",
    "X_train, X_test, y_train, y_test = train_test_split(X,y, test_size=0.2, random_state=0)"
   ]
  },
  {
   "cell_type": "code",
   "execution_count": 8,
   "metadata": {},
   "outputs": [
    {
     "data": {
      "text/plain": [
       "LinearRegression()"
      ]
     },
     "execution_count": 8,
     "metadata": {},
     "output_type": "execute_result"
    }
   ],
   "source": [
    "from sklearn.linear_model import LinearRegression\n",
    "lukmodel=LinearRegression()\n",
    "lukmodel.fit(X_train,y_train)"
   ]
  },
  {
   "cell_type": "code",
   "execution_count": 9,
   "metadata": {},
   "outputs": [
    {
     "data": {
      "text/plain": [
       "array([0.60480442, 0.65955893, 0.61440834, 0.62152397, 0.59779544,\n",
       "       0.66648147, 0.47776062, 0.5943485 ])"
      ]
     },
     "execution_count": 9,
     "metadata": {},
     "output_type": "execute_result"
    }
   ],
   "source": [
    "y_pred=lukmodel.predict(X_test)\n",
    "y_pred"
   ]
  },
  {
   "cell_type": "code",
   "execution_count": 10,
   "metadata": {},
   "outputs": [
    {
     "name": "stdout",
     "output_type": "stream",
     "text": [
      "0.020655003201783876\n"
     ]
    }
   ],
   "source": [
    "from sklearn.metrics import mean_squared_error\n",
    "lukmodel_rmse = np.sqrt(mean_squared_error(y_test,y_pred))\n",
    "print(lukmodel_rmse)"
   ]
  },
  {
   "cell_type": "code",
   "execution_count": 11,
   "metadata": {},
   "outputs": [
    {
     "name": "stdout",
     "output_type": "stream",
     "text": [
      "0.018574148430402733\n"
     ]
    }
   ],
   "source": [
    "from sklearn import metrics\n",
    "print(metrics.mean_absolute_error(y_test,y_pred))"
   ]
  },
  {
   "cell_type": "code",
   "execution_count": 12,
   "metadata": {},
   "outputs": [
    {
     "name": "stdout",
     "output_type": "stream",
     "text": [
      "Mean Absolute Error: 0.02 degrees.\n"
     ]
    }
   ],
   "source": [
    "# Calculate the absolute errors\n",
    "errors = abs(y_pred - y_test)\n",
    "# Print out the mean absolute error (mae)\n",
    "print('Mean Absolute Error:', round(np.mean(errors), 2), 'degrees.')"
   ]
  },
  {
   "cell_type": "code",
   "execution_count": 13,
   "metadata": {},
   "outputs": [
    {
     "name": "stdout",
     "output_type": "stream",
     "text": [
      "Accuracy: 96.88 %.\n"
     ]
    }
   ],
   "source": [
    "# Calculate mean absolute percentage error (MAPE)\n",
    "mape = 100 * (errors / y_test)\n",
    "# Calculate and display accuracy\n",
    "accuracy = 100 - np.mean(mape)\n",
    "print('Accuracy:', round(accuracy, 2), '%.')"
   ]
  },
  {
   "cell_type": "markdown",
   "metadata": {},
   "source": [
    "### Random Forest"
   ]
  },
  {
   "cell_type": "code",
   "execution_count": 14,
   "metadata": {},
   "outputs": [
    {
     "data": {
      "text/plain": [
       "RandomForestRegressor(n_estimators=1000, random_state=42)"
      ]
     },
     "execution_count": 14,
     "metadata": {},
     "output_type": "execute_result"
    }
   ],
   "source": [
    "from sklearn.ensemble import RandomForestRegressor\n",
    "rfukmodel=RandomForestRegressor(n_estimators = 1000, random_state = 42)\n",
    "rfukmodel.fit(X_train,y_train)"
   ]
  },
  {
   "cell_type": "code",
   "execution_count": 15,
   "metadata": {},
   "outputs": [
    {
     "data": {
      "text/plain": [
       "array([0.64189505, 0.63328886, 0.63547807, 0.62753544, 0.60660662,\n",
       "       0.60759959, 0.62881773, 0.57942262])"
      ]
     },
     "execution_count": 15,
     "metadata": {},
     "output_type": "execute_result"
    }
   ],
   "source": [
    "y_pred_rf=rfukmodel.predict(X_test)\n",
    "y_pred_rf"
   ]
  },
  {
   "cell_type": "code",
   "execution_count": 16,
   "metadata": {},
   "outputs": [
    {
     "name": "stdout",
     "output_type": "stream",
     "text": [
      "0.020655003201783876\n"
     ]
    }
   ],
   "source": [
    "from sklearn.metrics import mean_squared_error\n",
    "rfukmodel_rmse = np.sqrt(mean_squared_error(y_test,y_pred))\n",
    "print(rfukmodel_rmse)"
   ]
  },
  {
   "cell_type": "code",
   "execution_count": 18,
   "metadata": {},
   "outputs": [
    {
     "data": {
      "text/plain": [
       "array([0.32367735, 0.0775044 , 0.18192362, 0.02485987, 0.13547739,\n",
       "       0.0490027 , 0.07340868, 0.13414599])"
      ]
     },
     "execution_count": 18,
     "metadata": {},
     "output_type": "execute_result"
    }
   ],
   "source": [
    "rfukmodel.feature_importances_"
   ]
  },
  {
   "cell_type": "code",
   "execution_count": 19,
   "metadata": {},
   "outputs": [
    {
     "name": "stdout",
     "output_type": "stream",
     "text": [
      "Mean Absolute Error: 0.02 degrees.\n"
     ]
    }
   ],
   "source": [
    "# Calculate the absolute errors\n",
    "errors_rf = abs(y_pred_rf - y_test)\n",
    "# Print out the mean absolute error (mae)\n",
    "print('Mean Absolute Error:', round(np.mean(errors), 2), 'degrees.')"
   ]
  },
  {
   "cell_type": "code",
   "execution_count": 20,
   "metadata": {},
   "outputs": [
    {
     "name": "stdout",
     "output_type": "stream",
     "text": [
      "Accuracy: 92.49 %.\n"
     ]
    }
   ],
   "source": [
    "# Calculate mean absolute percentage error (MAPE)\n",
    "mape = 100 * (errors_rf / y_test)\n",
    "# Calculate and display accuracy\n",
    "accuracy = 100 - np.mean(mape)\n",
    "print('Accuracy:', round(accuracy, 2), '%.')"
   ]
  },
  {
   "cell_type": "markdown",
   "metadata": {},
   "source": [
    "### Ridge Regression"
   ]
  },
  {
   "cell_type": "code",
   "execution_count": 21,
   "metadata": {},
   "outputs": [
    {
     "name": "stderr",
     "output_type": "stream",
     "text": [
      "C:\\Users\\RADHIKA\\Anaconda3\\lib\\site-packages\\sklearn\\linear_model\\_ridge.py:148: LinAlgWarning: Ill-conditioned matrix (rcond=3.82712e-28): result may not be accurate.\n",
      "  overwrite_a=True).T\n"
     ]
    },
    {
     "data": {
      "text/plain": [
       "Ridge(alpha=0.01)"
      ]
     },
     "execution_count": 21,
     "metadata": {},
     "output_type": "execute_result"
    }
   ],
   "source": [
    "from sklearn.linear_model import Ridge\n",
    "ridge = Ridge(alpha=0.01)\n",
    "ridge.fit(X_train, y_train) "
   ]
  },
  {
   "cell_type": "code",
   "execution_count": 22,
   "metadata": {},
   "outputs": [
    {
     "name": "stdout",
     "output_type": "stream",
     "text": [
      "0.032184459608282694\n",
      "0.7975276959550144\n",
      "0.021055167288602416\n",
      "0.8578864409627045\n"
     ]
    }
   ],
   "source": [
    "from sklearn.metrics import r2_score\n",
    "pred_train_rr= ridge.predict(X_train)\n",
    "print(np.sqrt(mean_squared_error(y_train,pred_train_rr)))\n",
    "print(r2_score(y_train, pred_train_rr))\n",
    "\n",
    "pred_test_rr= ridge.predict(X_test)\n",
    "print(np.sqrt(mean_squared_error(y_test,pred_test_rr))) \n",
    "print(r2_score(y_test, pred_test_rr))"
   ]
  },
  {
   "cell_type": "code",
   "execution_count": 23,
   "metadata": {},
   "outputs": [
    {
     "name": "stdout",
     "output_type": "stream",
     "text": [
      "Mean Absolute Error: 0.02 degrees.\n"
     ]
    }
   ],
   "source": [
    "# Calculate the absolute errors\n",
    "errors_ridge = abs(pred_test_rr - y_test)\n",
    "# Print out the mean absolute error (mae)\n",
    "print('Mean Absolute Error:', round(np.mean(errors), 2), 'degrees.')"
   ]
  },
  {
   "cell_type": "code",
   "execution_count": 24,
   "metadata": {},
   "outputs": [
    {
     "name": "stdout",
     "output_type": "stream",
     "text": [
      "Accuracy: 96.8 %.\n"
     ]
    }
   ],
   "source": [
    "# Calculate mean absolute percentage error (MAPE)\n",
    "mape = 100 * (errors_ridge / pred_test_rr)\n",
    "# Calculate and display accuracy\n",
    "accuracy = 100 - np.mean(mape)\n",
    "print('Accuracy:', round(accuracy, 2), '%.')"
   ]
  },
  {
   "cell_type": "code",
   "execution_count": 25,
   "metadata": {},
   "outputs": [],
   "source": [
    "import pickle\n",
    "pickle.dump(ridge,open('ridge_uk_model.pkl','wb'))"
   ]
  },
  {
   "cell_type": "code",
   "execution_count": null,
   "metadata": {},
   "outputs": [],
   "source": []
  }
 ],
 "metadata": {
  "kernelspec": {
   "display_name": "Python 3",
   "language": "python",
   "name": "python3"
  },
  "language_info": {
   "codemirror_mode": {
    "name": "ipython",
    "version": 3
   },
   "file_extension": ".py",
   "mimetype": "text/x-python",
   "name": "python",
   "nbconvert_exporter": "python",
   "pygments_lexer": "ipython3",
   "version": "3.7.4"
  }
 },
 "nbformat": 4,
 "nbformat_minor": 2
}
