{
 "cells": [
  {
   "cell_type": "code",
   "execution_count": 1,
   "metadata": {},
   "outputs": [],
   "source": [
    "import pandas as pd\n",
    "import numpy as np\n",
    "import matplotlib.pyplot as plt"
   ]
  },
  {
   "cell_type": "code",
   "execution_count": 2,
   "metadata": {},
   "outputs": [],
   "source": [
    "japan=pd.read_csv('D:/Technocolabs Final work files/k=5_MergedData/Japan.csv')"
   ]
  },
  {
   "cell_type": "code",
   "execution_count": 3,
   "metadata": {},
   "outputs": [
    {
     "data": {
      "text/html": [
       "<div>\n",
       "<style scoped>\n",
       "    .dataframe tbody tr th:only-of-type {\n",
       "        vertical-align: middle;\n",
       "    }\n",
       "\n",
       "    .dataframe tbody tr th {\n",
       "        vertical-align: top;\n",
       "    }\n",
       "\n",
       "    .dataframe thead th {\n",
       "        text-align: right;\n",
       "    }\n",
       "</style>\n",
       "<table border=\"1\" class=\"dataframe\">\n",
       "  <thead>\n",
       "    <tr style=\"text-align: right;\">\n",
       "      <th></th>\n",
       "      <th>Year</th>\n",
       "      <th>PPP</th>\n",
       "      <th>Exchange</th>\n",
       "      <th>GDP</th>\n",
       "      <th>vector_1</th>\n",
       "      <th>vector_2</th>\n",
       "      <th>vector_3</th>\n",
       "      <th>vector_4</th>\n",
       "      <th>vector_5</th>\n",
       "    </tr>\n",
       "  </thead>\n",
       "  <tbody>\n",
       "    <tr>\n",
       "      <td>0</td>\n",
       "      <td>1981</td>\n",
       "      <td>228.831006</td>\n",
       "      <td>220.535833</td>\n",
       "      <td>1.220000e+12</td>\n",
       "      <td>0.100003</td>\n",
       "      <td>0.100004</td>\n",
       "      <td>0.100066</td>\n",
       "      <td>0.100020</td>\n",
       "      <td>0.599906</td>\n",
       "    </tr>\n",
       "    <tr>\n",
       "      <td>1</td>\n",
       "      <td>1982</td>\n",
       "      <td>219.276639</td>\n",
       "      <td>249.076667</td>\n",
       "      <td>1.130000e+12</td>\n",
       "      <td>0.200000</td>\n",
       "      <td>0.200000</td>\n",
       "      <td>0.200000</td>\n",
       "      <td>0.200000</td>\n",
       "      <td>0.200000</td>\n",
       "    </tr>\n",
       "    <tr>\n",
       "      <td>2</td>\n",
       "      <td>1983</td>\n",
       "      <td>213.007241</td>\n",
       "      <td>237.511667</td>\n",
       "      <td>1.240000e+12</td>\n",
       "      <td>0.092599</td>\n",
       "      <td>0.552755</td>\n",
       "      <td>0.166161</td>\n",
       "      <td>0.095321</td>\n",
       "      <td>0.093163</td>\n",
       "    </tr>\n",
       "    <tr>\n",
       "      <td>3</td>\n",
       "      <td>1984</td>\n",
       "      <td>208.619258</td>\n",
       "      <td>237.522500</td>\n",
       "      <td>1.320000e+12</td>\n",
       "      <td>0.100043</td>\n",
       "      <td>0.599702</td>\n",
       "      <td>0.100172</td>\n",
       "      <td>0.100015</td>\n",
       "      <td>0.100069</td>\n",
       "    </tr>\n",
       "    <tr>\n",
       "      <td>4</td>\n",
       "      <td>1985</td>\n",
       "      <td>204.772357</td>\n",
       "      <td>238.535833</td>\n",
       "      <td>1.400000e+12</td>\n",
       "      <td>0.082920</td>\n",
       "      <td>0.350074</td>\n",
       "      <td>0.399832</td>\n",
       "      <td>0.083997</td>\n",
       "      <td>0.083177</td>\n",
       "    </tr>\n",
       "  </tbody>\n",
       "</table>\n",
       "</div>"
      ],
      "text/plain": [
       "   Year         PPP    Exchange           GDP  vector_1  vector_2  vector_3  \\\n",
       "0  1981  228.831006  220.535833  1.220000e+12  0.100003  0.100004  0.100066   \n",
       "1  1982  219.276639  249.076667  1.130000e+12  0.200000  0.200000  0.200000   \n",
       "2  1983  213.007241  237.511667  1.240000e+12  0.092599  0.552755  0.166161   \n",
       "3  1984  208.619258  237.522500  1.320000e+12  0.100043  0.599702  0.100172   \n",
       "4  1985  204.772357  238.535833  1.400000e+12  0.082920  0.350074  0.399832   \n",
       "\n",
       "   vector_4  vector_5  \n",
       "0  0.100020  0.599906  \n",
       "1  0.200000  0.200000  \n",
       "2  0.095321  0.093163  \n",
       "3  0.100015  0.100069  \n",
       "4  0.083997  0.083177  "
      ]
     },
     "execution_count": 3,
     "metadata": {},
     "output_type": "execute_result"
    }
   ],
   "source": [
    "japan.head()"
   ]
  },
  {
   "cell_type": "code",
   "execution_count": 4,
   "metadata": {},
   "outputs": [
    {
     "data": {
      "text/html": [
       "<div>\n",
       "<style scoped>\n",
       "    .dataframe tbody tr th:only-of-type {\n",
       "        vertical-align: middle;\n",
       "    }\n",
       "\n",
       "    .dataframe tbody tr th {\n",
       "        vertical-align: top;\n",
       "    }\n",
       "\n",
       "    .dataframe thead th {\n",
       "        text-align: right;\n",
       "    }\n",
       "</style>\n",
       "<table border=\"1\" class=\"dataframe\">\n",
       "  <thead>\n",
       "    <tr style=\"text-align: right;\">\n",
       "      <th></th>\n",
       "      <th>Year</th>\n",
       "      <th>PPP</th>\n",
       "      <th>GDP</th>\n",
       "      <th>vector_1</th>\n",
       "      <th>vector_2</th>\n",
       "      <th>vector_3</th>\n",
       "      <th>vector_4</th>\n",
       "      <th>vector_5</th>\n",
       "    </tr>\n",
       "  </thead>\n",
       "  <tbody>\n",
       "    <tr>\n",
       "      <td>0</td>\n",
       "      <td>1981</td>\n",
       "      <td>228.831006</td>\n",
       "      <td>1.220000e+12</td>\n",
       "      <td>0.100003</td>\n",
       "      <td>0.100004</td>\n",
       "      <td>0.100066</td>\n",
       "      <td>0.100020</td>\n",
       "      <td>0.599906</td>\n",
       "    </tr>\n",
       "    <tr>\n",
       "      <td>1</td>\n",
       "      <td>1982</td>\n",
       "      <td>219.276639</td>\n",
       "      <td>1.130000e+12</td>\n",
       "      <td>0.200000</td>\n",
       "      <td>0.200000</td>\n",
       "      <td>0.200000</td>\n",
       "      <td>0.200000</td>\n",
       "      <td>0.200000</td>\n",
       "    </tr>\n",
       "    <tr>\n",
       "      <td>2</td>\n",
       "      <td>1983</td>\n",
       "      <td>213.007241</td>\n",
       "      <td>1.240000e+12</td>\n",
       "      <td>0.092599</td>\n",
       "      <td>0.552755</td>\n",
       "      <td>0.166161</td>\n",
       "      <td>0.095321</td>\n",
       "      <td>0.093163</td>\n",
       "    </tr>\n",
       "    <tr>\n",
       "      <td>3</td>\n",
       "      <td>1984</td>\n",
       "      <td>208.619258</td>\n",
       "      <td>1.320000e+12</td>\n",
       "      <td>0.100043</td>\n",
       "      <td>0.599702</td>\n",
       "      <td>0.100172</td>\n",
       "      <td>0.100015</td>\n",
       "      <td>0.100069</td>\n",
       "    </tr>\n",
       "    <tr>\n",
       "      <td>4</td>\n",
       "      <td>1985</td>\n",
       "      <td>204.772357</td>\n",
       "      <td>1.400000e+12</td>\n",
       "      <td>0.082920</td>\n",
       "      <td>0.350074</td>\n",
       "      <td>0.399832</td>\n",
       "      <td>0.083997</td>\n",
       "      <td>0.083177</td>\n",
       "    </tr>\n",
       "    <tr>\n",
       "      <td>5</td>\n",
       "      <td>1986</td>\n",
       "      <td>203.966037</td>\n",
       "      <td>2.080000e+12</td>\n",
       "      <td>0.100043</td>\n",
       "      <td>0.599706</td>\n",
       "      <td>0.100168</td>\n",
       "      <td>0.100014</td>\n",
       "      <td>0.100069</td>\n",
       "    </tr>\n",
       "    <tr>\n",
       "      <td>6</td>\n",
       "      <td>1987</td>\n",
       "      <td>198.730394</td>\n",
       "      <td>2.530000e+12</td>\n",
       "      <td>0.200000</td>\n",
       "      <td>0.200000</td>\n",
       "      <td>0.200000</td>\n",
       "      <td>0.200000</td>\n",
       "      <td>0.200000</td>\n",
       "    </tr>\n",
       "    <tr>\n",
       "      <td>7</td>\n",
       "      <td>1988</td>\n",
       "      <td>193.159463</td>\n",
       "      <td>3.070000e+12</td>\n",
       "      <td>0.100043</td>\n",
       "      <td>0.599704</td>\n",
       "      <td>0.100169</td>\n",
       "      <td>0.100014</td>\n",
       "      <td>0.100069</td>\n",
       "    </tr>\n",
       "    <tr>\n",
       "      <td>8</td>\n",
       "      <td>1989</td>\n",
       "      <td>189.792476</td>\n",
       "      <td>3.050000e+12</td>\n",
       "      <td>0.267549</td>\n",
       "      <td>0.082896</td>\n",
       "      <td>0.482542</td>\n",
       "      <td>0.083702</td>\n",
       "      <td>0.083311</td>\n",
       "    </tr>\n",
       "    <tr>\n",
       "      <td>9</td>\n",
       "      <td>1990</td>\n",
       "      <td>187.710514</td>\n",
       "      <td>3.130000e+12</td>\n",
       "      <td>0.200000</td>\n",
       "      <td>0.200000</td>\n",
       "      <td>0.200000</td>\n",
       "      <td>0.200000</td>\n",
       "      <td>0.200000</td>\n",
       "    </tr>\n",
       "    <tr>\n",
       "      <td>10</td>\n",
       "      <td>1991</td>\n",
       "      <td>186.886354</td>\n",
       "      <td>3.580000e+12</td>\n",
       "      <td>0.200000</td>\n",
       "      <td>0.200000</td>\n",
       "      <td>0.200000</td>\n",
       "      <td>0.200000</td>\n",
       "      <td>0.200000</td>\n",
       "    </tr>\n",
       "    <tr>\n",
       "      <td>11</td>\n",
       "      <td>1992</td>\n",
       "      <td>185.767602</td>\n",
       "      <td>3.910000e+12</td>\n",
       "      <td>0.100003</td>\n",
       "      <td>0.100004</td>\n",
       "      <td>0.100066</td>\n",
       "      <td>0.100020</td>\n",
       "      <td>0.599907</td>\n",
       "    </tr>\n",
       "    <tr>\n",
       "      <td>12</td>\n",
       "      <td>1993</td>\n",
       "      <td>182.499528</td>\n",
       "      <td>4.450000e+12</td>\n",
       "      <td>0.077464</td>\n",
       "      <td>0.073236</td>\n",
       "      <td>0.230987</td>\n",
       "      <td>0.077500</td>\n",
       "      <td>0.540812</td>\n",
       "    </tr>\n",
       "    <tr>\n",
       "      <td>13</td>\n",
       "      <td>1994</td>\n",
       "      <td>179.158384</td>\n",
       "      <td>4.910000e+12</td>\n",
       "      <td>0.599077</td>\n",
       "      <td>0.100005</td>\n",
       "      <td>0.100662</td>\n",
       "      <td>0.100023</td>\n",
       "      <td>0.100233</td>\n",
       "    </tr>\n",
       "    <tr>\n",
       "      <td>14</td>\n",
       "      <td>1995</td>\n",
       "      <td>174.542779</td>\n",
       "      <td>5.450000e+12</td>\n",
       "      <td>0.088975</td>\n",
       "      <td>0.085419</td>\n",
       "      <td>0.085452</td>\n",
       "      <td>0.087372</td>\n",
       "      <td>0.652782</td>\n",
       "    </tr>\n",
       "    <tr>\n",
       "      <td>15</td>\n",
       "      <td>1996</td>\n",
       "      <td>170.553311</td>\n",
       "      <td>4.830000e+12</td>\n",
       "      <td>0.151969</td>\n",
       "      <td>0.153923</td>\n",
       "      <td>0.074708</td>\n",
       "      <td>0.074724</td>\n",
       "      <td>0.544675</td>\n",
       "    </tr>\n",
       "    <tr>\n",
       "      <td>16</td>\n",
       "      <td>1997</td>\n",
       "      <td>168.506941</td>\n",
       "      <td>4.410000e+12</td>\n",
       "      <td>0.666820</td>\n",
       "      <td>0.082881</td>\n",
       "      <td>0.083114</td>\n",
       "      <td>0.083779</td>\n",
       "      <td>0.083406</td>\n",
       "    </tr>\n",
       "    <tr>\n",
       "      <td>17</td>\n",
       "      <td>1998</td>\n",
       "      <td>166.556261</td>\n",
       "      <td>4.030000e+12</td>\n",
       "      <td>0.200000</td>\n",
       "      <td>0.200000</td>\n",
       "      <td>0.200000</td>\n",
       "      <td>0.200000</td>\n",
       "      <td>0.200000</td>\n",
       "    </tr>\n",
       "    <tr>\n",
       "      <td>18</td>\n",
       "      <td>1999</td>\n",
       "      <td>162.035740</td>\n",
       "      <td>4.560000e+12</td>\n",
       "      <td>0.100004</td>\n",
       "      <td>0.100023</td>\n",
       "      <td>0.598393</td>\n",
       "      <td>0.101306</td>\n",
       "      <td>0.100275</td>\n",
       "    </tr>\n",
       "    <tr>\n",
       "      <td>19</td>\n",
       "      <td>2000</td>\n",
       "      <td>154.717851</td>\n",
       "      <td>4.890000e+12</td>\n",
       "      <td>0.079377</td>\n",
       "      <td>0.207023</td>\n",
       "      <td>0.076489</td>\n",
       "      <td>0.077989</td>\n",
       "      <td>0.559122</td>\n",
       "    </tr>\n",
       "    <tr>\n",
       "      <td>20</td>\n",
       "      <td>2001</td>\n",
       "      <td>149.724877</td>\n",
       "      <td>4.300000e+12</td>\n",
       "      <td>0.100003</td>\n",
       "      <td>0.100004</td>\n",
       "      <td>0.100066</td>\n",
       "      <td>0.100020</td>\n",
       "      <td>0.599907</td>\n",
       "    </tr>\n",
       "    <tr>\n",
       "      <td>21</td>\n",
       "      <td>2002</td>\n",
       "      <td>143.774205</td>\n",
       "      <td>4.120000e+12</td>\n",
       "      <td>0.093425</td>\n",
       "      <td>0.080196</td>\n",
       "      <td>0.102873</td>\n",
       "      <td>0.082508</td>\n",
       "      <td>0.640998</td>\n",
       "    </tr>\n",
       "    <tr>\n",
       "      <td>22</td>\n",
       "      <td>2003</td>\n",
       "      <td>139.516091</td>\n",
       "      <td>4.450000e+12</td>\n",
       "      <td>0.082981</td>\n",
       "      <td>0.076759</td>\n",
       "      <td>0.098497</td>\n",
       "      <td>0.079952</td>\n",
       "      <td>0.661811</td>\n",
       "    </tr>\n",
       "    <tr>\n",
       "      <td>23</td>\n",
       "      <td>2004</td>\n",
       "      <td>134.363066</td>\n",
       "      <td>4.820000e+12</td>\n",
       "      <td>0.082920</td>\n",
       "      <td>0.358420</td>\n",
       "      <td>0.083097</td>\n",
       "      <td>0.082907</td>\n",
       "      <td>0.392656</td>\n",
       "    </tr>\n",
       "    <tr>\n",
       "      <td>24</td>\n",
       "      <td>2005</td>\n",
       "      <td>129.551955</td>\n",
       "      <td>4.760000e+12</td>\n",
       "      <td>0.100004</td>\n",
       "      <td>0.100023</td>\n",
       "      <td>0.598410</td>\n",
       "      <td>0.101290</td>\n",
       "      <td>0.100275</td>\n",
       "    </tr>\n",
       "    <tr>\n",
       "      <td>25</td>\n",
       "      <td>2006</td>\n",
       "      <td>124.536829</td>\n",
       "      <td>4.530000e+12</td>\n",
       "      <td>0.200000</td>\n",
       "      <td>0.200000</td>\n",
       "      <td>0.200000</td>\n",
       "      <td>0.200000</td>\n",
       "      <td>0.200000</td>\n",
       "    </tr>\n",
       "    <tr>\n",
       "      <td>26</td>\n",
       "      <td>2007</td>\n",
       "      <td>120.394201</td>\n",
       "      <td>4.520000e+12</td>\n",
       "      <td>0.100043</td>\n",
       "      <td>0.599705</td>\n",
       "      <td>0.100169</td>\n",
       "      <td>0.100014</td>\n",
       "      <td>0.100069</td>\n",
       "    </tr>\n",
       "    <tr>\n",
       "      <td>27</td>\n",
       "      <td>2008</td>\n",
       "      <td>116.845814</td>\n",
       "      <td>5.040000e+12</td>\n",
       "      <td>0.599080</td>\n",
       "      <td>0.100005</td>\n",
       "      <td>0.100659</td>\n",
       "      <td>0.100023</td>\n",
       "      <td>0.100233</td>\n",
       "    </tr>\n",
       "    <tr>\n",
       "      <td>28</td>\n",
       "      <td>2009</td>\n",
       "      <td>115.150066</td>\n",
       "      <td>5.230000e+12</td>\n",
       "      <td>0.666814</td>\n",
       "      <td>0.082881</td>\n",
       "      <td>0.083114</td>\n",
       "      <td>0.083784</td>\n",
       "      <td>0.083406</td>\n",
       "    </tr>\n",
       "    <tr>\n",
       "      <td>29</td>\n",
       "      <td>2010</td>\n",
       "      <td>111.666587</td>\n",
       "      <td>5.700000e+12</td>\n",
       "      <td>0.666819</td>\n",
       "      <td>0.082881</td>\n",
       "      <td>0.083114</td>\n",
       "      <td>0.083779</td>\n",
       "      <td>0.083406</td>\n",
       "    </tr>\n",
       "    <tr>\n",
       "      <td>30</td>\n",
       "      <td>2011</td>\n",
       "      <td>107.454281</td>\n",
       "      <td>6.160000e+12</td>\n",
       "      <td>0.100004</td>\n",
       "      <td>0.100023</td>\n",
       "      <td>0.598416</td>\n",
       "      <td>0.101283</td>\n",
       "      <td>0.100274</td>\n",
       "    </tr>\n",
       "    <tr>\n",
       "      <td>31</td>\n",
       "      <td>2012</td>\n",
       "      <td>104.273972</td>\n",
       "      <td>6.200000e+12</td>\n",
       "      <td>0.100004</td>\n",
       "      <td>0.100023</td>\n",
       "      <td>0.598395</td>\n",
       "      <td>0.101305</td>\n",
       "      <td>0.100275</td>\n",
       "    </tr>\n",
       "    <tr>\n",
       "      <td>32</td>\n",
       "      <td>2013</td>\n",
       "      <td>101.302673</td>\n",
       "      <td>5.160000e+12</td>\n",
       "      <td>0.599083</td>\n",
       "      <td>0.100005</td>\n",
       "      <td>0.100655</td>\n",
       "      <td>0.100023</td>\n",
       "      <td>0.100233</td>\n",
       "    </tr>\n",
       "    <tr>\n",
       "      <td>33</td>\n",
       "      <td>2014</td>\n",
       "      <td>103.052076</td>\n",
       "      <td>4.850000e+12</td>\n",
       "      <td>0.200000</td>\n",
       "      <td>0.200000</td>\n",
       "      <td>0.200000</td>\n",
       "      <td>0.200000</td>\n",
       "      <td>0.200000</td>\n",
       "    </tr>\n",
       "    <tr>\n",
       "      <td>34</td>\n",
       "      <td>2015</td>\n",
       "      <td>103.469437</td>\n",
       "      <td>4.390000e+12</td>\n",
       "      <td>0.596414</td>\n",
       "      <td>0.100008</td>\n",
       "      <td>0.100008</td>\n",
       "      <td>0.102422</td>\n",
       "      <td>0.101148</td>\n",
       "    </tr>\n",
       "    <tr>\n",
       "      <td>35</td>\n",
       "      <td>2016</td>\n",
       "      <td>105.519502</td>\n",
       "      <td>4.920000e+12</td>\n",
       "      <td>0.200000</td>\n",
       "      <td>0.200000</td>\n",
       "      <td>0.200000</td>\n",
       "      <td>0.200000</td>\n",
       "      <td>0.200000</td>\n",
       "    </tr>\n",
       "    <tr>\n",
       "      <td>36</td>\n",
       "      <td>2017</td>\n",
       "      <td>105.101901</td>\n",
       "      <td>4.870000e+12</td>\n",
       "      <td>0.100043</td>\n",
       "      <td>0.599705</td>\n",
       "      <td>0.100169</td>\n",
       "      <td>0.100014</td>\n",
       "      <td>0.100069</td>\n",
       "    </tr>\n",
       "    <tr>\n",
       "      <td>37</td>\n",
       "      <td>2018</td>\n",
       "      <td>103.706485</td>\n",
       "      <td>4.950000e+12</td>\n",
       "      <td>0.506295</td>\n",
       "      <td>0.272260</td>\n",
       "      <td>0.073604</td>\n",
       "      <td>0.074063</td>\n",
       "      <td>0.073779</td>\n",
       "    </tr>\n",
       "  </tbody>\n",
       "</table>\n",
       "</div>"
      ],
      "text/plain": [
       "    Year         PPP           GDP  vector_1  vector_2  vector_3  vector_4  \\\n",
       "0   1981  228.831006  1.220000e+12  0.100003  0.100004  0.100066  0.100020   \n",
       "1   1982  219.276639  1.130000e+12  0.200000  0.200000  0.200000  0.200000   \n",
       "2   1983  213.007241  1.240000e+12  0.092599  0.552755  0.166161  0.095321   \n",
       "3   1984  208.619258  1.320000e+12  0.100043  0.599702  0.100172  0.100015   \n",
       "4   1985  204.772357  1.400000e+12  0.082920  0.350074  0.399832  0.083997   \n",
       "5   1986  203.966037  2.080000e+12  0.100043  0.599706  0.100168  0.100014   \n",
       "6   1987  198.730394  2.530000e+12  0.200000  0.200000  0.200000  0.200000   \n",
       "7   1988  193.159463  3.070000e+12  0.100043  0.599704  0.100169  0.100014   \n",
       "8   1989  189.792476  3.050000e+12  0.267549  0.082896  0.482542  0.083702   \n",
       "9   1990  187.710514  3.130000e+12  0.200000  0.200000  0.200000  0.200000   \n",
       "10  1991  186.886354  3.580000e+12  0.200000  0.200000  0.200000  0.200000   \n",
       "11  1992  185.767602  3.910000e+12  0.100003  0.100004  0.100066  0.100020   \n",
       "12  1993  182.499528  4.450000e+12  0.077464  0.073236  0.230987  0.077500   \n",
       "13  1994  179.158384  4.910000e+12  0.599077  0.100005  0.100662  0.100023   \n",
       "14  1995  174.542779  5.450000e+12  0.088975  0.085419  0.085452  0.087372   \n",
       "15  1996  170.553311  4.830000e+12  0.151969  0.153923  0.074708  0.074724   \n",
       "16  1997  168.506941  4.410000e+12  0.666820  0.082881  0.083114  0.083779   \n",
       "17  1998  166.556261  4.030000e+12  0.200000  0.200000  0.200000  0.200000   \n",
       "18  1999  162.035740  4.560000e+12  0.100004  0.100023  0.598393  0.101306   \n",
       "19  2000  154.717851  4.890000e+12  0.079377  0.207023  0.076489  0.077989   \n",
       "20  2001  149.724877  4.300000e+12  0.100003  0.100004  0.100066  0.100020   \n",
       "21  2002  143.774205  4.120000e+12  0.093425  0.080196  0.102873  0.082508   \n",
       "22  2003  139.516091  4.450000e+12  0.082981  0.076759  0.098497  0.079952   \n",
       "23  2004  134.363066  4.820000e+12  0.082920  0.358420  0.083097  0.082907   \n",
       "24  2005  129.551955  4.760000e+12  0.100004  0.100023  0.598410  0.101290   \n",
       "25  2006  124.536829  4.530000e+12  0.200000  0.200000  0.200000  0.200000   \n",
       "26  2007  120.394201  4.520000e+12  0.100043  0.599705  0.100169  0.100014   \n",
       "27  2008  116.845814  5.040000e+12  0.599080  0.100005  0.100659  0.100023   \n",
       "28  2009  115.150066  5.230000e+12  0.666814  0.082881  0.083114  0.083784   \n",
       "29  2010  111.666587  5.700000e+12  0.666819  0.082881  0.083114  0.083779   \n",
       "30  2011  107.454281  6.160000e+12  0.100004  0.100023  0.598416  0.101283   \n",
       "31  2012  104.273972  6.200000e+12  0.100004  0.100023  0.598395  0.101305   \n",
       "32  2013  101.302673  5.160000e+12  0.599083  0.100005  0.100655  0.100023   \n",
       "33  2014  103.052076  4.850000e+12  0.200000  0.200000  0.200000  0.200000   \n",
       "34  2015  103.469437  4.390000e+12  0.596414  0.100008  0.100008  0.102422   \n",
       "35  2016  105.519502  4.920000e+12  0.200000  0.200000  0.200000  0.200000   \n",
       "36  2017  105.101901  4.870000e+12  0.100043  0.599705  0.100169  0.100014   \n",
       "37  2018  103.706485  4.950000e+12  0.506295  0.272260  0.073604  0.074063   \n",
       "\n",
       "    vector_5  \n",
       "0   0.599906  \n",
       "1   0.200000  \n",
       "2   0.093163  \n",
       "3   0.100069  \n",
       "4   0.083177  \n",
       "5   0.100069  \n",
       "6   0.200000  \n",
       "7   0.100069  \n",
       "8   0.083311  \n",
       "9   0.200000  \n",
       "10  0.200000  \n",
       "11  0.599907  \n",
       "12  0.540812  \n",
       "13  0.100233  \n",
       "14  0.652782  \n",
       "15  0.544675  \n",
       "16  0.083406  \n",
       "17  0.200000  \n",
       "18  0.100275  \n",
       "19  0.559122  \n",
       "20  0.599907  \n",
       "21  0.640998  \n",
       "22  0.661811  \n",
       "23  0.392656  \n",
       "24  0.100275  \n",
       "25  0.200000  \n",
       "26  0.100069  \n",
       "27  0.100233  \n",
       "28  0.083406  \n",
       "29  0.083406  \n",
       "30  0.100274  \n",
       "31  0.100275  \n",
       "32  0.100233  \n",
       "33  0.200000  \n",
       "34  0.101148  \n",
       "35  0.200000  \n",
       "36  0.100069  \n",
       "37  0.073779  "
      ]
     },
     "execution_count": 4,
     "metadata": {},
     "output_type": "execute_result"
    }
   ],
   "source": [
    "X=japan.drop('Exchange',axis=1)\n",
    "X"
   ]
  },
  {
   "cell_type": "code",
   "execution_count": 5,
   "metadata": {},
   "outputs": [
    {
     "data": {
      "text/plain": [
       "0     220.535833\n",
       "1     249.076667\n",
       "2     237.511667\n",
       "3     237.522500\n",
       "4     238.535833\n",
       "5     168.519833\n",
       "6     144.637500\n",
       "7     128.151667\n",
       "8     137.964417\n",
       "9     144.792500\n",
       "10    134.706667\n",
       "11    126.651333\n",
       "12    111.197786\n",
       "13    102.207806\n",
       "14     94.059579\n",
       "15    108.779057\n",
       "16    120.990863\n",
       "17    130.905301\n",
       "18    113.906805\n",
       "19    107.765498\n",
       "20    121.528948\n",
       "21    125.388019\n",
       "22    115.933464\n",
       "23    108.192569\n",
       "24    110.218212\n",
       "25    116.299312\n",
       "26    117.753529\n",
       "27    103.359494\n",
       "28     93.570089\n",
       "29     87.779875\n",
       "30     79.807020\n",
       "31     79.790455\n",
       "32     97.595658\n",
       "33    105.944781\n",
       "34    121.044026\n",
       "35    108.792900\n",
       "36    112.166141\n",
       "37    110.423179\n",
       "Name: Exchange, dtype: float64"
      ]
     },
     "execution_count": 5,
     "metadata": {},
     "output_type": "execute_result"
    }
   ],
   "source": [
    "y=japan['Exchange']\n",
    "y"
   ]
  },
  {
   "cell_type": "code",
   "execution_count": 6,
   "metadata": {},
   "outputs": [],
   "source": [
    "from sklearn.model_selection import train_test_split\n",
    "X_train, X_test, y_train, y_test = train_test_split(X,y, test_size=0.2, random_state=0)"
   ]
  },
  {
   "cell_type": "markdown",
   "metadata": {},
   "source": [
    "### Linear Regression"
   ]
  },
  {
   "cell_type": "code",
   "execution_count": 7,
   "metadata": {},
   "outputs": [
    {
     "data": {
      "text/plain": [
       "LinearRegression()"
      ]
     },
     "execution_count": 7,
     "metadata": {},
     "output_type": "execute_result"
    }
   ],
   "source": [
    "from sklearn.linear_model import LinearRegression\n",
    "ljpnmodel=LinearRegression()\n",
    "ljpnmodel.fit(X_train,y_train)"
   ]
  },
  {
   "cell_type": "code",
   "execution_count": 8,
   "metadata": {},
   "outputs": [
    {
     "data": {
      "text/plain": [
       "array([125.05607543,  74.93763642, 111.86635958, 101.85160486,\n",
       "       133.25379525, 126.91832342, 116.30400639, 135.75515335])"
      ]
     },
     "execution_count": 8,
     "metadata": {},
     "output_type": "execute_result"
    }
   ],
   "source": [
    "y_pred=ljpnmodel.predict(X_test)\n",
    "y_pred"
   ]
  },
  {
   "cell_type": "code",
   "execution_count": 9,
   "metadata": {},
   "outputs": [
    {
     "name": "stdout",
     "output_type": "stream",
     "text": [
      "7.54345400827422\n"
     ]
    }
   ],
   "source": [
    "from sklearn.metrics import mean_squared_error\n",
    "ljpnmodel_rmse = np.sqrt(mean_squared_error(y_test,y_pred))\n",
    "print(ljpnmodel_rmse)"
   ]
  },
  {
   "cell_type": "code",
   "execution_count": 10,
   "metadata": {},
   "outputs": [
    {
     "name": "stdout",
     "output_type": "stream",
     "text": [
      "6.56333148696849\n"
     ]
    }
   ],
   "source": [
    "from sklearn import metrics\n",
    "print(metrics.mean_absolute_error(y_test,y_pred))"
   ]
  },
  {
   "cell_type": "code",
   "execution_count": 11,
   "metadata": {},
   "outputs": [
    {
     "name": "stdout",
     "output_type": "stream",
     "text": [
      "Mean Absolute Error: 6.56 degrees.\n"
     ]
    }
   ],
   "source": [
    "# Calculate the absolute errors\n",
    "errors = abs(y_pred - y_test)\n",
    "# Print out the mean absolute error (mae)\n",
    "print('Mean Absolute Error:', round(np.mean(errors), 2), 'degrees.')"
   ]
  },
  {
   "cell_type": "code",
   "execution_count": 12,
   "metadata": {},
   "outputs": [
    {
     "name": "stdout",
     "output_type": "stream",
     "text": [
      "Accuracy: 93.99 %.\n"
     ]
    }
   ],
   "source": [
    "# Calculate mean absolute percentage error (MAPE)\n",
    "mape = 100 * (errors / y_test)\n",
    "# Calculate and display accuracy\n",
    "accuracy = 100 - np.mean(mape)\n",
    "print('Accuracy:', round(accuracy, 2), '%.')"
   ]
  },
  {
   "cell_type": "markdown",
   "metadata": {},
   "source": [
    "### Random Forest"
   ]
  },
  {
   "cell_type": "code",
   "execution_count": 13,
   "metadata": {},
   "outputs": [
    {
     "data": {
      "text/plain": [
       "RandomForestRegressor(n_estimators=1000, random_state=42)"
      ]
     },
     "execution_count": 13,
     "metadata": {},
     "output_type": "execute_result"
    }
   ],
   "source": [
    "from sklearn.ensemble import RandomForestRegressor\n",
    "rfjpnmodel=RandomForestRegressor(n_estimators = 1000, random_state = 42)\n",
    "rfjpnmodel.fit(X_train,y_train)"
   ]
  },
  {
   "cell_type": "code",
   "execution_count": 14,
   "metadata": {},
   "outputs": [
    {
     "data": {
      "text/plain": [
       "array([114.47109067,  92.41150786, 117.29303263, 108.66916012,\n",
       "       132.55818845, 119.1895008 , 114.15612587, 140.31988167])"
      ]
     },
     "execution_count": 14,
     "metadata": {},
     "output_type": "execute_result"
    }
   ],
   "source": [
    "y_pred_rf=rfjpnmodel.predict(X_test)\n",
    "y_pred_rf"
   ]
  },
  {
   "cell_type": "code",
   "execution_count": 15,
   "metadata": {},
   "outputs": [
    {
     "name": "stdout",
     "output_type": "stream",
     "text": [
      "7.54345400827422\n"
     ]
    }
   ],
   "source": [
    "from sklearn.metrics import mean_squared_error\n",
    "rfjpnmodel_rmse = np.sqrt(mean_squared_error(y_test,y_pred))\n",
    "print(rfjpnmodel_rmse)"
   ]
  },
  {
   "cell_type": "code",
   "execution_count": 16,
   "metadata": {},
   "outputs": [
    {
     "data": {
      "text/plain": [
       "array([0.21465631, 0.3923504 , 0.37258148, 0.00343931, 0.00691093,\n",
       "       0.00570702, 0.00222149, 0.00213305])"
      ]
     },
     "execution_count": 16,
     "metadata": {},
     "output_type": "execute_result"
    }
   ],
   "source": [
    "rfjpnmodel.feature_importances_"
   ]
  },
  {
   "cell_type": "code",
   "execution_count": 17,
   "metadata": {},
   "outputs": [
    {
     "name": "stdout",
     "output_type": "stream",
     "text": [
      "Mean Absolute Error: 6.56 degrees.\n"
     ]
    }
   ],
   "source": [
    "# Calculate the absolute errors\n",
    "errors_rf = abs(y_pred_rf - y_test)\n",
    "# Print out the mean absolute error (mae)\n",
    "print('Mean Absolute Error:', round(np.mean(errors), 2), 'degrees.')"
   ]
  },
  {
   "cell_type": "code",
   "execution_count": 18,
   "metadata": {},
   "outputs": [
    {
     "name": "stdout",
     "output_type": "stream",
     "text": [
      "Accuracy: 97.06 %.\n"
     ]
    }
   ],
   "source": [
    "# Calculate mean absolute percentage error (MAPE)\n",
    "mape = 100 * (errors_rf / y_test)\n",
    "# Calculate and display accuracy\n",
    "accuracy = 100 - np.mean(mape)\n",
    "print('Accuracy:', round(accuracy, 2), '%.')"
   ]
  },
  {
   "cell_type": "markdown",
   "metadata": {},
   "source": [
    "### Ridge Regression"
   ]
  },
  {
   "cell_type": "code",
   "execution_count": 19,
   "metadata": {},
   "outputs": [
    {
     "name": "stderr",
     "output_type": "stream",
     "text": [
      "C:\\Users\\RADHIKA\\Anaconda3\\lib\\site-packages\\sklearn\\linear_model\\_ridge.py:148: LinAlgWarning: Ill-conditioned matrix (rcond=1.46077e-28): result may not be accurate.\n",
      "  overwrite_a=True).T\n"
     ]
    },
    {
     "data": {
      "text/plain": [
       "Ridge(alpha=0.01)"
      ]
     },
     "execution_count": 19,
     "metadata": {},
     "output_type": "execute_result"
    }
   ],
   "source": [
    "from sklearn.linear_model import Ridge\n",
    "ridge = Ridge(alpha=0.01)\n",
    "ridge.fit(X_train, y_train) "
   ]
  },
  {
   "cell_type": "code",
   "execution_count": 20,
   "metadata": {},
   "outputs": [
    {
     "name": "stdout",
     "output_type": "stream",
     "text": [
      "13.52838327896824\n",
      "0.924572702493158\n",
      "7.54378767247254\n",
      "0.6666588378381321\n"
     ]
    }
   ],
   "source": [
    "from sklearn.metrics import r2_score\n",
    "pred_train_rr= ridge.predict(X_train)\n",
    "print(np.sqrt(mean_squared_error(y_train,pred_train_rr)))\n",
    "print(r2_score(y_train, pred_train_rr))\n",
    "\n",
    "pred_test_rr= ridge.predict(X_test)\n",
    "print(np.sqrt(mean_squared_error(y_test,pred_test_rr))) \n",
    "print(r2_score(y_test, pred_test_rr))"
   ]
  },
  {
   "cell_type": "code",
   "execution_count": 21,
   "metadata": {},
   "outputs": [
    {
     "name": "stdout",
     "output_type": "stream",
     "text": [
      "Mean Absolute Error: 6.56 degrees.\n"
     ]
    }
   ],
   "source": [
    "# Calculate the absolute errors\n",
    "errors_ridge = abs(pred_test_rr - y_test)\n",
    "# Print out the mean absolute error (mae)\n",
    "print('Mean Absolute Error:', round(np.mean(errors), 2), 'degrees.')"
   ]
  },
  {
   "cell_type": "code",
   "execution_count": 22,
   "metadata": {},
   "outputs": [
    {
     "name": "stdout",
     "output_type": "stream",
     "text": [
      "Accuracy: 93.61 %.\n"
     ]
    }
   ],
   "source": [
    "# Calculate mean absolute percentage error (MAPE)\n",
    "mape = 100 * (errors_ridge / pred_test_rr)\n",
    "# Calculate and display accuracy\n",
    "accuracy = 100 - np.mean(mape)\n",
    "print('Accuracy:', round(accuracy, 2), '%.')\n"
   ]
  },
  {
   "cell_type": "code",
   "execution_count": 23,
   "metadata": {},
   "outputs": [],
   "source": [
    "import pickle\n",
    "pickle.dump(rfjpnmodel,open('rf_chn_model.pkl','wb'))"
   ]
  },
  {
   "cell_type": "code",
   "execution_count": null,
   "metadata": {},
   "outputs": [],
   "source": []
  }
 ],
 "metadata": {
  "kernelspec": {
   "display_name": "Python 3",
   "language": "python",
   "name": "python3"
  },
  "language_info": {
   "codemirror_mode": {
    "name": "ipython",
    "version": 3
   },
   "file_extension": ".py",
   "mimetype": "text/x-python",
   "name": "python",
   "nbconvert_exporter": "python",
   "pygments_lexer": "ipython3",
   "version": "3.7.4"
  }
 },
 "nbformat": 4,
 "nbformat_minor": 2
}
