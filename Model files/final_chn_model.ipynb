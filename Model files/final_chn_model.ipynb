{
 "cells": [
  {
   "cell_type": "code",
   "execution_count": 1,
   "metadata": {},
   "outputs": [],
   "source": [
    "import pandas as pd\n",
    "import numpy as np\n",
    "import matplotlib.pyplot as plt"
   ]
  },
  {
   "cell_type": "code",
   "execution_count": 2,
   "metadata": {},
   "outputs": [],
   "source": [
    "china=pd.read_csv('D:/Technocolabs Final work files/k=5_MergedData/China.csv')"
   ]
  },
  {
   "cell_type": "code",
   "execution_count": 3,
   "metadata": {},
   "outputs": [
    {
     "data": {
      "text/html": [
       "<div>\n",
       "<style scoped>\n",
       "    .dataframe tbody tr th:only-of-type {\n",
       "        vertical-align: middle;\n",
       "    }\n",
       "\n",
       "    .dataframe tbody tr th {\n",
       "        vertical-align: top;\n",
       "    }\n",
       "\n",
       "    .dataframe thead th {\n",
       "        text-align: right;\n",
       "    }\n",
       "</style>\n",
       "<table border=\"1\" class=\"dataframe\">\n",
       "  <thead>\n",
       "    <tr style=\"text-align: right;\">\n",
       "      <th></th>\n",
       "      <th>Year</th>\n",
       "      <th>PPP</th>\n",
       "      <th>Exchange</th>\n",
       "      <th>GDP</th>\n",
       "      <th>vector_1</th>\n",
       "      <th>vector_2</th>\n",
       "      <th>vector_3</th>\n",
       "      <th>vector_4</th>\n",
       "      <th>vector_5</th>\n",
       "    </tr>\n",
       "  </thead>\n",
       "  <tbody>\n",
       "    <tr>\n",
       "      <td>0</td>\n",
       "      <td>1981</td>\n",
       "      <td>1.408056</td>\n",
       "      <td>1.704542</td>\n",
       "      <td>1.960000e+11</td>\n",
       "      <td>0.100003</td>\n",
       "      <td>0.100004</td>\n",
       "      <td>0.100066</td>\n",
       "      <td>0.100020</td>\n",
       "      <td>0.599906</td>\n",
       "    </tr>\n",
       "    <tr>\n",
       "      <td>1</td>\n",
       "      <td>1982</td>\n",
       "      <td>1.324266</td>\n",
       "      <td>1.892542</td>\n",
       "      <td>2.050000e+11</td>\n",
       "      <td>0.200000</td>\n",
       "      <td>0.200000</td>\n",
       "      <td>0.200000</td>\n",
       "      <td>0.200000</td>\n",
       "      <td>0.200000</td>\n",
       "    </tr>\n",
       "    <tr>\n",
       "      <td>2</td>\n",
       "      <td>1983</td>\n",
       "      <td>1.289093</td>\n",
       "      <td>1.975675</td>\n",
       "      <td>2.310000e+11</td>\n",
       "      <td>0.092599</td>\n",
       "      <td>0.552755</td>\n",
       "      <td>0.166161</td>\n",
       "      <td>0.095321</td>\n",
       "      <td>0.093163</td>\n",
       "    </tr>\n",
       "    <tr>\n",
       "      <td>3</td>\n",
       "      <td>1984</td>\n",
       "      <td>1.305713</td>\n",
       "      <td>2.320042</td>\n",
       "      <td>2.600000e+11</td>\n",
       "      <td>0.100043</td>\n",
       "      <td>0.599702</td>\n",
       "      <td>0.100172</td>\n",
       "      <td>0.100015</td>\n",
       "      <td>0.100069</td>\n",
       "    </tr>\n",
       "    <tr>\n",
       "      <td>4</td>\n",
       "      <td>1985</td>\n",
       "      <td>1.394914</td>\n",
       "      <td>2.936658</td>\n",
       "      <td>3.090000e+11</td>\n",
       "      <td>0.082920</td>\n",
       "      <td>0.350074</td>\n",
       "      <td>0.399832</td>\n",
       "      <td>0.083997</td>\n",
       "      <td>0.083177</td>\n",
       "    </tr>\n",
       "  </tbody>\n",
       "</table>\n",
       "</div>"
      ],
      "text/plain": [
       "   Year       PPP  Exchange           GDP  vector_1  vector_2  vector_3  \\\n",
       "0  1981  1.408056  1.704542  1.960000e+11  0.100003  0.100004  0.100066   \n",
       "1  1982  1.324266  1.892542  2.050000e+11  0.200000  0.200000  0.200000   \n",
       "2  1983  1.289093  1.975675  2.310000e+11  0.092599  0.552755  0.166161   \n",
       "3  1984  1.305713  2.320042  2.600000e+11  0.100043  0.599702  0.100172   \n",
       "4  1985  1.394914  2.936658  3.090000e+11  0.082920  0.350074  0.399832   \n",
       "\n",
       "   vector_4  vector_5  \n",
       "0  0.100020  0.599906  \n",
       "1  0.200000  0.200000  \n",
       "2  0.095321  0.093163  \n",
       "3  0.100015  0.100069  \n",
       "4  0.083997  0.083177  "
      ]
     },
     "execution_count": 3,
     "metadata": {},
     "output_type": "execute_result"
    }
   ],
   "source": [
    "china.head()"
   ]
  },
  {
   "cell_type": "code",
   "execution_count": 4,
   "metadata": {},
   "outputs": [
    {
     "data": {
      "text/html": [
       "<div>\n",
       "<style scoped>\n",
       "    .dataframe tbody tr th:only-of-type {\n",
       "        vertical-align: middle;\n",
       "    }\n",
       "\n",
       "    .dataframe tbody tr th {\n",
       "        vertical-align: top;\n",
       "    }\n",
       "\n",
       "    .dataframe thead th {\n",
       "        text-align: right;\n",
       "    }\n",
       "</style>\n",
       "<table border=\"1\" class=\"dataframe\">\n",
       "  <thead>\n",
       "    <tr style=\"text-align: right;\">\n",
       "      <th></th>\n",
       "      <th>Year</th>\n",
       "      <th>PPP</th>\n",
       "      <th>GDP</th>\n",
       "      <th>vector_1</th>\n",
       "      <th>vector_2</th>\n",
       "      <th>vector_3</th>\n",
       "      <th>vector_4</th>\n",
       "      <th>vector_5</th>\n",
       "    </tr>\n",
       "  </thead>\n",
       "  <tbody>\n",
       "    <tr>\n",
       "      <td>0</td>\n",
       "      <td>1981</td>\n",
       "      <td>1.408056</td>\n",
       "      <td>1.960000e+11</td>\n",
       "      <td>0.100003</td>\n",
       "      <td>0.100004</td>\n",
       "      <td>0.100066</td>\n",
       "      <td>0.100020</td>\n",
       "      <td>0.599906</td>\n",
       "    </tr>\n",
       "    <tr>\n",
       "      <td>1</td>\n",
       "      <td>1982</td>\n",
       "      <td>1.324266</td>\n",
       "      <td>2.050000e+11</td>\n",
       "      <td>0.200000</td>\n",
       "      <td>0.200000</td>\n",
       "      <td>0.200000</td>\n",
       "      <td>0.200000</td>\n",
       "      <td>0.200000</td>\n",
       "    </tr>\n",
       "    <tr>\n",
       "      <td>2</td>\n",
       "      <td>1983</td>\n",
       "      <td>1.289093</td>\n",
       "      <td>2.310000e+11</td>\n",
       "      <td>0.092599</td>\n",
       "      <td>0.552755</td>\n",
       "      <td>0.166161</td>\n",
       "      <td>0.095321</td>\n",
       "      <td>0.093163</td>\n",
       "    </tr>\n",
       "    <tr>\n",
       "      <td>3</td>\n",
       "      <td>1984</td>\n",
       "      <td>1.305713</td>\n",
       "      <td>2.600000e+11</td>\n",
       "      <td>0.100043</td>\n",
       "      <td>0.599702</td>\n",
       "      <td>0.100172</td>\n",
       "      <td>0.100015</td>\n",
       "      <td>0.100069</td>\n",
       "    </tr>\n",
       "    <tr>\n",
       "      <td>4</td>\n",
       "      <td>1985</td>\n",
       "      <td>1.394914</td>\n",
       "      <td>3.090000e+11</td>\n",
       "      <td>0.082920</td>\n",
       "      <td>0.350074</td>\n",
       "      <td>0.399832</td>\n",
       "      <td>0.083997</td>\n",
       "      <td>0.083177</td>\n",
       "    </tr>\n",
       "    <tr>\n",
       "      <td>5</td>\n",
       "      <td>1986</td>\n",
       "      <td>1.431230</td>\n",
       "      <td>3.010000e+11</td>\n",
       "      <td>0.100043</td>\n",
       "      <td>0.599706</td>\n",
       "      <td>0.100168</td>\n",
       "      <td>0.100014</td>\n",
       "      <td>0.100069</td>\n",
       "    </tr>\n",
       "    <tr>\n",
       "      <td>6</td>\n",
       "      <td>1987</td>\n",
       "      <td>1.467670</td>\n",
       "      <td>2.730000e+11</td>\n",
       "      <td>0.200000</td>\n",
       "      <td>0.200000</td>\n",
       "      <td>0.200000</td>\n",
       "      <td>0.200000</td>\n",
       "      <td>0.200000</td>\n",
       "    </tr>\n",
       "    <tr>\n",
       "      <td>7</td>\n",
       "      <td>1988</td>\n",
       "      <td>1.589320</td>\n",
       "      <td>3.120000e+11</td>\n",
       "      <td>0.100043</td>\n",
       "      <td>0.599704</td>\n",
       "      <td>0.100169</td>\n",
       "      <td>0.100014</td>\n",
       "      <td>0.100069</td>\n",
       "    </tr>\n",
       "    <tr>\n",
       "      <td>8</td>\n",
       "      <td>1989</td>\n",
       "      <td>1.660909</td>\n",
       "      <td>3.480000e+11</td>\n",
       "      <td>0.267549</td>\n",
       "      <td>0.082896</td>\n",
       "      <td>0.482542</td>\n",
       "      <td>0.083702</td>\n",
       "      <td>0.083311</td>\n",
       "    </tr>\n",
       "    <tr>\n",
       "      <td>9</td>\n",
       "      <td>1990</td>\n",
       "      <td>1.692148</td>\n",
       "      <td>3.610000e+11</td>\n",
       "      <td>0.200000</td>\n",
       "      <td>0.200000</td>\n",
       "      <td>0.200000</td>\n",
       "      <td>0.200000</td>\n",
       "      <td>0.200000</td>\n",
       "    </tr>\n",
       "    <tr>\n",
       "      <td>10</td>\n",
       "      <td>1991</td>\n",
       "      <td>1.746699</td>\n",
       "      <td>3.830000e+11</td>\n",
       "      <td>0.200000</td>\n",
       "      <td>0.200000</td>\n",
       "      <td>0.200000</td>\n",
       "      <td>0.200000</td>\n",
       "      <td>0.200000</td>\n",
       "    </tr>\n",
       "    <tr>\n",
       "      <td>11</td>\n",
       "      <td>1992</td>\n",
       "      <td>1.847653</td>\n",
       "      <td>4.270000e+11</td>\n",
       "      <td>0.100003</td>\n",
       "      <td>0.100004</td>\n",
       "      <td>0.100066</td>\n",
       "      <td>0.100020</td>\n",
       "      <td>0.599907</td>\n",
       "    </tr>\n",
       "    <tr>\n",
       "      <td>12</td>\n",
       "      <td>1993</td>\n",
       "      <td>2.078978</td>\n",
       "      <td>4.450000e+11</td>\n",
       "      <td>0.077464</td>\n",
       "      <td>0.073236</td>\n",
       "      <td>0.230987</td>\n",
       "      <td>0.077500</td>\n",
       "      <td>0.540812</td>\n",
       "    </tr>\n",
       "    <tr>\n",
       "      <td>13</td>\n",
       "      <td>1994</td>\n",
       "      <td>2.455173</td>\n",
       "      <td>5.640000e+11</td>\n",
       "      <td>0.599077</td>\n",
       "      <td>0.100005</td>\n",
       "      <td>0.100662</td>\n",
       "      <td>0.100023</td>\n",
       "      <td>0.100233</td>\n",
       "    </tr>\n",
       "    <tr>\n",
       "      <td>14</td>\n",
       "      <td>1995</td>\n",
       "      <td>2.733376</td>\n",
       "      <td>7.350000e+11</td>\n",
       "      <td>0.088975</td>\n",
       "      <td>0.085419</td>\n",
       "      <td>0.085452</td>\n",
       "      <td>0.087372</td>\n",
       "      <td>0.652782</td>\n",
       "    </tr>\n",
       "    <tr>\n",
       "      <td>15</td>\n",
       "      <td>1996</td>\n",
       "      <td>2.858882</td>\n",
       "      <td>8.640000e+11</td>\n",
       "      <td>0.151969</td>\n",
       "      <td>0.153923</td>\n",
       "      <td>0.074708</td>\n",
       "      <td>0.074724</td>\n",
       "      <td>0.544675</td>\n",
       "    </tr>\n",
       "    <tr>\n",
       "      <td>16</td>\n",
       "      <td>1997</td>\n",
       "      <td>2.855852</td>\n",
       "      <td>9.620000e+11</td>\n",
       "      <td>0.666820</td>\n",
       "      <td>0.082881</td>\n",
       "      <td>0.083114</td>\n",
       "      <td>0.083779</td>\n",
       "      <td>0.083406</td>\n",
       "    </tr>\n",
       "    <tr>\n",
       "      <td>17</td>\n",
       "      <td>1998</td>\n",
       "      <td>2.798643</td>\n",
       "      <td>1.030000e+12</td>\n",
       "      <td>0.200000</td>\n",
       "      <td>0.200000</td>\n",
       "      <td>0.200000</td>\n",
       "      <td>0.200000</td>\n",
       "      <td>0.200000</td>\n",
       "    </tr>\n",
       "    <tr>\n",
       "      <td>18</td>\n",
       "      <td>1999</td>\n",
       "      <td>2.723965</td>\n",
       "      <td>1.090000e+12</td>\n",
       "      <td>0.100004</td>\n",
       "      <td>0.100023</td>\n",
       "      <td>0.598393</td>\n",
       "      <td>0.101306</td>\n",
       "      <td>0.100275</td>\n",
       "    </tr>\n",
       "    <tr>\n",
       "      <td>19</td>\n",
       "      <td>2000</td>\n",
       "      <td>2.719364</td>\n",
       "      <td>1.210000e+12</td>\n",
       "      <td>0.079377</td>\n",
       "      <td>0.207023</td>\n",
       "      <td>0.076489</td>\n",
       "      <td>0.077989</td>\n",
       "      <td>0.559122</td>\n",
       "    </tr>\n",
       "    <tr>\n",
       "      <td>20</td>\n",
       "      <td>2001</td>\n",
       "      <td>2.715469</td>\n",
       "      <td>1.340000e+12</td>\n",
       "      <td>0.100003</td>\n",
       "      <td>0.100004</td>\n",
       "      <td>0.100066</td>\n",
       "      <td>0.100020</td>\n",
       "      <td>0.599907</td>\n",
       "    </tr>\n",
       "    <tr>\n",
       "      <td>21</td>\n",
       "      <td>2002</td>\n",
       "      <td>2.689281</td>\n",
       "      <td>1.470000e+12</td>\n",
       "      <td>0.093425</td>\n",
       "      <td>0.080196</td>\n",
       "      <td>0.102873</td>\n",
       "      <td>0.082508</td>\n",
       "      <td>0.640998</td>\n",
       "    </tr>\n",
       "    <tr>\n",
       "      <td>22</td>\n",
       "      <td>2003</td>\n",
       "      <td>2.708980</td>\n",
       "      <td>1.660000e+12</td>\n",
       "      <td>0.082981</td>\n",
       "      <td>0.076759</td>\n",
       "      <td>0.098497</td>\n",
       "      <td>0.079952</td>\n",
       "      <td>0.661811</td>\n",
       "    </tr>\n",
       "    <tr>\n",
       "      <td>23</td>\n",
       "      <td>2004</td>\n",
       "      <td>2.821351</td>\n",
       "      <td>1.960000e+12</td>\n",
       "      <td>0.082920</td>\n",
       "      <td>0.358420</td>\n",
       "      <td>0.083097</td>\n",
       "      <td>0.082907</td>\n",
       "      <td>0.392656</td>\n",
       "    </tr>\n",
       "    <tr>\n",
       "      <td>24</td>\n",
       "      <td>2005</td>\n",
       "      <td>2.842933</td>\n",
       "      <td>2.290000e+12</td>\n",
       "      <td>0.100004</td>\n",
       "      <td>0.100023</td>\n",
       "      <td>0.598410</td>\n",
       "      <td>0.101290</td>\n",
       "      <td>0.100275</td>\n",
       "    </tr>\n",
       "    <tr>\n",
       "      <td>25</td>\n",
       "      <td>2006</td>\n",
       "      <td>2.867778</td>\n",
       "      <td>2.750000e+12</td>\n",
       "      <td>0.200000</td>\n",
       "      <td>0.200000</td>\n",
       "      <td>0.200000</td>\n",
       "      <td>0.200000</td>\n",
       "      <td>0.200000</td>\n",
       "    </tr>\n",
       "    <tr>\n",
       "      <td>26</td>\n",
       "      <td>2007</td>\n",
       "      <td>3.009186</td>\n",
       "      <td>3.550000e+12</td>\n",
       "      <td>0.100043</td>\n",
       "      <td>0.599705</td>\n",
       "      <td>0.100169</td>\n",
       "      <td>0.100014</td>\n",
       "      <td>0.100069</td>\n",
       "    </tr>\n",
       "    <tr>\n",
       "      <td>27</td>\n",
       "      <td>2008</td>\n",
       "      <td>3.181871</td>\n",
       "      <td>4.590000e+12</td>\n",
       "      <td>0.599080</td>\n",
       "      <td>0.100005</td>\n",
       "      <td>0.100659</td>\n",
       "      <td>0.100023</td>\n",
       "      <td>0.100233</td>\n",
       "    </tr>\n",
       "    <tr>\n",
       "      <td>28</td>\n",
       "      <td>2009</td>\n",
       "      <td>3.151181</td>\n",
       "      <td>5.100000e+12</td>\n",
       "      <td>0.666814</td>\n",
       "      <td>0.082881</td>\n",
       "      <td>0.083114</td>\n",
       "      <td>0.083784</td>\n",
       "      <td>0.083406</td>\n",
       "    </tr>\n",
       "    <tr>\n",
       "      <td>29</td>\n",
       "      <td>2010</td>\n",
       "      <td>3.329232</td>\n",
       "      <td>6.090000e+12</td>\n",
       "      <td>0.666819</td>\n",
       "      <td>0.082881</td>\n",
       "      <td>0.083114</td>\n",
       "      <td>0.083779</td>\n",
       "      <td>0.083406</td>\n",
       "    </tr>\n",
       "    <tr>\n",
       "      <td>30</td>\n",
       "      <td>2011</td>\n",
       "      <td>3.524468</td>\n",
       "      <td>7.550000e+12</td>\n",
       "      <td>0.100004</td>\n",
       "      <td>0.100023</td>\n",
       "      <td>0.598416</td>\n",
       "      <td>0.101283</td>\n",
       "      <td>0.100274</td>\n",
       "    </tr>\n",
       "    <tr>\n",
       "      <td>31</td>\n",
       "      <td>2012</td>\n",
       "      <td>3.560968</td>\n",
       "      <td>8.530000e+12</td>\n",
       "      <td>0.100004</td>\n",
       "      <td>0.100023</td>\n",
       "      <td>0.598395</td>\n",
       "      <td>0.101305</td>\n",
       "      <td>0.100275</td>\n",
       "    </tr>\n",
       "    <tr>\n",
       "      <td>32</td>\n",
       "      <td>2013</td>\n",
       "      <td>3.663645</td>\n",
       "      <td>9.570000e+12</td>\n",
       "      <td>0.599083</td>\n",
       "      <td>0.100005</td>\n",
       "      <td>0.100655</td>\n",
       "      <td>0.100023</td>\n",
       "      <td>0.100233</td>\n",
       "    </tr>\n",
       "    <tr>\n",
       "      <td>33</td>\n",
       "      <td>2014</td>\n",
       "      <td>3.758850</td>\n",
       "      <td>1.050000e+13</td>\n",
       "      <td>0.200000</td>\n",
       "      <td>0.200000</td>\n",
       "      <td>0.200000</td>\n",
       "      <td>0.200000</td>\n",
       "      <td>0.200000</td>\n",
       "    </tr>\n",
       "    <tr>\n",
       "      <td>34</td>\n",
       "      <td>2015</td>\n",
       "      <td>3.870697</td>\n",
       "      <td>1.110000e+13</td>\n",
       "      <td>0.596414</td>\n",
       "      <td>0.100008</td>\n",
       "      <td>0.100008</td>\n",
       "      <td>0.102422</td>\n",
       "      <td>0.101148</td>\n",
       "    </tr>\n",
       "    <tr>\n",
       "      <td>35</td>\n",
       "      <td>2016</td>\n",
       "      <td>3.988837</td>\n",
       "      <td>1.120000e+13</td>\n",
       "      <td>0.200000</td>\n",
       "      <td>0.200000</td>\n",
       "      <td>0.200000</td>\n",
       "      <td>0.200000</td>\n",
       "      <td>0.200000</td>\n",
       "    </tr>\n",
       "    <tr>\n",
       "      <td>36</td>\n",
       "      <td>2017</td>\n",
       "      <td>4.183811</td>\n",
       "      <td>1.230000e+13</td>\n",
       "      <td>0.100043</td>\n",
       "      <td>0.599705</td>\n",
       "      <td>0.100169</td>\n",
       "      <td>0.100014</td>\n",
       "      <td>0.100069</td>\n",
       "    </tr>\n",
       "    <tr>\n",
       "      <td>37</td>\n",
       "      <td>2018</td>\n",
       "      <td>4.227258</td>\n",
       "      <td>1.390000e+13</td>\n",
       "      <td>0.506295</td>\n",
       "      <td>0.272260</td>\n",
       "      <td>0.073604</td>\n",
       "      <td>0.074063</td>\n",
       "      <td>0.073779</td>\n",
       "    </tr>\n",
       "  </tbody>\n",
       "</table>\n",
       "</div>"
      ],
      "text/plain": [
       "    Year       PPP           GDP  vector_1  vector_2  vector_3  vector_4  \\\n",
       "0   1981  1.408056  1.960000e+11  0.100003  0.100004  0.100066  0.100020   \n",
       "1   1982  1.324266  2.050000e+11  0.200000  0.200000  0.200000  0.200000   \n",
       "2   1983  1.289093  2.310000e+11  0.092599  0.552755  0.166161  0.095321   \n",
       "3   1984  1.305713  2.600000e+11  0.100043  0.599702  0.100172  0.100015   \n",
       "4   1985  1.394914  3.090000e+11  0.082920  0.350074  0.399832  0.083997   \n",
       "5   1986  1.431230  3.010000e+11  0.100043  0.599706  0.100168  0.100014   \n",
       "6   1987  1.467670  2.730000e+11  0.200000  0.200000  0.200000  0.200000   \n",
       "7   1988  1.589320  3.120000e+11  0.100043  0.599704  0.100169  0.100014   \n",
       "8   1989  1.660909  3.480000e+11  0.267549  0.082896  0.482542  0.083702   \n",
       "9   1990  1.692148  3.610000e+11  0.200000  0.200000  0.200000  0.200000   \n",
       "10  1991  1.746699  3.830000e+11  0.200000  0.200000  0.200000  0.200000   \n",
       "11  1992  1.847653  4.270000e+11  0.100003  0.100004  0.100066  0.100020   \n",
       "12  1993  2.078978  4.450000e+11  0.077464  0.073236  0.230987  0.077500   \n",
       "13  1994  2.455173  5.640000e+11  0.599077  0.100005  0.100662  0.100023   \n",
       "14  1995  2.733376  7.350000e+11  0.088975  0.085419  0.085452  0.087372   \n",
       "15  1996  2.858882  8.640000e+11  0.151969  0.153923  0.074708  0.074724   \n",
       "16  1997  2.855852  9.620000e+11  0.666820  0.082881  0.083114  0.083779   \n",
       "17  1998  2.798643  1.030000e+12  0.200000  0.200000  0.200000  0.200000   \n",
       "18  1999  2.723965  1.090000e+12  0.100004  0.100023  0.598393  0.101306   \n",
       "19  2000  2.719364  1.210000e+12  0.079377  0.207023  0.076489  0.077989   \n",
       "20  2001  2.715469  1.340000e+12  0.100003  0.100004  0.100066  0.100020   \n",
       "21  2002  2.689281  1.470000e+12  0.093425  0.080196  0.102873  0.082508   \n",
       "22  2003  2.708980  1.660000e+12  0.082981  0.076759  0.098497  0.079952   \n",
       "23  2004  2.821351  1.960000e+12  0.082920  0.358420  0.083097  0.082907   \n",
       "24  2005  2.842933  2.290000e+12  0.100004  0.100023  0.598410  0.101290   \n",
       "25  2006  2.867778  2.750000e+12  0.200000  0.200000  0.200000  0.200000   \n",
       "26  2007  3.009186  3.550000e+12  0.100043  0.599705  0.100169  0.100014   \n",
       "27  2008  3.181871  4.590000e+12  0.599080  0.100005  0.100659  0.100023   \n",
       "28  2009  3.151181  5.100000e+12  0.666814  0.082881  0.083114  0.083784   \n",
       "29  2010  3.329232  6.090000e+12  0.666819  0.082881  0.083114  0.083779   \n",
       "30  2011  3.524468  7.550000e+12  0.100004  0.100023  0.598416  0.101283   \n",
       "31  2012  3.560968  8.530000e+12  0.100004  0.100023  0.598395  0.101305   \n",
       "32  2013  3.663645  9.570000e+12  0.599083  0.100005  0.100655  0.100023   \n",
       "33  2014  3.758850  1.050000e+13  0.200000  0.200000  0.200000  0.200000   \n",
       "34  2015  3.870697  1.110000e+13  0.596414  0.100008  0.100008  0.102422   \n",
       "35  2016  3.988837  1.120000e+13  0.200000  0.200000  0.200000  0.200000   \n",
       "36  2017  4.183811  1.230000e+13  0.100043  0.599705  0.100169  0.100014   \n",
       "37  2018  4.227258  1.390000e+13  0.506295  0.272260  0.073604  0.074063   \n",
       "\n",
       "    vector_5  \n",
       "0   0.599906  \n",
       "1   0.200000  \n",
       "2   0.093163  \n",
       "3   0.100069  \n",
       "4   0.083177  \n",
       "5   0.100069  \n",
       "6   0.200000  \n",
       "7   0.100069  \n",
       "8   0.083311  \n",
       "9   0.200000  \n",
       "10  0.200000  \n",
       "11  0.599907  \n",
       "12  0.540812  \n",
       "13  0.100233  \n",
       "14  0.652782  \n",
       "15  0.544675  \n",
       "16  0.083406  \n",
       "17  0.200000  \n",
       "18  0.100275  \n",
       "19  0.559122  \n",
       "20  0.599907  \n",
       "21  0.640998  \n",
       "22  0.661811  \n",
       "23  0.392656  \n",
       "24  0.100275  \n",
       "25  0.200000  \n",
       "26  0.100069  \n",
       "27  0.100233  \n",
       "28  0.083406  \n",
       "29  0.083406  \n",
       "30  0.100274  \n",
       "31  0.100275  \n",
       "32  0.100233  \n",
       "33  0.200000  \n",
       "34  0.101148  \n",
       "35  0.200000  \n",
       "36  0.100069  \n",
       "37  0.073779  "
      ]
     },
     "execution_count": 4,
     "metadata": {},
     "output_type": "execute_result"
    }
   ],
   "source": [
    "X=china.drop('Exchange',axis=1)\n",
    "X"
   ]
  },
  {
   "cell_type": "code",
   "execution_count": 10,
   "metadata": {},
   "outputs": [
    {
     "data": {
      "text/plain": [
       "0     1.704542\n",
       "1     1.892542\n",
       "2     1.975675\n",
       "3     2.320042\n",
       "4     2.936658\n",
       "5     3.452792\n",
       "6     3.722100\n",
       "7     3.722100\n",
       "8     3.765108\n",
       "9     4.783208\n",
       "10    5.323392\n",
       "11    5.514592\n",
       "12    5.761958\n",
       "13    8.618743\n",
       "14    8.351417\n",
       "15    8.314175\n",
       "16    8.289817\n",
       "17    8.278958\n",
       "18    8.278250\n",
       "19    8.278504\n",
       "20    8.277068\n",
       "21    8.276957\n",
       "22    8.277037\n",
       "23    8.276801\n",
       "24    8.194317\n",
       "25    7.973438\n",
       "26    7.607532\n",
       "27    6.948655\n",
       "28    6.831416\n",
       "29    6.770269\n",
       "30    6.461461\n",
       "31    6.312333\n",
       "32    6.195758\n",
       "33    6.143434\n",
       "34    6.227489\n",
       "35    6.644478\n",
       "36    6.758755\n",
       "37    6.615957\n",
       "Name: Exchange, dtype: float64"
      ]
     },
     "execution_count": 10,
     "metadata": {},
     "output_type": "execute_result"
    }
   ],
   "source": [
    "y=china['Exchange']\n",
    "y"
   ]
  },
  {
   "cell_type": "code",
   "execution_count": 11,
   "metadata": {},
   "outputs": [],
   "source": [
    "from sklearn.model_selection import train_test_split\n",
    "X_train, X_test, y_train, y_test = train_test_split(X,y, test_size=0.2, random_state=0)"
   ]
  },
  {
   "cell_type": "markdown",
   "metadata": {},
   "source": [
    "### Linear Regression"
   ]
  },
  {
   "cell_type": "code",
   "execution_count": 12,
   "metadata": {},
   "outputs": [
    {
     "data": {
      "text/plain": [
       "LinearRegression()"
      ]
     },
     "execution_count": 12,
     "metadata": {},
     "output_type": "execute_result"
    }
   ],
   "source": [
    "from sklearn.linear_model import LinearRegression\n",
    "lchnmodel=LinearRegression()\n",
    "lchnmodel.fit(X_train,y_train)"
   ]
  },
  {
   "cell_type": "code",
   "execution_count": 13,
   "metadata": {},
   "outputs": [
    {
     "data": {
      "text/plain": [
       "array([7.76397238, 7.53774599, 9.05121657, 8.91597439, 4.61229381,\n",
       "       8.02858284, 8.24000093, 4.40652115])"
      ]
     },
     "execution_count": 13,
     "metadata": {},
     "output_type": "execute_result"
    }
   ],
   "source": [
    "y_pred=lchnmodel.predict(X_test)\n",
    "y_pred"
   ]
  },
  {
   "cell_type": "code",
   "execution_count": 14,
   "metadata": {},
   "outputs": [
    {
     "name": "stdout",
     "output_type": "stream",
     "text": [
      "0.6991693717867463\n"
     ]
    }
   ],
   "source": [
    "from sklearn.metrics import mean_squared_error\n",
    "lchnmodel_rmse = np.sqrt(mean_squared_error(y_test,y_pred))\n",
    "print(lchnmodel_rmse)"
   ]
  },
  {
   "cell_type": "code",
   "execution_count": 15,
   "metadata": {},
   "outputs": [
    {
     "name": "stdout",
     "output_type": "stream",
     "text": [
      "0.6679828544376452\n"
     ]
    }
   ],
   "source": [
    "from sklearn import metrics\n",
    "print(metrics.mean_absolute_error(y_test,y_pred))"
   ]
  },
  {
   "cell_type": "code",
   "execution_count": 16,
   "metadata": {},
   "outputs": [
    {
     "name": "stdout",
     "output_type": "stream",
     "text": [
      "Mean Absolute Error: 0.67 degrees.\n"
     ]
    }
   ],
   "source": [
    "# Calculate the absolute errors\n",
    "errors = abs(y_pred - y_test)\n",
    "# Print out the mean absolute error (mae)\n",
    "print('Mean Absolute Error:', round(np.mean(errors), 2), 'degrees.')"
   ]
  },
  {
   "cell_type": "code",
   "execution_count": 17,
   "metadata": {},
   "outputs": [
    {
     "name": "stdout",
     "output_type": "stream",
     "text": [
      "Accuracy: 90.14 %.\n"
     ]
    }
   ],
   "source": [
    "# Calculate mean absolute percentage error (MAPE)\n",
    "mape = 100 * (errors / y_test)\n",
    "# Calculate and display accuracy\n",
    "accuracy = 100 - np.mean(mape)\n",
    "print('Accuracy:', round(accuracy, 2), '%.')"
   ]
  },
  {
   "cell_type": "markdown",
   "metadata": {},
   "source": [
    "### Random Forest"
   ]
  },
  {
   "cell_type": "code",
   "execution_count": 18,
   "metadata": {},
   "outputs": [
    {
     "data": {
      "text/plain": [
       "RandomForestRegressor(n_estimators=1000, random_state=42)"
      ]
     },
     "execution_count": 18,
     "metadata": {},
     "output_type": "execute_result"
    }
   ],
   "source": [
    "from sklearn.ensemble import RandomForestRegressor\n",
    "rfchnmodel=RandomForestRegressor(n_estimators = 1000, random_state = 42)\n",
    "rfchnmodel.fit(X_train,y_train)"
   ]
  },
  {
   "cell_type": "code",
   "execution_count": 23,
   "metadata": {},
   "outputs": [
    {
     "data": {
      "text/plain": [
       "array([8.02446181, 6.74832256, 8.24570596, 7.90624515, 5.71259611,\n",
       "       8.22998091, 7.76843605, 4.58454829])"
      ]
     },
     "execution_count": 23,
     "metadata": {},
     "output_type": "execute_result"
    }
   ],
   "source": [
    "y_pred_rf=rfchnmodel.predict(X_test)\n",
    "y_pred_rf"
   ]
  },
  {
   "cell_type": "code",
   "execution_count": 20,
   "metadata": {},
   "outputs": [
    {
     "name": "stdout",
     "output_type": "stream",
     "text": [
      "0.32515970894842194\n"
     ]
    }
   ],
   "source": [
    "from sklearn.metrics import mean_squared_error\n",
    "rfchnmodel_rmse = np.sqrt(mean_squared_error(y_test,y_pred))\n",
    "print(rfchnmodel_rmse)"
   ]
  },
  {
   "cell_type": "code",
   "execution_count": 21,
   "metadata": {},
   "outputs": [
    {
     "data": {
      "text/plain": [
       "array([0.30381059, 0.31472197, 0.34906254, 0.00679984, 0.00731613,\n",
       "       0.00448945, 0.00782436, 0.00597512])"
      ]
     },
     "execution_count": 21,
     "metadata": {},
     "output_type": "execute_result"
    }
   ],
   "source": [
    "rfchnmodel.feature_importances_"
   ]
  },
  {
   "cell_type": "code",
   "execution_count": 24,
   "metadata": {},
   "outputs": [
    {
     "name": "stdout",
     "output_type": "stream",
     "text": [
      "Mean Absolute Error: 0.67 degrees.\n"
     ]
    }
   ],
   "source": [
    "# Calculate the absolute errors\n",
    "errors_rf = abs(y_pred_rf - y_test)\n",
    "# Print out the mean absolute error (mae)\n",
    "print('Mean Absolute Error:', round(np.mean(errors), 2), 'degrees.')"
   ]
  },
  {
   "cell_type": "code",
   "execution_count": 25,
   "metadata": {},
   "outputs": [
    {
     "name": "stdout",
     "output_type": "stream",
     "text": [
      "Accuracy: 96.38 %.\n"
     ]
    }
   ],
   "source": [
    "# Calculate mean absolute percentage error (MAPE)\n",
    "mape = 100 * (errors_rf / y_test)\n",
    "# Calculate and display accuracy\n",
    "accuracy = 100 - np.mean(mape)\n",
    "print('Accuracy:', round(accuracy, 2), '%.')\n"
   ]
  },
  {
   "cell_type": "markdown",
   "metadata": {},
   "source": [
    "### Ridge Regression"
   ]
  },
  {
   "cell_type": "code",
   "execution_count": 38,
   "metadata": {},
   "outputs": [
    {
     "name": "stderr",
     "output_type": "stream",
     "text": [
      "C:\\Users\\RADHIKA\\Anaconda3\\lib\\site-packages\\sklearn\\linear_model\\_ridge.py:148: LinAlgWarning: Ill-conditioned matrix (rcond=1.69673e-29): result may not be accurate.\n",
      "  overwrite_a=True).T\n"
     ]
    },
    {
     "data": {
      "text/plain": [
       "Ridge(alpha=0.01)"
      ]
     },
     "execution_count": 38,
     "metadata": {},
     "output_type": "execute_result"
    }
   ],
   "source": [
    "from sklearn.linear_model import Ridge\n",
    "ridge = Ridge(alpha=0.01)\n",
    "ridge.fit(X_train, y_train) "
   ]
  },
  {
   "cell_type": "code",
   "execution_count": 40,
   "metadata": {},
   "outputs": [
    {
     "name": "stdout",
     "output_type": "stream",
     "text": [
      "0.4707328070854407\n",
      "0.9549766034864884\n",
      "0.6865018218915929\n",
      "0.6689056011132031\n"
     ]
    }
   ],
   "source": [
    "from sklearn.metrics import r2_score\n",
    "pred_train_rr= ridge.predict(X_train)\n",
    "print(np.sqrt(mean_squared_error(y_train,pred_train_rr)))\n",
    "print(r2_score(y_train, pred_train_rr))\n",
    "\n",
    "pred_test_rr= ridge.predict(X_test)\n",
    "print(np.sqrt(mean_squared_error(y_test,pred_test_rr))) \n",
    "print(r2_score(y_test, pred_test_rr))"
   ]
  },
  {
   "cell_type": "code",
   "execution_count": 42,
   "metadata": {},
   "outputs": [
    {
     "name": "stdout",
     "output_type": "stream",
     "text": [
      "Mean Absolute Error: 0.67 degrees.\n"
     ]
    }
   ],
   "source": [
    "# Calculate the absolute errors\n",
    "errors_ridge = abs(pred_test_rr - y_test)\n",
    "# Print out the mean absolute error (mae)\n",
    "print('Mean Absolute Error:', round(np.mean(errors), 2), 'degrees.')"
   ]
  },
  {
   "cell_type": "code",
   "execution_count": 43,
   "metadata": {},
   "outputs": [
    {
     "name": "stdout",
     "output_type": "stream",
     "text": [
      "Accuracy: 89.81 %.\n"
     ]
    }
   ],
   "source": [
    "# Calculate mean absolute percentage error (MAPE)\n",
    "mape = 100 * (errors_ridge / pred_test_rr)\n",
    "# Calculate and display accuracy\n",
    "accuracy = 100 - np.mean(mape)\n",
    "print('Accuracy:', round(accuracy, 2), '%.')\n"
   ]
  },
  {
   "cell_type": "code",
   "execution_count": 44,
   "metadata": {},
   "outputs": [],
   "source": [
    "import pickle\n",
    "pickle.dump(rfchnmodel,open('rf_chn_model.pkl','wb'))"
   ]
  },
  {
   "cell_type": "code",
   "execution_count": null,
   "metadata": {},
   "outputs": [],
   "source": []
  }
 ],
 "metadata": {
  "kernelspec": {
   "display_name": "Python 3",
   "language": "python",
   "name": "python3"
  },
  "language_info": {
   "codemirror_mode": {
    "name": "ipython",
    "version": 3
   },
   "file_extension": ".py",
   "mimetype": "text/x-python",
   "name": "python",
   "nbconvert_exporter": "python",
   "pygments_lexer": "ipython3",
   "version": "3.7.4"
  }
 },
 "nbformat": 4,
 "nbformat_minor": 2
}
